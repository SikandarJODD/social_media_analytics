{
  "cells": [
    {
      "cell_type": "markdown",
      "source": [
        "# Homework 7 - Image Generation\n",
        "\n",
        "This notebook provides some skeleton code to get you started on the homework. Add in your own code and markdown cells to answer the homework questions. If you want to submit the notebook as a PDF, make sure your code and markdowns are clear and concise to make grading easy for the TAs.\n",
        "\n",
        "This notebook can be opened in Colab\n",
        "\n",
        "[![Open In Colab](https://colab.research.google.com/assets/colab-badge.svg)](https://colab.research.google.com/github/zlisto/social_media_analytics/blob/main/HW7_ImageGeneration.ipynb)\n",
        "\n",
        "\n",
        "Before starting, select \"Runtime->Factory reset runtime\" to start with your directories and environment in the base state.\n",
        "\n",
        "If you want to save changes to the notebook, select \"File->Save a copy in Drive\" from the top menu in Colab. This will save the notebook in your Google Drive.\n",
        "\n",
        "For all plots, make sure your axes have nice labels with easy to read fontsizes, otherwise points will be deducted.\n",
        "\n",
        "The OpenAI API calls to do this homework cost approximately $0.21.\n"
      ],
      "metadata": {
        "id": "ZrhcyPMPlRn0"
      },
      "id": "ZrhcyPMPlRn0"
    },
    {
      "cell_type": "markdown",
      "source": [
        "# Problem 1. (25 points) The Best Image\n",
        "\n"
      ],
      "metadata": {
        "id": "vXbC-TveUhVb"
      },
      "id": "vXbC-TveUhVb"
    },
    {
      "cell_type": "markdown",
      "source": [
        "## (6 points) 1. Generate Image Ideas\n",
        "\n",
        "Use ChatGPT to generate three different ideas for the design of a couch.  Print out each idea using the `tr.fill` function.  Save the ideas to a list called `image_prompts`."
      ],
      "metadata": {
        "id": "4GIVp8sqUXO9"
      },
      "id": "4GIVp8sqUXO9"
    },
    {
      "cell_type": "code",
      "source": [],
      "metadata": {
        "id": "exFfJ2z7Vqhx"
      },
      "id": "exFfJ2z7Vqhx",
      "execution_count": null,
      "outputs": []
    },
    {
      "cell_type": "markdown",
      "source": [
        "## (13 points) 2. Select Best Image Prompt\n",
        "\n",
        "Ask ChatGPT choose the image description in `image_prompts` that will get the most engagement on Instagram and give the explanation why.  Have ChatGPT return the answer as an HTML and display the HTML."
      ],
      "metadata": {
        "id": "r8uU9Fy8ZRzV"
      },
      "id": "r8uU9Fy8ZRzV"
    },
    {
      "cell_type": "code",
      "source": [],
      "metadata": {
        "id": "3Rbvw3rBVrVA"
      },
      "id": "3Rbvw3rBVrVA",
      "execution_count": null,
      "outputs": []
    },
    {
      "cell_type": "markdown",
      "source": [
        "## (6 points) 3. Generate Best Image\n",
        "\n",
        "Generate the image for the best image description according to ChatGPT.  Display the image."
      ],
      "metadata": {
        "id": "_motNKMJbHNn"
      },
      "id": "_motNKMJbHNn"
    },
    {
      "cell_type": "code",
      "source": [],
      "metadata": {
        "id": "1Fk9l625WHJB"
      },
      "id": "1Fk9l625WHJB",
      "execution_count": null,
      "outputs": []
    },
    {
      "cell_type": "markdown",
      "source": [
        "# Problem 2. (33 points) AI Instagram Account"
      ],
      "metadata": {
        "id": "QBUMwCN4dyfG"
      },
      "id": "QBUMwCN4dyfG"
    },
    {
      "cell_type": "markdown",
      "source": [
        "## (9 points) 1. Account Bio and Screen Name\n",
        "\n",
        "Provide an `account_description` for an Instagram account you want to create and generate its `screen_name` and `bio` with ChatGPT.   Print out the `screen_name` and `bio`.  \n",
        "\n",
        "You can be creative here.  Try to describe an account you would follow."
      ],
      "metadata": {
        "id": "VbYq0Li-Kmtv"
      },
      "id": "VbYq0Li-Kmtv"
    },
    {
      "cell_type": "code",
      "source": [],
      "metadata": {
        "id": "yg_-MDe_MnD_"
      },
      "id": "yg_-MDe_MnD_",
      "execution_count": null,
      "outputs": []
    },
    {
      "cell_type": "markdown",
      "source": [
        "## (6 points) 2. Profile Picture\n",
        "\n",
        "Use ChatGPT to generate a profile picture for the account using its `screen_name` and `bio`. Display the profile picture."
      ],
      "metadata": {
        "id": "hRgJZoKrKmCF"
      },
      "id": "hRgJZoKrKmCF"
    },
    {
      "cell_type": "code",
      "source": [],
      "metadata": {
        "id": "Cmg3x_fUKqIZ"
      },
      "id": "Cmg3x_fUKqIZ",
      "execution_count": null,
      "outputs": []
    },
    {
      "cell_type": "markdown",
      "source": [
        "## (7 points) 3. Content Ideas\n",
        "\n",
        "Use ChatGPT to generate an idea for content for this account related to April Fool's Day.  Display the idea as a nice formatted HTML."
      ],
      "metadata": {
        "id": "iou5PFR9twuy"
      },
      "id": "iou5PFR9twuy"
    },
    {
      "cell_type": "code",
      "source": [],
      "metadata": {
        "id": "GPzznkkqtzEQ"
      },
      "id": "GPzznkkqtzEQ",
      "execution_count": null,
      "outputs": []
    },
    {
      "cell_type": "markdown",
      "source": [
        "## (11 points) 4. Generate Image and Caption\n",
        "\n",
        "Generate an image and an image caption for the idea ChatGPT gave you.  Print out the caption and the image.  Optional: you can display it as an Instagram post as was done in class."
      ],
      "metadata": {
        "id": "QpE2Z57lqS2N"
      },
      "id": "QpE2Z57lqS2N"
    },
    {
      "cell_type": "code",
      "source": [],
      "metadata": {
        "id": "X3BS_HzI1xrf"
      },
      "id": "X3BS_HzI1xrf",
      "execution_count": null,
      "outputs": []
    },
    {
      "cell_type": "markdown",
      "source": [
        "# Problem 3. (42 points) Twitter to Instagram\n",
        "\n",
        "In this problem we will take content from a Twitter account and convert it into content for Instagram"
      ],
      "metadata": {
        "id": "yM2oMn4kJE9r"
      },
      "id": "yM2oMn4kJE9r"
    },
    {
      "cell_type": "markdown",
      "source": [
        "## (5 points) 1. Load Data\n",
        "\n",
        "Load the tweets from the file `\"data/oreo_sentiment.csv\"` into a dataframe `df`. Define a variable `screen_name` equal to the screen name of the creator of these tweets. Print `screen_name`."
      ],
      "metadata": {
        "id": "XDcNAkK9JSST"
      },
      "id": "XDcNAkK9JSST"
    },
    {
      "cell_type": "code",
      "source": [],
      "metadata": {
        "id": "Nhjv8IxOJKre"
      },
      "id": "Nhjv8IxOJKre",
      "execution_count": null,
      "outputs": []
    },
    {
      "cell_type": "markdown",
      "source": [
        "## (5 points) 2. Most Liked Tweet\n",
        "\n",
        "Sort `df` by `like_count` from highest to lowest and print out ONLY the  `like_count` and `text` columns of the top two most liked tweets."
      ],
      "metadata": {
        "id": "AyoIWAsxJhyY"
      },
      "id": "AyoIWAsxJhyY"
    },
    {
      "cell_type": "code",
      "source": [],
      "metadata": {
        "id": "dlNYB-U0JfSX"
      },
      "id": "dlNYB-U0JfSX",
      "execution_count": null,
      "outputs": []
    },
    {
      "cell_type": "markdown",
      "source": [
        "## (10 points) 3. Why So Popular?\n",
        "\n",
        "Ask ChatGPT to explain why it thinks the top two tweet were the most liked.  Display the answer as a nicely formatted HTML.  "
      ],
      "metadata": {
        "id": "SZwhmRVXORZI"
      },
      "id": "SZwhmRVXORZI"
    },
    {
      "cell_type": "code",
      "source": [],
      "metadata": {
        "id": "TkAWNNsLOewD"
      },
      "id": "TkAWNNsLOewD",
      "execution_count": null,
      "outputs": []
    },
    {
      "cell_type": "markdown",
      "source": [
        "## (9 points) 4. Generate Image From Top Engaging Tweet\n",
        "\n",
        "Take the most liked tweet and generate an image from it.  Print out the tweet and display the image.  \n",
        "\n",
        "Optional: you can display it as an Instagram post as was done in class.\n",
        "\n"
      ],
      "metadata": {
        "id": "qPVe0EZuKKmR"
      },
      "id": "qPVe0EZuKKmR"
    },
    {
      "cell_type": "code",
      "source": [],
      "metadata": {
        "id": "VjI-FrqrkY96"
      },
      "id": "VjI-FrqrkY96",
      "execution_count": null,
      "outputs": []
    },
    {
      "cell_type": "markdown",
      "source": [
        "## (13 points) 5. Image Idea from Top Engaging Tweets\n",
        "\n",
        "Take the top 10 most liked tweets and give them to ChatGPT in a prompt.  Tell it that these are the most liked tweets of the account and to generate a description of an image this account can post on Instagram that will be liked by its followers.  Then generate an image and an Instagram caption from the description.\n",
        "\n",
        "Print the caption and the image.  \n",
        "\n",
        "Optional: you can display it as an Instagram post as was done in class.\n",
        "\n"
      ],
      "metadata": {
        "id": "ZbHagREpkZXZ"
      },
      "id": "ZbHagREpkZXZ"
    },
    {
      "cell_type": "code",
      "source": [],
      "metadata": {
        "id": "JXFKdvEoxT3g"
      },
      "id": "JXFKdvEoxT3g",
      "execution_count": null,
      "outputs": []
    }
  ],
  "metadata": {
    "kernelspec": {
      "display_name": "Python 3 (ipykernel)",
      "language": "python",
      "name": "python3"
    },
    "language_info": {
      "codemirror_mode": {
        "name": "ipython",
        "version": 3
      },
      "file_extension": ".py",
      "mimetype": "text/x-python",
      "name": "python",
      "nbconvert_exporter": "python",
      "pygments_lexer": "ipython3",
      "version": "3.9.13"
    },
    "colab": {
      "provenance": [],
      "toc_visible": true
    }
  },
  "nbformat": 4,
  "nbformat_minor": 5
}