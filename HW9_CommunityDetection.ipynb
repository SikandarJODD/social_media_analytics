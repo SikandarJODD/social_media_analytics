{
  "cells": [
    {
      "cell_type": "markdown",
      "metadata": {
        "id": "DSg34BnrTPOW"
      },
      "source": [
        "# Homework 9\n",
        "\n",
        "This notebook provides some skeleton code to get you started on the homework. Add in your own code and markdown cells to answer the homework questions. If you want to submit the notebook as a PDF, make sure your code and markdowns are clear and concise to make grading easy for the TAs.\n",
        "\n",
        "This notebook can be opened in Colab\n",
        "\n",
        "[![Open In Colab](https://colab.research.google.com/assets/colab-badge.svg)](https://colab.research.google.com/github/zlisto/social_media_analytics/blob/main/HW9_CommunityDetection.ipynb)\n",
        "\n",
        "\n",
        "Before starting, select \"Runtime->Factory reset runtime\" to start with your directories and environment in the base state.\n",
        "\n",
        "If you want to save changes to the notebook, select \"File->Save a copy in Drive\" from the top menu in Colab. This will save the notebook in your Google Drive.\n",
        "\n",
        "For all plots, make sure your axes have nice labels with easy to read fontsizes, otherwise points will be deducted."
      ]
    },
    {
      "cell_type": "markdown",
      "metadata": {
        "id": "vaeP5GwsTPOb"
      },
      "source": [
        "# Clones, Installs, and Imports\n"
      ]
    },
    {
      "cell_type": "code",
      "source": [],
      "metadata": {
        "id": "F-fu0bC9c3N3"
      },
      "execution_count": null,
      "outputs": []
    },
    {
      "cell_type": "markdown",
      "metadata": {
        "id": "EcsuMkUhTPOn"
      },
      "source": [
        "# Problem 1. (42 points) Network Based Communities\n",
        "\n"
      ]
    },
    {
      "cell_type": "markdown",
      "metadata": {
        "id": "CJYRcYhLTPOn"
      },
      "source": [
        "## (4 points) 1. Load Network Data\n",
        "\n",
        "Load the following network in the file `\"data/friends_network_realDonaldTrump.pickle\"` into a variable `G`.  Then load the nodes in `G` into a dataframe `df` with a column named `\"username\"` as the node name.  Print out the `head` of `df`."
      ]
    },
    {
      "cell_type": "code",
      "source": [],
      "metadata": {
        "id": "Ujl1z8l-Ye4Q"
      },
      "execution_count": null,
      "outputs": []
    },
    {
      "cell_type": "markdown",
      "metadata": {
        "id": "0w6t07UwTPOo"
      },
      "source": [
        "## (15 points) 2. Find the Best K with Modularity\n",
        "\n",
        "Calculate spectral clustering communities for each value of `k` between 2 and 11 using the appropriate library function. Plot the modularity of each set of communities versus `k` using a line graph. Label the x-axis as 'Number of communities (k)' and the y-axis as 'Modularity'. Determine which value of `k` yields the highest modularity and print out your answer.\n"
      ]
    },
    {
      "cell_type": "code",
      "source": [],
      "metadata": {
        "id": "TNnLVbznYeOv"
      },
      "execution_count": null,
      "outputs": []
    },
    {
      "cell_type": "markdown",
      "metadata": {
        "id": "H_8b3qD8TPOp"
      },
      "source": [
        "## (10 points) 3. Find Spectral Clustering Communites with k = 3\n",
        "\n",
        "Find the spectral clustering communities in graph `G` using the `spectral_communities` function with `k=3`, and save the result to a dataframe named `df_spec`.\n",
        "\n",
        "Merge `df_spec` with another dataframe `df` on the `\"username\"` column. Before merging, you will need to rename the `\"screen_name\"` column in `df_spec` to `\"username\"`.\n",
        "\n",
        "Create a count plot of the size of each community. Ensure the axes are clearly labeled, with the x-axis titled 'Spectral Community' and the y-axis titled 'Size'.\n"
      ]
    },
    {
      "cell_type": "code",
      "source": [],
      "metadata": {
        "id": "RFb_edgSYf4f"
      },
      "execution_count": null,
      "outputs": []
    },
    {
      "cell_type": "markdown",
      "metadata": {
        "id": "9I4CtpWZTPOs"
      },
      "source": [
        "## (5 points) 4. Draw Network Communities\n",
        "\n",
        "Draw the network graph with nodes colored according to their spectral clustering community membership. Additionally, display the username associated with each node directly on the plot.\n"
      ]
    },
    {
      "cell_type": "code",
      "source": [],
      "metadata": {
        "id": "kSZhCJnPYhdG"
      },
      "execution_count": null,
      "outputs": []
    },
    {
      "cell_type": "markdown",
      "metadata": {
        "id": "_TIi1u3HTPOq"
      },
      "source": [
        "## (4 points)  5. Merge Following Information with Community Information\n",
        "\n",
        "Load the file `\"data/TwFollow/TwFollow_realDonaldTrump_following.csv\"`, which contains information about the people the account follows, into a dataframe named `df_f`. Then, merge `df_f` with dataframe `df` on the `\"username\"` column. Print out the head of the merged dataframe `df`.\n",
        "\n"
      ]
    },
    {
      "cell_type": "code",
      "source": [],
      "metadata": {
        "id": "Ft-h27xHYkap"
      },
      "execution_count": null,
      "outputs": []
    },
    {
      "cell_type": "markdown",
      "metadata": {
        "id": "xAvlx2eGTPOr"
      },
      "source": [
        "## (4 points) 6. Community Analysis\n",
        "\n",
        "Feed the text information of the users in each community to the AI and have it describe the community, give the community a title, and identify representative members of the community.\n",
        "\n"
      ]
    },
    {
      "cell_type": "code",
      "source": [],
      "metadata": {
        "id": "_0kAcPLgZBQl"
      },
      "execution_count": null,
      "outputs": []
    },
    {
      "cell_type": "markdown",
      "source": [
        "# Problem 2. (36 points) Text Based Communities"
      ],
      "metadata": {
        "id": "Sp7h8JLMPcN5"
      }
    },
    {
      "cell_type": "markdown",
      "source": [
        "## (2 points) 1. Load Following Data\n",
        "\n",
        "Load the information about the users followed by the target user from the file `\"data/TwFollow/TwFollow_realDonaldTrump_following.csv\"` into a dataframe named `df`. Print out the head of `df`.\n"
      ],
      "metadata": {
        "id": "8XTUjbfePjar"
      }
    },
    {
      "cell_type": "code",
      "source": [],
      "metadata": {
        "id": "YWUpcvWxY_11"
      },
      "execution_count": null,
      "outputs": []
    },
    {
      "cell_type": "markdown",
      "source": [
        "## (10 points) 2. Embed Text Data\n",
        "\n",
        "Combine the `\"bio\"`, `\"location\"`, `\"username\"`, and `\"name\"` fields into a single string and name this concatenated string `\"text_data\"`. Embed this using the OpenAI Embeddings model. Assign the resulting embedding to the variable `embedding_text`.\n"
      ],
      "metadata": {
        "id": "2kCGp2W6Pqhb"
      }
    },
    {
      "cell_type": "code",
      "source": [],
      "metadata": {
        "id": "diyDp6gUY91b"
      },
      "execution_count": null,
      "outputs": []
    },
    {
      "cell_type": "markdown",
      "source": [
        "## (10 points) 3. Low-Dimensional Embedding\n",
        "\n",
        "Embed `embedding_text` into two dimensions using the UMAP algorithm. Add columns `\"umap_x\"` and `\"umap_y\"` to the dataframe `df`, representing the x and y coordinates from the UMAP output for each user.\n"
      ],
      "metadata": {
        "id": "RqwUMQJPPvLt"
      }
    },
    {
      "cell_type": "code",
      "source": [],
      "metadata": {
        "id": "8snJX6gQY8_z"
      },
      "execution_count": null,
      "outputs": []
    },
    {
      "cell_type": "markdown",
      "source": [
        "## (10 points) 4. Community Detection\n",
        "\n",
        "Use K-Means clustering to divide the UMAP embeddings into three communities. Add this classification as a new column named `\"community_text\"` to the dataframe `df`. Then, create a count plot to visualize the size of each community.\n"
      ],
      "metadata": {
        "id": "XLCjJEBFP0B_"
      }
    },
    {
      "cell_type": "code",
      "source": [],
      "metadata": {
        "id": "XllV27zKY8iq"
      },
      "execution_count": null,
      "outputs": []
    },
    {
      "cell_type": "markdown",
      "source": [
        "## (4 points) 5. Analyze Communities\n",
        "\n",
        "Feed the text information for all the users in each community to the AI, and have it provide a description, title, and representative members for each community. Return your answers in the form of an HTML table and display it. Perform this analysis for each community.\n"
      ],
      "metadata": {
        "id": "6qvLkgNTP6Ei"
      }
    },
    {
      "cell_type": "code",
      "source": [],
      "metadata": {
        "id": "oUb2eCqtY7ur"
      },
      "execution_count": null,
      "outputs": []
    },
    {
      "cell_type": "markdown",
      "source": [
        "# Problem 3. (22 points) AI Based Communities"
      ],
      "metadata": {
        "id": "GtkMJ7KYP_Lm"
      }
    },
    {
      "cell_type": "markdown",
      "source": [
        "## (2 points) 1. Load Following Data\n",
        "\n",
        "Load the information for the users followed by the target user from the file `\"data/TwFollow/TwFollow_realDonaldTrump_following.csv\"` into a dataframe named `df`. Print out the head of `df`.\n"
      ],
      "metadata": {
        "id": "YLdIV8IiTZpK"
      }
    },
    {
      "cell_type": "code",
      "source": [],
      "metadata": {
        "id": "QZKBxdj7Y65p"
      },
      "execution_count": null,
      "outputs": []
    },
    {
      "cell_type": "markdown",
      "source": [
        "## (10 points) 2. Community Detection and Analysis with AI\n",
        "\n",
        "Feed the text information for all the users (`\"username\"`, `\"name\"`, `\"followers_count\"`, `\"location\"`, `\"bio\"`) combined into one large string to the AI, and have it provide the title, description, and representative members for each community. Return your answer as an HTML table and display it. Assign this HTML string to a variable named `community_descriptions`.\n"
      ],
      "metadata": {
        "id": "bJliNzA-QC8U"
      }
    },
    {
      "cell_type": "code",
      "source": [],
      "metadata": {
        "id": "cUrCzmNEVtjV"
      },
      "execution_count": null,
      "outputs": []
    },
    {
      "cell_type": "markdown",
      "source": [
        "## (4 points) 3. Targeted Tweet\n",
        "\n",
        "Choose a topic and have the AI craft a tweet designed to convince users identified with the communities in `community_descriptions` to support your chosen topic.\n",
        "Display the tweet using the `display_tweet` function.\n",
        "\n",
        "You can use the example topic from the lecture (\"You should buy a Tesla car.\") and observe how the tweet changes when targeting different users.\n"
      ],
      "metadata": {
        "id": "j_tBlhGWQJy1"
      }
    },
    {
      "cell_type": "code",
      "source": [],
      "metadata": {
        "id": "Oj8zL0p1Vssd"
      },
      "execution_count": null,
      "outputs": []
    },
    {
      "cell_type": "markdown",
      "source": [
        "## (6 points) 4. Targeted TikTok Video\n",
        "\n",
        "For the same `topic` and target user, have the AI craft a script for a TikTok video. The script should include narration for each scene aimed at convincing the user identified with the communities in `community_descriptions` to support your chosen `topic`. Return the script in an HTML table format with columns labeled \"scene\", \"description\", \"narration\", representing each part of the video. Display this HTML table to review your video script.\n"
      ],
      "metadata": {
        "id": "rQyy-TXUQRZl"
      }
    },
    {
      "cell_type": "code",
      "source": [],
      "metadata": {
        "id": "Rd1iXZFrVrpm"
      },
      "execution_count": null,
      "outputs": []
    },
    {
      "cell_type": "markdown",
      "source": [
        "## (0 points) 5. Create Video (Optional)\n",
        "\n",
        "If you wish, create a video based on the AI-generated targeted script. If you believe your video is compelling, please email it to the professor. He will select some of the best videos to showcase in class.\n"
      ],
      "metadata": {
        "id": "bMiu1gHiWpvR"
      }
    },
    {
      "cell_type": "code",
      "source": [],
      "metadata": {
        "id": "nhU-m-AKctX4"
      },
      "execution_count": null,
      "outputs": []
    }
  ],
  "metadata": {
    "colab": {
      "provenance": [],
      "toc_visible": true
    },
    "kernelspec": {
      "display_name": "Python 3 (ipykernel)",
      "language": "python",
      "name": "python3"
    },
    "language_info": {
      "codemirror_mode": {
        "name": "ipython",
        "version": 3
      },
      "file_extension": ".py",
      "mimetype": "text/x-python",
      "name": "python",
      "nbconvert_exporter": "python",
      "pygments_lexer": "ipython3",
      "version": "3.9.13"
    }
  },
  "nbformat": 4,
  "nbformat_minor": 0
}