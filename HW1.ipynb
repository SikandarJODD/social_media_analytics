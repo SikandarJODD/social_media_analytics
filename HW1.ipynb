{
 "cells": [
  {
   "cell_type": "markdown",
   "metadata": {
    "id": "m6o80visLdWB"
   },
   "source": [
    "# Homework 1\n",
    "\n",
    "This notebook provides some skeleton code to get you started on the homework.  Add in your own code and markdown cells  to answer the homework questions.  If you want to submit the notebook as a PDF, make sure your code and markdowns are clear and concise to make grading easy for the TAs.  \n",
    "This notebook can be opened in Colab\n",
    "[![Open In Colab](https://colab.research.google.com/assets/colab-badge.svg)](https://colab.research.google.com/github/zlisto/social_media_analytics/blob/main/HW1.ipynb)\n",
    "\n",
    "Before starting, select \"Runtime->Factory reset runtime\" to start with your directories and environment in the base state.\n",
    "\n",
    "If you want to save changes to the notebook, select \"File->Save a copy in Drive\" from the top menu in Colab.  This will save the notebook in your Google Drive.\n"
   ]
  },
  {
   "cell_type": "markdown",
   "metadata": {
    "id": "Q2wua69hLdWF"
   },
   "source": [
    "# Clone GitHub Repository\n",
    "This will clone the repository to your machine.  This includes the code and data files.  Then change into the directory of the repository."
   ]
  },
  {
   "cell_type": "code",
   "execution_count": null,
   "metadata": {
    "colab": {
     "base_uri": "https://localhost:8080/"
    },
    "executionInfo": {
     "elapsed": 13031,
     "status": "ok",
     "timestamp": 1706038749340,
     "user": {
      "displayName": "Tauhid Zaman",
      "userId": "02209064191632366608"
     },
     "user_tz": 300
    },
    "id": "x2hwc2pFLdWH",
    "outputId": "e9123197-c9f2-4cb5-9602-56e5117157ed"
   },
   "outputs": [
    {
     "name": "stdout",
     "output_type": "stream",
     "text": [
      "Cloning into 'social_media_analytics'...\n",
      "remote: Enumerating objects: 618, done.\u001b[K\n",
      "remote: Counting objects: 100% (183/183), done.\u001b[K\n",
      "remote: Compressing objects: 100% (109/109), done.\u001b[K\n",
      "remote: Total 618 (delta 93), reused 162 (delta 73), pack-reused 435\u001b[K\n",
      "Receiving objects: 100% (618/618), 66.91 MiB | 13.11 MiB/s, done.\n",
      "Resolving deltas: 100% (325/325), done.\n",
      "Updating files: 100% (64/64), done.\n"
     ]
    }
   ],
   "source": [
    "!git clone https://github.com/zlisto/social_media_analytics\n",
    "\n",
    "import os\n",
    "os.chdir(\"social_media_analytics\")"
   ]
  },
  {
   "cell_type": "code",
   "execution_count": null,
   "metadata": {
    "colab": {
     "base_uri": "https://localhost:8080/"
    },
    "executionInfo": {
     "elapsed": 32898,
     "status": "ok",
     "timestamp": 1706038807324,
     "user": {
      "displayName": "Tauhid Zaman",
      "userId": "02209064191632366608"
     },
     "user_tz": 300
    },
    "id": "qrJI4tB4LdWE",
    "outputId": "2b4d8c49-55e4-403a-811a-a80f398f655b"
   },
   "outputs": [
    {
     "name": "stdout",
     "output_type": "stream",
     "text": [
      "\u001b[2K     \u001b[90m━━━━━━━━━━━━━━━━━━━━━━━━━━━━━━━━━━━━━━━━\u001b[0m \u001b[32m1.6/1.6 MB\u001b[0m \u001b[31m10.3 MB/s\u001b[0m eta \u001b[36m0:00:00\u001b[0m\n",
      "\u001b[2K     \u001b[90m━━━━━━━━━━━━━━━━━━━━━━━━━━━━━━━━━━━━━━━━\u001b[0m \u001b[32m58.3/58.3 kB\u001b[0m \u001b[31m6.0 MB/s\u001b[0m eta \u001b[36m0:00:00\u001b[0m\n",
      "\u001b[2K     \u001b[90m━━━━━━━━━━━━━━━━━━━━━━━━━━━━━━━━━━━━━━━━\u001b[0m \u001b[32m2.0/2.0 MB\u001b[0m \u001b[31m18.4 MB/s\u001b[0m eta \u001b[36m0:00:00\u001b[0m\n",
      "\u001b[2K     \u001b[90m━━━━━━━━━━━━━━━━━━━━━━━━━━━━━━━━━━━━━━━━\u001b[0m \u001b[32m458.9/458.9 kB\u001b[0m \u001b[31m17.0 MB/s\u001b[0m eta \u001b[36m0:00:00\u001b[0m\n",
      "\u001b[2K     \u001b[90m━━━━━━━━━━━━━━━━━━━━━━━━━━━━━━━━━━━━━━━━\u001b[0m \u001b[32m90.9/90.9 kB\u001b[0m \u001b[31m11.2 MB/s\u001b[0m eta \u001b[36m0:00:00\u001b[0m\n",
      "\u001b[?25h  Preparing metadata (setup.py) ... \u001b[?25l\u001b[?25hdone\n",
      "\u001b[2K     \u001b[90m━━━━━━━━━━━━━━━━━━━━━━━━━━━━━━━━━━━━━━━━\u001b[0m \u001b[32m2.6/2.6 MB\u001b[0m \u001b[31m25.3 MB/s\u001b[0m eta \u001b[36m0:00:00\u001b[0m\n",
      "\u001b[2K     \u001b[90m━━━━━━━━━━━━━━━━━━━━━━━━━━━━━━━━━━━━━━━━\u001b[0m \u001b[32m223.4/223.4 kB\u001b[0m \u001b[31m14.2 MB/s\u001b[0m eta \u001b[36m0:00:00\u001b[0m\n",
      "\u001b[2K     \u001b[90m━━━━━━━━━━━━━━━━━━━━━━━━━━━━━━━━━━━━━━━━\u001b[0m \u001b[32m2.2/2.2 MB\u001b[0m \u001b[31m29.4 MB/s\u001b[0m eta \u001b[36m0:00:00\u001b[0m\n",
      "\u001b[2K     \u001b[90m━━━━━━━━━━━━━━━━━━━━━━━━━━━━━━━━━━━━━━━━\u001b[0m \u001b[32m55.8/55.8 kB\u001b[0m \u001b[31m6.0 MB/s\u001b[0m eta \u001b[36m0:00:00\u001b[0m\n",
      "\u001b[2K     \u001b[90m━━━━━━━━━━━━━━━━━━━━━━━━━━━━━━━━━━━━━━━━\u001b[0m \u001b[32m75.9/75.9 kB\u001b[0m \u001b[31m9.0 MB/s\u001b[0m eta \u001b[36m0:00:00\u001b[0m\n",
      "\u001b[2K     \u001b[90m━━━━━━━━━━━━━━━━━━━━━━━━━━━━━━━━━━━━━━━━\u001b[0m \u001b[32m196.4/196.4 kB\u001b[0m \u001b[31m22.4 MB/s\u001b[0m eta \u001b[36m0:00:00\u001b[0m\n",
      "\u001b[2K     \u001b[90m━━━━━━━━━━━━━━━━━━━━━━━━━━━━━━━━━━━━━━━━\u001b[0m \u001b[32m254.1/254.1 kB\u001b[0m \u001b[31m23.6 MB/s\u001b[0m eta \u001b[36m0:00:00\u001b[0m\n",
      "\u001b[2K     \u001b[90m━━━━━━━━━━━━━━━━━━━━━━━━━━━━━━━━━━━━━━━━\u001b[0m \u001b[32m62.7/62.7 kB\u001b[0m \u001b[31m7.3 MB/s\u001b[0m eta \u001b[36m0:00:00\u001b[0m\n",
      "\u001b[2K     \u001b[90m━━━━━━━━━━━━━━━━━━━━━━━━━━━━━━━━━━━━━━━━\u001b[0m \u001b[32m76.9/76.9 kB\u001b[0m \u001b[31m9.5 MB/s\u001b[0m eta \u001b[36m0:00:00\u001b[0m\n",
      "\u001b[2K     \u001b[90m━━━━━━━━━━━━━━━━━━━━━━━━━━━━━━━━━━━━━━━━\u001b[0m \u001b[32m58.3/58.3 kB\u001b[0m \u001b[31m6.9 MB/s\u001b[0m eta \u001b[36m0:00:00\u001b[0m\n",
      "\u001b[?25h  Building wheel for umap-learn (setup.py) ... \u001b[?25l\u001b[?25hdone\n",
      "\u001b[31mERROR: pip's dependency resolver does not currently take into account all the packages that are installed. This behaviour is the source of the following dependency conflicts.\n",
      "lida 0.0.10 requires fastapi, which is not installed.\n",
      "lida 0.0.10 requires kaleido, which is not installed.\n",
      "lida 0.0.10 requires python-multipart, which is not installed.\n",
      "lida 0.0.10 requires uvicorn, which is not installed.\n",
      "llmx 0.0.15a0 requires cohere, which is not installed.\n",
      "llmx 0.0.15a0 requires tiktoken, which is not installed.\n",
      "ipython-sql 0.5.0 requires sqlalchemy>=2.0, but you have sqlalchemy 1.4.39 which is incompatible.\n",
      "tensorflow-probability 0.22.0 requires typing-extensions<4.6.0, but you have typing-extensions 4.9.0 which is incompatible.\u001b[0m\u001b[31m\n",
      "\u001b[0m"
     ]
    }
   ],
   "source": [
    "!pip install -q -r requirements.txt"
   ]
  },
  {
   "cell_type": "code",
   "execution_count": null,
   "metadata": {
    "id": "XgDkg0YALdWF"
   },
   "outputs": [],
   "source": [
    "import pandas as pd\n",
    "import seaborn as sns\n",
    "import matplotlib.pyplot as plt\n",
    "\n",
    "#this option makes it so tweets display nicely in a dataframe\n",
    "pd.set_option(\"display.max_colwidth\", None)\n",
    "\n",
    "#this code sets the font sizes for plots\n",
    "plt.rcParams.update({'axes.labelsize': 18, 'xtick.labelsize': 14, 'ytick.labelsize': 14})\n",
    "\n",
    "\n"
   ]
  },
  {
   "cell_type": "markdown",
   "metadata": {
    "id": "RBbN-z8NLdWH"
   },
   "source": [
    "## Problem 1. Keyword Tweets\n",
    "\n",
    "We will look at a set of tweets based on a keyword search.  "
   ]
  },
  {
   "cell_type": "markdown",
   "metadata": {
    "id": "KCz6d8VHLdWI"
   },
   "source": [
    "#### 1. (5 points) Load tweets\n",
    "\n",
    "Load the tweets into a dataframe and call it `df`. The tweets are in the file `\"data/HW1_keyword_tweets.csv\"`. Print the head of the dataframe."
   ]
  },
  {
   "cell_type": "code",
   "execution_count": null,
   "metadata": {
    "id": "yRjCZBbD72Dy"
   },
   "outputs": [],
   "source": []
  },
  {
   "cell_type": "markdown",
   "metadata": {
    "id": "YopOUMMbLdWJ"
   },
   "source": [
    "#### 2. (4 points) Guess the keyword\n",
    "\n",
    "Print out a random sample of five tweets.  Print out what your guess is for the keyword these tweets are based on."
   ]
  },
  {
   "cell_type": "code",
   "execution_count": null,
   "metadata": {
    "executionInfo": {
     "elapsed": 140,
     "status": "ok",
     "timestamp": 1706040224626,
     "user": {
      "displayName": "Tauhid Zaman",
      "userId": "02209064191632366608"
     },
     "user_tz": 300
    },
    "id": "AV9c80xuLdWJ"
   },
   "outputs": [],
   "source": []
  },
  {
   "cell_type": "markdown",
   "metadata": {
    "id": "UyGkH78WLdWK"
   },
   "source": [
    "#### 3. (10 points) Searching the tweets\n",
    "\n",
    "Find all tweets that contain the word \"beautiful\". Print out a random sample of the **screen name, text, and retweet** count of five of these tweets (this means select the appropriate columns and print your sample tweets)\n",
    "\n"
   ]
  },
  {
   "cell_type": "code",
   "execution_count": null,
   "metadata": {
    "executionInfo": {
     "elapsed": 170,
     "status": "ok",
     "timestamp": 1706040221111,
     "user": {
      "displayName": "Tauhid Zaman",
      "userId": "02209064191632366608"
     },
     "user_tz": 300
    },
    "id": "fOusKuTcLdWK"
   },
   "outputs": [],
   "source": []
  },
  {
   "cell_type": "markdown",
   "metadata": {
    "id": "fIISvH1cLdWL"
   },
   "source": [
    "#### 4.  (2 points) Count tweets\n",
    "\n",
    "How many tweets contain the word \"beautiful\"?\n",
    "\n"
   ]
  },
  {
   "cell_type": "code",
   "execution_count": null,
   "metadata": {
    "executionInfo": {
     "elapsed": 139,
     "status": "ok",
     "timestamp": 1706040218062,
     "user": {
      "displayName": "Tauhid Zaman",
      "userId": "02209064191632366608"
     },
     "user_tz": 300
    },
    "id": "u8g43ZJZLdWL"
   },
   "outputs": [],
   "source": []
  },
  {
   "cell_type": "markdown",
   "metadata": {
    "id": "Mir7dMjELdWL"
   },
   "source": [
    "#### 5.  (10 points) Sort the tweets\n",
    "\n",
    "Sort the tweets by like count. Print out the `like_count`, `screen name`, and `text`  of the top five tweets in descending order (only print these three columns).\n",
    "\n"
   ]
  },
  {
   "cell_type": "code",
   "execution_count": null,
   "metadata": {
    "executionInfo": {
     "elapsed": 145,
     "status": "ok",
     "timestamp": 1706040110871,
     "user": {
      "displayName": "Tauhid Zaman",
      "userId": "02209064191632366608"
     },
     "user_tz": 300
    },
    "id": "3fVVFKoqLdWL"
   },
   "outputs": [],
   "source": []
  },
  {
   "cell_type": "markdown",
   "metadata": {
    "id": "mcPTlvcBLdWM"
   },
   "source": [
    "#### 6.  (10 points) Like count means\n",
    "\n",
    "What is the mean like count of all of the tweets?  \n",
    "What is the mean like count of tweets that contain the word \"beautiful\" (this is a bit tricky)?\n",
    "\n",
    "Make sure you print out your answers.\n",
    "\n",
    "\n"
   ]
  },
  {
   "cell_type": "code",
   "execution_count": null,
   "metadata": {
    "executionInfo": {
     "elapsed": 140,
     "status": "ok",
     "timestamp": 1706040214883,
     "user": {
      "displayName": "Tauhid Zaman",
      "userId": "02209064191632366608"
     },
     "user_tz": 300
    },
    "id": "OVyi5HdoLdWM"
   },
   "outputs": [],
   "source": []
  },
  {
   "cell_type": "markdown",
   "metadata": {
    "id": "YVB69n79LdWM"
   },
   "source": [
    "## Problem 2.  User Profiles\n",
    "\n",
    "In this question we will analyze some Twitter user profiles."
   ]
  },
  {
   "cell_type": "markdown",
   "metadata": {
    "id": "wG5jgNcELdWM"
   },
   "source": [
    "#### 1. (5 points) Load profiles\n",
    "\n",
    "Load the profiles into a dataframe and call it `df_u`. The tweets are in the file `\"data/HW1_profiles.csv\"`.  Print the head of the dataframe."
   ]
  },
  {
   "cell_type": "code",
   "execution_count": null,
   "metadata": {
    "executionInfo": {
     "elapsed": 130,
     "status": "ok",
     "timestamp": 1706040120989,
     "user": {
      "displayName": "Tauhid Zaman",
      "userId": "02209064191632366608"
     },
     "user_tz": 300
    },
    "id": "nRWKx2sWLdWM"
   },
   "outputs": [],
   "source": []
  },
  {
   "cell_type": "markdown",
   "metadata": {
    "id": "ZBtgBi0DLdWM"
   },
   "source": [
    "#### 2. (10 points)   Follower count and profiles\n",
    "\n",
    "What is the mean follower count of all users?\n",
    "\n",
    "What is the mean follower count of all users whose profile description (column is called `\"description\"`) contains the word \"love\"?\n",
    "\n",
    "Print out your answers."
   ]
  },
  {
   "cell_type": "code",
   "execution_count": null,
   "metadata": {
    "executionInfo": {
     "elapsed": 162,
     "status": "ok",
     "timestamp": 1706040125713,
     "user": {
      "displayName": "Tauhid Zaman",
      "userId": "02209064191632366608"
     },
     "user_tz": 300
    },
    "id": "l1cbS3VCLdWN"
   },
   "outputs": [],
   "source": []
  },
  {
   "cell_type": "markdown",
   "metadata": {
    "id": "bb8kI1wXLdWN"
   },
   "source": [
    "# Problem 3. User Tweets"
   ]
  },
  {
   "cell_type": "markdown",
   "metadata": {
    "id": "XPhw_JWeLdWN"
   },
   "source": [
    "#### 1. (5 points) Load user tweets\n",
    "\n",
    "Load the user tweets into a dataframe and call it `df_ut`. The tweets are in the file `\"data/HW1_user_tweets.csv\"`.  Print a random sample of five tweets from the dataframe."
   ]
  },
  {
   "cell_type": "code",
   "execution_count": null,
   "metadata": {
    "executionInfo": {
     "elapsed": 157,
     "status": "ok",
     "timestamp": 1706040155453,
     "user": {
      "displayName": "Tauhid Zaman",
      "userId": "02209064191632366608"
     },
     "user_tz": 300
    },
    "id": "brPO51ceLdWN"
   },
   "outputs": [],
   "source": []
  },
  {
   "cell_type": "markdown",
   "metadata": {
    "id": "DyrwvR1HLdWN"
   },
   "source": [
    "#### 2. ( 6 points) Mean like count\n",
    "\n",
    "Calculate the mean like count of each user in the user tweets dataset.  Use the `groupby` function.\n"
   ]
  },
  {
   "cell_type": "code",
   "execution_count": null,
   "metadata": {
    "executionInfo": {
     "elapsed": 226,
     "status": "ok",
     "timestamp": 1706040210427,
     "user": {
      "displayName": "Tauhid Zaman",
      "userId": "02209064191632366608"
     },
     "user_tz": 300
    },
    "id": "8DeaELXBLdWN"
   },
   "outputs": [],
   "source": []
  },
  {
   "cell_type": "markdown",
   "metadata": {
    "id": "yLH30G1YLdWO"
   },
   "source": [
    "#### 3. ( 9 points) Barplot of like counts\n",
    "\n",
    "Make a bar plot of the like counts of each user.  Be sure to put nice, easy to read labels on the axes and a descriptive title on the plot.  For full credit, make it look like the plot in lecture.\n"
   ]
  },
  {
   "cell_type": "code",
   "execution_count": null,
   "metadata": {
    "executionInfo": {
     "elapsed": 144,
     "status": "ok",
     "timestamp": 1706040206836,
     "user": {
      "displayName": "Tauhid Zaman",
      "userId": "02209064191632366608"
     },
     "user_tz": 300
    },
    "id": "s-A4bp3gLdWO"
   },
   "outputs": [],
   "source": []
  },
  {
   "cell_type": "markdown",
   "metadata": {
    "id": "WQvNwJvILdWO"
   },
   "source": [
    "#### 4. ( 6 points) Ratioed\n",
    "\n",
    "A tweet is said to be \"ratioed\" when it has more replies than likes.  Add a column to the user tweets dataframe called `\"ratio\"` that is equal to the reply count divided by the like count.\n",
    "Use the `describe` function to print out the summary statistics of the `\"ratio\"` column.\n",
    "\n",
    "Check here for help: https://www.datasciencelearner.com/divide-two-columns-in-pandas-methods/#:~:text=The%20second%20method%20to%20divide,division%20is%20done%20column%2Dwise."
   ]
  },
  {
   "cell_type": "code",
   "execution_count": null,
   "metadata": {
    "executionInfo": {
     "elapsed": 3,
     "status": "ok",
     "timestamp": 1706040176823,
     "user": {
      "displayName": "Tauhid Zaman",
      "userId": "02209064191632366608"
     },
     "user_tz": 300
    },
    "id": "SL3-OEiVLdWO"
   },
   "outputs": [],
   "source": []
  },
  {
   "cell_type": "markdown",
   "metadata": {
    "id": "WhsGnHBdLdWO"
   },
   "source": [
    "#### 5. ( 9 points) Ratio Boxplot\n",
    "\n",
    "A boxplot shows the quantile values of data. Make a boxplot of the `\"ratio\"` column versus `\"screen_name\"` using the `boxplot` function in Seaborn.  This is similar to the `barplot` function you learned in class.   Be sure to put nice, easy to read labels on the axes and a descriptive title on the plot.\n",
    "\n",
    "Details on the `boxplot` function are here:  https://pythonbasics.org/seaborn-boxplot/\n"
   ]
  },
  {
   "cell_type": "code",
   "execution_count": null,
   "metadata": {
    "executionInfo": {
     "elapsed": 167,
     "status": "ok",
     "timestamp": 1706040183652,
     "user": {
      "displayName": "Tauhid Zaman",
      "userId": "02209064191632366608"
     },
     "user_tz": 300
    },
    "id": "U3sZDO0-LdWO"
   },
   "outputs": [],
   "source": []
  },
  {
   "cell_type": "markdown",
   "metadata": {
    "id": "n5aOlNNQLdWO"
   },
   "source": [
    "#### 6. ( 9 points) Most Ratioed Tweet\n",
    "\n",
    "Print out the screen name, ratio, reply count, like count, and text of the five tweets with the highest value of the ratio.\n"
   ]
  },
  {
   "cell_type": "code",
   "execution_count": null,
   "metadata": {
    "executionInfo": {
     "elapsed": 151,
     "status": "ok",
     "timestamp": 1706040188329,
     "user": {
      "displayName": "Tauhid Zaman",
      "userId": "02209064191632366608"
     },
     "user_tz": 300
    },
    "id": "fLH5AWmaLdWP"
   },
   "outputs": [],
   "source": []
  }
 ],
 "metadata": {
  "colab": {
   "provenance": [
    {
     "file_id": "1OPf_XAry-wsLkAQAJ8E5_XJaUj5Qj6VU",
     "timestamp": 1706040055964
    }
   ],
   "toc_visible": true
  },
  "kernelspec": {
   "display_name": "Python 3 (ipykernel)",
   "language": "python",
   "name": "python3"
  },
  "language_info": {
   "codemirror_mode": {
    "name": "ipython",
    "version": 3
   },
   "file_extension": ".py",
   "mimetype": "text/x-python",
   "name": "python",
   "nbconvert_exporter": "python",
   "pygments_lexer": "ipython3",
   "version": "3.9.13"
  }
 },
 "nbformat": 4,
 "nbformat_minor": 1
}
