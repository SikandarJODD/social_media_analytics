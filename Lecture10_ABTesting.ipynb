{
 "cells": [
  {
   "cell_type": "markdown",
   "metadata": {
    "id": "cSqGWIIuUugh"
   },
   "source": [
    "# Lecture 10 - A/B Testing\n",
    "\n",
    "This notebook will show you how to perform A/B testing on Twitter data.\n",
    "\n",
    "Below is the overview of this notebook.\n",
    "\n",
    "<ol type = 1>\n",
    "    <li> Favorite Count vs Keyword</li>\n",
    "    <ol type = 1>\n",
    "      <li> Z-test</li>\n",
    "      <li> T-test</li>\n",
    "      <li> Mann-Whitney U test</li>\n",
    "      <li> Kolmogorov- Smirnov test</li>\n",
    "      <li> Testing Multiple Hypotheses</li>\n",
    "    </ol>\n",
    "    <li> Comparing User Language</li>\n",
    "    <ol type = 1>\n",
    "      <li> Fisher Exact Test</li>\n",
    "    </ol>\n",
    "    <li> Engagement</li>\n",
    "    <li> Tweet Time</li>\n",
    "    <li> Correlation Coefficients</li>\n",
    "    <ol type = 1>\n",
    "         <li> Pearson Correlation Coefficient</li>\n",
    "        <li> Spearman Correlation Coefficient</li>\n",
    "    </ol>\n",
    "</ol>\n",
    "\n",
    "This notebook can be opened in Colab\n",
    "[![Open In Colab](https://colab.research.google.com/assets/colab-badge.svg)](https://colab.research.google.com/github/zlisto/social_media_analytics/blob/main/Lecture10_ABTesting.ipynb)\n",
    "\n",
    "Before starting, select \"Runtime->Factory reset runtime\" to start with your directories and environment in the base state.\n",
    "\n",
    "If you want to save changes to the notebook, select \"File->Save a copy in Drive\" from the top menu in Colab.  This will save the notebook in your Google Drive.\n",
    "\n",
    "\n"
   ]
  },
  {
   "cell_type": "markdown",
   "metadata": {
    "id": "pKSDBIusUugo"
   },
   "source": [
    "# Clones, installs, and imports\n"
   ]
  },
  {
   "cell_type": "markdown",
   "metadata": {
    "id": "qYIOIn7CUugp"
   },
   "source": [
    "## Clone GitHub Repository\n",
    "This will clone the repository to your machine.  This includes the code and data files.  Then change into the directory of the repository."
   ]
  },
  {
   "cell_type": "code",
   "execution_count": 2,
   "metadata": {
    "colab": {
     "base_uri": "https://localhost:8080/"
    },
    "id": "GQUHZuhOUugp",
    "outputId": "785e3fd0-5e6a-4864-8b37-73f1634eeb0b"
   },
   "outputs": [
    {
     "name": "stdout",
     "output_type": "stream",
     "text": [
      "Cloning into 'social_media_analytics'...\n",
      "remote: Enumerating objects: 2623, done.\u001b[K\n",
      "remote: Counting objects: 100% (2623/2623), done.\u001b[K\n",
      "remote: Compressing objects: 100% (2220/2220), done.\u001b[K\n",
      "remote: Total 2623 (delta 411), reused 2609 (delta 398), pack-reused 0\u001b[K\n",
      "Receiving objects: 100% (2623/2623), 173.28 MiB | 25.98 MiB/s, done.\n",
      "Resolving deltas: 100% (411/411), done.\n",
      "Updating files: 100% (1969/1969), done.\n"
     ]
    }
   ],
   "source": [
    "!git clone https://github.com/zlisto/social_media_analytics\n",
    "\n",
    "import os\n",
    "os.chdir(\"social_media_analytics\")"
   ]
  },
  {
   "cell_type": "markdown",
   "metadata": {
    "id": "hbFYqu96Uugr"
   },
   "source": [
    "## Import Packages\n",
    "\n"
   ]
  },
  {
   "cell_type": "code",
   "execution_count": 1,
   "metadata": {
    "id": "06ZqGM1RUugs"
   },
   "outputs": [],
   "source": [
    "from datetime import datetime, timedelta\n",
    "import numpy as np\n",
    "import pandas as pd\n",
    "import matplotlib.pyplot as plt\n",
    "import seaborn as sns\n",
    "from scipy import stats\n",
    "from statsmodels.stats.weightstats import ztest\n",
    "from statsmodels.stats.multitest import multipletests\n",
    "\n",
    "\n",
    "#display settings for figures\n",
    "pd.set_option(\"display.max_colwidth\", None)\n",
    "plt.rcParams.update({'axes.labelsize': 16,\n",
    "                     'xtick.labelsize': 14,\n",
    "                     'ytick.labelsize': 14})\n",
    "plt.rcParams['figure.figsize'] = [8, 6]"
   ]
  },
  {
   "cell_type": "markdown",
   "metadata": {
    "id": "i6dytvPVWaWl"
   },
   "source": [
    "# Data Processing"
   ]
  },
  {
   "cell_type": "markdown",
   "metadata": {
    "id": "XiR4CbRocy7b"
   },
   "source": [
    "## Load data\n",
    "\n",
    "The data is in `\"data/bidenharris.csv.csv\"`.  This contains tweets for several prominent Twitter users."
   ]
  },
  {
   "cell_type": "code",
   "execution_count": 2,
   "metadata": {
    "colab": {
     "base_uri": "https://localhost:8080/"
    },
    "id": "-i7TA3njcy7c",
    "outputId": "e31bffcb-1b88-4348-8fde-63c5a1521f48"
   },
   "outputs": [
    {
     "name": "stdout",
     "output_type": "stream",
     "text": [
      "dataframe has 2018 tweets\n"
     ]
    },
    {
     "data": {
      "text/plain": [
       "array(['JoeBiden', 'KamalaHarris'], dtype=object)"
      ]
     },
     "execution_count": 2,
     "metadata": {},
     "output_type": "execute_result"
    }
   ],
   "source": [
    "fname = \"data/bidenharris.csv\"\n",
    "\n",
    "df_all = pd.read_csv(fname)\n",
    "ntweets = len(df_all)\n",
    "print(f\"dataframe has {ntweets} tweets\")\n",
    "df_all.screen_name.unique()"
   ]
  },
  {
   "cell_type": "markdown",
   "metadata": {
    "id": "650NVMx7WeQh"
   },
   "source": [
    "## Add keyword indicator column\n",
    "\n",
    "We will define a list of keywords.  Then we will add a column to the dataframe called `f\"keyword_{keyword}\"` that tells us if the tweet contains the keyword.  "
   ]
  },
  {
   "cell_type": "code",
   "execution_count": null,
   "metadata": {
    "id": "rkB9WR6mYyBU"
   },
   "outputs": [],
   "source": []
  },
  {
   "cell_type": "code",
   "execution_count": 5,
   "metadata": {
    "colab": {
     "base_uri": "https://localhost:8080/",
     "height": 578
    },
    "id": "cI629HK8cy7d",
    "outputId": "63cc1d4d-6595-43d1-e24b-b8d14766714c"
   },
   "outputs": [
    {
     "name": "stdout",
     "output_type": "stream",
     "text": [
      "love: 71 tweets\n",
      "hate: 26 tweets\n",
      "jill: 41 tweets\n",
      "trump: 61 tweets\n",
      "mad: 96 tweets\n",
      "happy: 44 tweets\n"
     ]
    },
    {
     "data": {
      "text/html": [
       "<div>\n",
       "<style scoped>\n",
       "    .dataframe tbody tr th:only-of-type {\n",
       "        vertical-align: middle;\n",
       "    }\n",
       "\n",
       "    .dataframe tbody tr th {\n",
       "        vertical-align: top;\n",
       "    }\n",
       "\n",
       "    .dataframe thead th {\n",
       "        text-align: right;\n",
       "    }\n",
       "</style>\n",
       "<table border=\"1\" class=\"dataframe\">\n",
       "  <thead>\n",
       "    <tr style=\"text-align: right;\">\n",
       "      <th></th>\n",
       "      <th>tweet_id</th>\n",
       "      <th>text</th>\n",
       "      <th>language</th>\n",
       "      <th>type</th>\n",
       "      <th>bookmark_count</th>\n",
       "      <th>favorite_count</th>\n",
       "      <th>retweet_count</th>\n",
       "      <th>reply_count</th>\n",
       "      <th>view_count</th>\n",
       "      <th>created_at</th>\n",
       "      <th>...</th>\n",
       "      <th>urls</th>\n",
       "      <th>media_type</th>\n",
       "      <th>media_urls</th>\n",
       "      <th>screen_name</th>\n",
       "      <th>keyword_love</th>\n",
       "      <th>keyword_hate</th>\n",
       "      <th>keyword_jill</th>\n",
       "      <th>keyword_trump</th>\n",
       "      <th>keyword_mad</th>\n",
       "      <th>keyword_happy</th>\n",
       "    </tr>\n",
       "  </thead>\n",
       "  <tbody>\n",
       "    <tr>\n",
       "      <th>1214</th>\n",
       "      <td>1740148347539767457</td>\n",
       "      <td>In 2023, I had the opportunity to meet so many inspiring small business owners like Tracy in Georgia.\\n \\nAs we move into the new year, @POTUS and I are proud of the investments we have made to push our nation toward the strongest three years on record for small business creation. https://t.co/VF9xm8bZEi</td>\n",
       "      <td>en</td>\n",
       "      <td>Retweet</td>\n",
       "      <td>68</td>\n",
       "      <td>8153</td>\n",
       "      <td>1689</td>\n",
       "      <td>2389</td>\n",
       "      <td>513524.0</td>\n",
       "      <td>2023-12-27 18:11:11</td>\n",
       "      <td>...</td>\n",
       "      <td>NaN</td>\n",
       "      <td>video</td>\n",
       "      <td>https://video.twimg.com/amplify_video/1740148196578365440/vid/avc1/1080x1920/MX713-jXKY83d5U3.mp4?tag=16</td>\n",
       "      <td>KamalaHarris</td>\n",
       "      <td>False</td>\n",
       "      <td>False</td>\n",
       "      <td>False</td>\n",
       "      <td>False</td>\n",
       "      <td>True</td>\n",
       "      <td>False</td>\n",
       "    </tr>\n",
       "    <tr>\n",
       "      <th>1245</th>\n",
       "      <td>1736419738383781980</td>\n",
       "      <td>It was so great to see Jeremiah again after meeting him on the @JHudShow last spring.\\n\\nI cannot wait to share our interview next week — Jeremiah had a lot of questions for @SecondGentleman! https://t.co/c4CfV7AHfl</td>\n",
       "      <td>en</td>\n",
       "      <td>Retweet</td>\n",
       "      <td>41</td>\n",
       "      <td>6475</td>\n",
       "      <td>944</td>\n",
       "      <td>1255</td>\n",
       "      <td>497802.0</td>\n",
       "      <td>2023-12-17 11:15:01</td>\n",
       "      <td>...</td>\n",
       "      <td>NaN</td>\n",
       "      <td>photo</td>\n",
       "      <td>https://pbs.twimg.com/media/GBkAjHWXMAAmptS.jpg</td>\n",
       "      <td>KamalaHarris</td>\n",
       "      <td>False</td>\n",
       "      <td>False</td>\n",
       "      <td>False</td>\n",
       "      <td>False</td>\n",
       "      <td>False</td>\n",
       "      <td>False</td>\n",
       "    </tr>\n",
       "  </tbody>\n",
       "</table>\n",
       "<p>2 rows × 22 columns</p>\n",
       "</div>"
      ],
      "text/plain": [
       "                 tweet_id  \\\n",
       "1214  1740148347539767457   \n",
       "1245  1736419738383781980   \n",
       "\n",
       "                                                                                                                                                                                                                                                                                                                   text  \\\n",
       "1214  In 2023, I had the opportunity to meet so many inspiring small business owners like Tracy in Georgia.\\n \\nAs we move into the new year, @POTUS and I are proud of the investments we have made to push our nation toward the strongest three years on record for small business creation. https://t.co/VF9xm8bZEi   \n",
       "1245                                                                                            It was so great to see Jeremiah again after meeting him on the @JHudShow last spring.\\n\\nI cannot wait to share our interview next week — Jeremiah had a lot of questions for @SecondGentleman! https://t.co/c4CfV7AHfl   \n",
       "\n",
       "     language     type  bookmark_count  favorite_count  retweet_count  \\\n",
       "1214       en  Retweet              68            8153           1689   \n",
       "1245       en  Retweet              41            6475            944   \n",
       "\n",
       "      reply_count  view_count           created_at  ... urls media_type  \\\n",
       "1214         2389    513524.0  2023-12-27 18:11:11  ...  NaN      video   \n",
       "1245         1255    497802.0  2023-12-17 11:15:01  ...  NaN      photo   \n",
       "\n",
       "                                                                                                    media_urls  \\\n",
       "1214  https://video.twimg.com/amplify_video/1740148196578365440/vid/avc1/1080x1920/MX713-jXKY83d5U3.mp4?tag=16   \n",
       "1245                                                           https://pbs.twimg.com/media/GBkAjHWXMAAmptS.jpg   \n",
       "\n",
       "       screen_name keyword_love keyword_hate  keyword_jill  keyword_trump  \\\n",
       "1214  KamalaHarris        False        False         False          False   \n",
       "1245  KamalaHarris        False        False         False          False   \n",
       "\n",
       "      keyword_mad  keyword_happy  \n",
       "1214         True          False  \n",
       "1245        False          False  \n",
       "\n",
       "[2 rows x 22 columns]"
      ]
     },
     "execution_count": 5,
     "metadata": {},
     "output_type": "execute_result"
    }
   ],
   "source": [
    "# prompt: for each word in a list of keywords ['congress','love', 'hate'] add a column to df_all this called f\"keyword_{keyword}\" which is True if text column has the keyword, case insensitive\n",
    "\n",
    "\n",
    "keywords = ['love','hate', 'jill','trump','mad','happy']\n",
    "\n",
    "for keyword in keywords:\n",
    "  col = f'keyword_{keyword}'\n",
    "  regex_pattern = fr'\\b{keyword}\\b'\n",
    "  df_all[col] = df_all.text.str.contains(regex_pattern, case=False, regex=True)\n",
    "  ntweets = len(df_all[df_all[col]==True])\n",
    "  print(f\"{keyword}: {ntweets} tweets\")\n",
    "\n",
    "df_all.sample(n=2)"
   ]
  },
  {
   "cell_type": "markdown",
   "metadata": {
    "id": "kWqRJn_ElT1h"
   },
   "source": [
    "# Favorite Count vs. Keyword\n",
    "\n",
    "We will look at the tweets of a single user and compare favorite counts versus keywords."
   ]
  },
  {
   "cell_type": "markdown",
   "metadata": {
    "id": "MTn21TJ71m0M"
   },
   "source": [
    "## Create Single User Dataframe\n",
    "\n",
    "Make a dataframe `df_u` that is the tweets of a user in `df_all` with `screen_name` of your choice.  Make sure `df_u` is a `copy()` of `df_all`"
   ]
  },
  {
   "cell_type": "code",
   "execution_count": 6,
   "metadata": {
    "id": "1tbHdBizm63w"
   },
   "outputs": [],
   "source": [
    "screen_name = 'JoeBiden'\n",
    "df_u = df_all[df_all.screen_name==screen_name].copy()"
   ]
  },
  {
   "cell_type": "markdown",
   "metadata": {
    "id": "tHYng91AmOXx"
   },
   "source": [
    "## Plot like count vs keyword\n",
    "\n",
    "\n",
    "We will plot the favorite count vs. keyword for each keyword in the list `keywords`.  We use the `barplot` function and set the confidence intervals with the `ci` parameter."
   ]
  },
  {
   "cell_type": "code",
   "execution_count": null,
   "metadata": {
    "id": "yw9hR9prT03i"
   },
   "outputs": [],
   "source": []
  },
  {
   "cell_type": "code",
   "execution_count": 8,
   "metadata": {
    "colab": {
     "base_uri": "https://localhost:8080/",
     "height": 1000
    },
    "id": "6cizkeNwcy7e",
    "outputId": "4fb8572e-eeda-4055-d00d-3b4e0eb664aa"
   },
   "outputs": [
    {
     "data": {
      "image/png": "[encoded data removed]",
      "text/plain": [
       "<Figure size 1200x1800 with 6 Axes>"
      ]
     },
     "metadata": {},
     "output_type": "display_data"
    }
   ],
   "source": [
    "col = 'favorite_count'\n",
    "fig = plt.figure(figsize = (12,18))\n",
    "nrows = int(len(keywords)/2) + 1\n",
    "c=0\n",
    "for keyword in keywords:\n",
    "    c+=1\n",
    "    plt.subplot(nrows,2,c)\n",
    "    sns.barplot(data = df_u,\n",
    "                x= f\"keyword_{keyword}\",\n",
    "                y = col,\n",
    "                errorbar=('ci', 95))\n",
    "    plt.xticks(fontsize = 10)\n",
    "    plt.yticks(fontsize = 10)\n",
    "    plt.grid()\n",
    "plt.show()"
   ]
  },
  {
   "cell_type": "markdown",
   "metadata": {
    "id": "w7W7K2celeBY"
   },
   "source": [
    "## Create Data for Statistical Tests\n",
    "\n",
    "We will created arrays `X0` and `X1` that are the retweet counts without  and with a keyword."
   ]
  },
  {
   "cell_type": "code",
   "execution_count": null,
   "metadata": {
    "id": "p3zAwck5UINq"
   },
   "outputs": [],
   "source": []
  },
  {
   "cell_type": "code",
   "execution_count": 9,
   "metadata": {
    "colab": {
     "base_uri": "https://localhost:8080/"
    },
    "id": "w-Zbf4yFcy7e",
    "outputId": "f870f916-333a-409d-d0e5-77a3aa667b6e"
   },
   "outputs": [
    {
     "name": "stdout",
     "output_type": "stream",
     "text": [
      "Tweets of JoeBiden\n",
      "Contains trump\tNumber of tweets\tMean favorite_count\n",
      "False\t\t953\t\t\t21690.1\n",
      "True\t\t50\t\t\t38278.3\n"
     ]
    }
   ],
   "source": [
    "# prompt: create arrays X0 and X1 that are like_count in df_u where keyword_congress is False and True\n",
    "\n",
    "keyword = \"trump\"\n",
    "\n",
    "ind = df_u[f\"keyword_{keyword}\"]==True\n",
    "col = 'favorite_count'\n",
    "X0 = df_u.loc[~ind,col]\n",
    "X1 = df_u.loc[ind,col]\n",
    "n0 = len(X0)\n",
    "n1 = len(X1)\n",
    "\n",
    "mu0 = np.mean(X0)\n",
    "mu1 = np.mean(X1)\n",
    "\n",
    "print(f\"Tweets of {screen_name}\")\n",
    "print(f\"Contains {keyword}\\tNumber of tweets\\tMean {col}\")\n",
    "print(f\"False\\t\\t{n0}\\t\\t\\t{mu0:.1f}\")\n",
    "print(f\"True\\t\\t{n1}\\t\\t\\t{mu1:.1f}\")"
   ]
  },
  {
   "cell_type": "markdown",
   "metadata": {
    "id": "pHY7c_wuVqxR"
   },
   "source": [
    "## Statistical Tests\n",
    "\n",
    "We will conduct a variety of statistical tests on `X0` and `X1` to see if they are different.  The statistical tests we use have similar structure.  They each return the test statistic and the p-value.  They let us specify what alternative hypothesis we are looking for using the  `alternative` parameter. Its value can be set to\n",
    "\n",
    "1. `'two-sided'` = means are different\n",
    "\n",
    "2. `'less'` = mean of first argument is less than second argument\n",
    "\n",
    "3. `'greater'` = mean of first argument is greater than second argument\n",
    "\n",
    "We can set our significance level `alpha` to determine if we deem the test significant or not.  Significant means `pval<=alpha`."
   ]
  },
  {
   "cell_type": "markdown",
   "metadata": {
    "id": "CwILRGBhpaFm"
   },
   "source": [
    "### Z-test\n",
    "\n",
    "We will apply a z-test to see if the mean favorite count is different for tweets with and without the keyword.  We apply the `ztest` function to `X0` and `X1`.  We set `value=0` which means under the null hypothesis the means are equal.  The test returns the z-statistic `zstat` and the p-value `pval`.  The z-test is appropriate when you know the variance (which is usually never).\n",
    "\n"
   ]
  },
  {
   "cell_type": "code",
   "execution_count": null,
   "metadata": {
    "id": "q-SwJx9aRaTA"
   },
   "outputs": [],
   "source": []
  },
  {
   "cell_type": "code",
   "execution_count": 11,
   "metadata": {
    "colab": {
     "base_uri": "https://localhost:8080/"
    },
    "id": "mkDUR12kcy7f",
    "outputId": "d2b5dbd9-a8e9-4d7e-8bba-9d1ecf5ab3ed"
   },
   "outputs": [
    {
     "name": "stdout",
     "output_type": "stream",
     "text": [
      "Z-test\n",
      "trump: z-stat = -3.797 (1.465e-04)\n",
      "\n",
      "Significant at 1% level\n"
     ]
    }
   ],
   "source": [
    "# prompt: X0 and X1 are two arrays of numeric samples.  conduct a ztest to see if they ahve differnet means\n",
    "alpha = 0.01  #significance level\n",
    "\n",
    "(zstat, pval) = ztest(X0, X1,\n",
    "                      value=0,\n",
    "                      alternative='two-sided',\n",
    "                      usevar = 'unequal')\n",
    "\n",
    "\n",
    "print(f\"Z-test\")\n",
    "print(f\"{keyword}: z-stat = {zstat:.3f} ({pval:.3e})\\n\")\n",
    "if pval <=alpha:\n",
    "  print(f\"Significant at {alpha*100:.0f}% level\")\n",
    "else:\n",
    "  print(f\"Not significant at {alpha*100:.0f}% level\")"
   ]
  },
  {
   "cell_type": "markdown",
   "metadata": {
    "id": "FJBlo0vbcy7i"
   },
   "source": [
    "### T-test\n",
    "\n",
    "We can apply the t-test to compare the mean favorite counts.  The t-test is appropriate when the variance is unknown.  We use the function `ttest_ind` and set `equal_var=False`."
   ]
  },
  {
   "cell_type": "code",
   "execution_count": 12,
   "metadata": {
    "colab": {
     "base_uri": "https://localhost:8080/"
    },
    "id": "JuDWhrnAcy7i",
    "outputId": "6b15670c-6c97-4c3d-9509-cb020293cb43"
   },
   "outputs": [
    {
     "name": "stdout",
     "output_type": "stream",
     "text": [
      "T-test\n",
      "trump: t-stat = -4.838 (1.000e-05)\n",
      "\n",
      "Significant at 1% level\n"
     ]
    }
   ],
   "source": [
    "alpha = 0.01  #significance level\n",
    "\n",
    "(tstat, pval) =stats.ttest_ind(X0,X1,\n",
    "                               equal_var = False,\n",
    "                               nan_policy = 'omit',\n",
    "                               alternative = 'two-sided')\n",
    "\n",
    "print('T-test')\n",
    "print(f\"{keyword}: t-stat = {tstat:.3f} ({pval:.3e})\\n\")\n",
    "if pval <=alpha:\n",
    "  print(f\"Significant at {alpha*100:.0f}% level\")\n",
    "else:\n",
    "  print(f\"Not significant at {alpha*100:.0f}% level\")"
   ]
  },
  {
   "cell_type": "markdown",
   "metadata": {
    "id": "LqEPfJtcrRbb"
   },
   "source": [
    "### Mann-Whitney U test\n",
    "\n",
    "The Mann-Whitney U test is a non-parametric test that deals with the probability `X0>X1`.  We use the `mannwhitneyu` function."
   ]
  },
  {
   "cell_type": "code",
   "execution_count": 13,
   "metadata": {
    "colab": {
     "base_uri": "https://localhost:8080/"
    },
    "id": "x5Htxqejcy7i",
    "outputId": "a7a72261-2413-4845-89cb-ffaaf3f4ded8"
   },
   "outputs": [
    {
     "name": "stdout",
     "output_type": "stream",
     "text": [
      "Mann Whitney U test\n",
      "trump: U-stat = 10378.000 (1.646e-11)\n",
      "\n",
      "Significant at 1% level\n"
     ]
    }
   ],
   "source": [
    "alpha = 0.01  #significance level\n",
    "\n",
    "ustat, pval = stats.mannwhitneyu(X0, X1,\n",
    "                                nan_policy = 'omit',\n",
    "                                alternative = 'two-sided')\n",
    "\n",
    "print('Mann Whitney U test')\n",
    "print(f\"{keyword}: U-stat = {ustat:.3f} ({pval:.3e})\\n\")\n",
    "if pval <=alpha:\n",
    "  print(f\"Significant at {alpha*100:.0f}% level\")\n",
    "else:\n",
    "  print(f\"Not significant at {alpha*100:.0f}% level\")"
   ]
  },
  {
   "cell_type": "markdown",
   "metadata": {
    "id": "yZBMVz9YsROf"
   },
   "source": [
    "### Kolmogorov-Smirnov test\n",
    "\n",
    "The Kolmogorov-Smirnov test is a non-parametric test with the null hypothesis that the cumulative distribution functions of the two groups are equal.  We use the `ks_2samp` function.\n"
   ]
  },
  {
   "cell_type": "code",
   "execution_count": 14,
   "metadata": {
    "colab": {
     "base_uri": "https://localhost:8080/"
    },
    "id": "ukbN_XCzsfro",
    "outputId": "794df503-21e7-41b2-9614-f0284d5f04b8"
   },
   "outputs": [
    {
     "name": "stdout",
     "output_type": "stream",
     "text": [
      "Kolmogorov-Smirnov test\n",
      "trump: KS-stat = 0.574 (2.956e-15)\n",
      "\n",
      "Significant at 1% level\n"
     ]
    }
   ],
   "source": [
    "alpha = 0.01  #significance level\n",
    "\n",
    "ksstat, pval = stats.ks_2samp(X0, X1,\n",
    "                              alternative='two-sided')\n",
    "\n",
    "print('Kolmogorov-Smirnov test')\n",
    "print(f\"{keyword}: KS-stat = {ksstat:.3f} ({pval:.3e})\\n\")\n",
    "if pval <=alpha:\n",
    "  print(f\"Significant at {alpha*100:.0f}% level\")\n",
    "else:\n",
    "  print(f\"Not significant at {alpha*100:.0f}% level\")"
   ]
  },
  {
   "cell_type": "markdown",
   "metadata": {
    "id": "VVPji_JPcy7k"
   },
   "source": [
    "## Testing Multiple Hypotheses\n",
    "\n",
    "If we test all the keywords to see which ones increase the mean favorite count, we need to correct the p-values to account for the multiple hypotheses.  We first choose a significance level `alpha`, which is either the family-wise error rate (FWER) or the false discovery rate (FDR).  Then we calculate the p-value of a t-test for each keyword and save these p-values in a list `pvals`.  Finally, we apply the `multipletests` function to `pvals` and set `method` to our method of choice.  We save the results in a dataframe `df_p` so we can read the results easily.\n",
    "\n",
    "The `method` options include\n",
    "\n",
    "1. `'bonferroni'` = Bonferroni method (FWER)\n",
    "\n",
    "2. `'sidak'` = Sidak method (FWER)\n",
    "\n",
    "3. `'holm'` = Holm-Bonferroni method (FWER)\n",
    "\n",
    "4. `'benjamini-hochberg'` or `'fdr_bh'` = Benjamini-Hochberg method (FDR)"
   ]
  },
  {
   "cell_type": "markdown",
   "metadata": {
    "id": "Ah7U91_JOuWd"
   },
   "source": [
    "### Calculate P-Values\n",
    "\n",
    "First we need to calculate the p-values for each keyword and save the result to a list `pvals`."
   ]
  },
  {
   "cell_type": "code",
   "execution_count": 15,
   "metadata": {
    "colab": {
     "base_uri": "https://localhost:8080/"
    },
    "id": "b7K50mO5cy7k",
    "outputId": "6834acb2-d22c-4cd1-c5a6-05ada1d491b3"
   },
   "outputs": [
    {
     "name": "stdout",
     "output_type": "stream",
     "text": [
      "love: t-stat = -1.903 (6.569e-02)\n",
      "hate: t-stat = -0.245 (8.087e-01)\n",
      "jill: t-stat = -1.420 (1.633e-01)\n",
      "trump: t-stat = -4.838 (1.000e-05)\n",
      "mad: t-stat = 2.332 (2.287e-02)\n",
      "happy: t-stat = -2.719 (1.313e-02)\n"
     ]
    }
   ],
   "source": [
    "pvals = []\n",
    "col = 'favorite_count'\n",
    "for keyword in keywords:\n",
    "  ind = df_u[f\"keyword_{keyword}\"]==True\n",
    "  X0 = df_u.loc[~ind,col]\n",
    "  X1 = df_u.loc[ind,col]\n",
    "  (tstat, pval) =stats.ttest_ind(X0,X1, equal_var = False)\n",
    "  pvals.append(pval)\n",
    "  print(f\"{keyword}: t-stat = {tstat:.3f} ({pval:.3e})\")\n",
    "\n"
   ]
  },
  {
   "cell_type": "markdown",
   "metadata": {
    "id": "pRDgPvxYOnsm"
   },
   "source": [
    "### Apply `multipletests`\n",
    "\n",
    "Set `method` to your method of choice."
   ]
  },
  {
   "cell_type": "code",
   "execution_count": 16,
   "metadata": {
    "colab": {
     "base_uri": "https://localhost:8080/",
     "height": 255
    },
    "id": "uTWo-hofcy7k",
    "outputId": "e07be83d-d582-4994-a11e-c3e6393f530a"
   },
   "outputs": [
    {
     "name": "stdout",
     "output_type": "stream",
     "text": [
      "holm method t-test\n"
     ]
    },
    {
     "data": {
      "text/html": [
       "<div>\n",
       "<style scoped>\n",
       "    .dataframe tbody tr th:only-of-type {\n",
       "        vertical-align: middle;\n",
       "    }\n",
       "\n",
       "    .dataframe tbody tr th {\n",
       "        vertical-align: top;\n",
       "    }\n",
       "\n",
       "    .dataframe thead th {\n",
       "        text-align: right;\n",
       "    }\n",
       "</style>\n",
       "<table border=\"1\" class=\"dataframe\">\n",
       "  <thead>\n",
       "    <tr style=\"text-align: right;\">\n",
       "      <th></th>\n",
       "      <th>keyword</th>\n",
       "      <th>reject_H0</th>\n",
       "      <th>pval</th>\n",
       "    </tr>\n",
       "  </thead>\n",
       "  <tbody>\n",
       "    <tr>\n",
       "      <th>0</th>\n",
       "      <td>love</td>\n",
       "      <td>False</td>\n",
       "      <td>0.065691</td>\n",
       "    </tr>\n",
       "    <tr>\n",
       "      <th>1</th>\n",
       "      <td>hate</td>\n",
       "      <td>False</td>\n",
       "      <td>0.808687</td>\n",
       "    </tr>\n",
       "    <tr>\n",
       "      <th>2</th>\n",
       "      <td>jill</td>\n",
       "      <td>False</td>\n",
       "      <td>0.163285</td>\n",
       "    </tr>\n",
       "    <tr>\n",
       "      <th>3</th>\n",
       "      <td>trump</td>\n",
       "      <td>True</td>\n",
       "      <td>0.000010</td>\n",
       "    </tr>\n",
       "    <tr>\n",
       "      <th>4</th>\n",
       "      <td>mad</td>\n",
       "      <td>False</td>\n",
       "      <td>0.022871</td>\n",
       "    </tr>\n",
       "    <tr>\n",
       "      <th>5</th>\n",
       "      <td>happy</td>\n",
       "      <td>False</td>\n",
       "      <td>0.013130</td>\n",
       "    </tr>\n",
       "  </tbody>\n",
       "</table>\n",
       "</div>"
      ],
      "text/plain": [
       "  keyword  reject_H0      pval\n",
       "0    love      False  0.065691\n",
       "1    hate      False  0.808687\n",
       "2    jill      False  0.163285\n",
       "3   trump       True  0.000010\n",
       "4     mad      False  0.022871\n",
       "5   happy      False  0.013130"
      ]
     },
     "execution_count": 16,
     "metadata": {},
     "output_type": "execute_result"
    }
   ],
   "source": [
    "alpha = 0.01  #significance level\n",
    "method = 'holm'  #multiple testing method\n",
    "\n",
    "rejects,pvals_corrected,_,_ = multipletests(pvals,\n",
    "                                            alpha=alpha,\n",
    "                                            method=method,\n",
    "                                            is_sorted=False,\n",
    "                                            returnsorted=False)\n",
    "df_p = pd.DataFrame({'keyword':keywords,\n",
    "                     'reject_H0':rejects,\n",
    "                     'pval':pvals})\n",
    "print(f\"{method} method t-test\")\n",
    "df_p"
   ]
  },
  {
   "cell_type": "markdown",
   "metadata": {
    "id": "LvaJyEadv3iK"
   },
   "source": [
    "# Comparing Users Language\n",
    "\n",
    "We will look at two users and see if they use a given keyword with the same frequency."
   ]
  },
  {
   "cell_type": "markdown",
   "metadata": {
    "id": "VBeOffA3cy7j"
   },
   "source": [
    "## Contingency table\n",
    "\n",
    "We select two users with screen names given by the variables `w0` and `w1` and we select a keyword `keyword`.  Then we calculate the contingency table for this data using the `pd.crosstab` function, where we give it the `screen_name` column and a column that is `True` or `False` if `text` contains `keyword`..  The table has the values `a`,`b`,`c`,`d` which indicate the number of tweets in each category as follows:\n",
    "\n",
    "|Has keyword |User 0 | User 1|\n",
    "|-|--------|------|\n",
    "|True | a| b|\n",
    "|False| c|d|\n",
    "\n",
    "We store the table as a list of lists in `table`."
   ]
  },
  {
   "cell_type": "code",
   "execution_count": 22,
   "metadata": {
    "colab": {
     "base_uri": "https://localhost:8080/",
     "height": 161
    },
    "id": "mlzgb_fkcy7j",
    "outputId": "81caa450-23dc-4a7c-8cbd-28df5520664c"
   },
   "outputs": [
    {
     "name": "stdout",
     "output_type": "stream",
     "text": [
      "Contingency Table for vote\n"
     ]
    },
    {
     "data": {
      "text/html": [
       "<div>\n",
       "<style scoped>\n",
       "    .dataframe tbody tr th:only-of-type {\n",
       "        vertical-align: middle;\n",
       "    }\n",
       "\n",
       "    .dataframe tbody tr th {\n",
       "        vertical-align: top;\n",
       "    }\n",
       "\n",
       "    .dataframe thead th {\n",
       "        text-align: right;\n",
       "    }\n",
       "</style>\n",
       "<table border=\"1\" class=\"dataframe\">\n",
       "  <thead>\n",
       "    <tr style=\"text-align: right;\">\n",
       "      <th>text</th>\n",
       "      <th>False</th>\n",
       "      <th>True</th>\n",
       "    </tr>\n",
       "    <tr>\n",
       "      <th>screen_name</th>\n",
       "      <th></th>\n",
       "      <th></th>\n",
       "    </tr>\n",
       "  </thead>\n",
       "  <tbody>\n",
       "    <tr>\n",
       "      <th>JoeBiden</th>\n",
       "      <td>984</td>\n",
       "      <td>19</td>\n",
       "    </tr>\n",
       "    <tr>\n",
       "      <th>KamalaHarris</th>\n",
       "      <td>966</td>\n",
       "      <td>49</td>\n",
       "    </tr>\n",
       "  </tbody>\n",
       "</table>\n",
       "</div>"
      ],
      "text/plain": [
       "text          False  True \n",
       "screen_name               \n",
       "JoeBiden        984     19\n",
       "KamalaHarris    966     49"
      ]
     },
     "execution_count": 22,
     "metadata": {},
     "output_type": "execute_result"
    }
   ],
   "source": [
    "w0 = 'JoeBiden'\n",
    "w1= 'KamalaHarris'\n",
    "keyword ='vote'  #you can pick any keyword you like, not just the ones in the keywords list\n",
    "\n",
    "regex_pattern = fr'\\b{keyword}\\b'\n",
    "df2 = df_all[df_all.screen_name.isin([w0,w1])]  #df1 only has tweets from the two users you want to compare\n",
    "contingency_table = pd.crosstab(df2['screen_name'],\n",
    "                                df2['text'].str.contains(regex_pattern, case=False, regex=True))\n",
    "\n",
    "print(f\"Contingency Table for {keyword}\")\n",
    "contingency_table"
   ]
  },
  {
   "cell_type": "markdown",
   "metadata": {
    "id": "M-7mUGgTyICc"
   },
   "source": [
    "## Fisher Exact Test\n",
    "\n",
    "We apply the Fisher exact test to the contingency table to see if the frequencies are different for the two users.  This is done with the `fisher_exact` function."
   ]
  },
  {
   "cell_type": "code",
   "execution_count": 23,
   "metadata": {
    "colab": {
     "base_uri": "https://localhost:8080/"
    },
    "id": "pob67ISDcy7j",
    "outputId": "b9d9587a-512c-4afd-b538-d0d0fce37724"
   },
   "outputs": [
    {
     "name": "stdout",
     "output_type": "stream",
     "text": [
      "Fisher exact test\n",
      "vote: odds ratio = 2.627 (2.890e-04)\n",
      "\n",
      "Significant at 1% level\n"
     ]
    }
   ],
   "source": [
    "alpha = 0.01  #significance level\n",
    "\n",
    "# Perform Fisher exact test\n",
    "oddsratio, pval = stats.fisher_exact(contingency_table)\n",
    "\n",
    "\n",
    "print('Fisher exact test')\n",
    "print(f\"{keyword}: odds ratio = {oddsratio:.3f} ({pval:.3e})\\n\")\n",
    "if pval <=alpha:\n",
    "  print(\"Significant at 1% level\")\n",
    "else:\n",
    "  print(\"Not significant at 1% level\")"
   ]
  },
  {
   "cell_type": "markdown",
   "metadata": {
    "id": "RqfP49qX1Ef0"
   },
   "source": [
    "# Engagement\n",
    "\n",
    "Define `\"engagement\"` of a tweet as its `\"favorite_count\"` divided by its `\"views\"`.  This measures what fraction of a tweet's viewers like the tweet.  We will compare the engagement for a pair of users."
   ]
  },
  {
   "cell_type": "code",
   "execution_count": 24,
   "metadata": {
    "id": "bopCtLH8S1L0"
   },
   "outputs": [],
   "source": [
    "df_all = df_all[~df_all.view_count.isna()].copy()\n",
    "df_all['engagement'] = df_all.favorite_count/(df_all.view_count)\n"
   ]
  },
  {
   "cell_type": "code",
   "execution_count": 25,
   "metadata": {
    "colab": {
     "base_uri": "https://localhost:8080/",
     "height": 553
    },
    "id": "9-1XfEUNQhQ7",
    "outputId": "7eb12475-8ce1-4c04-a393-b7545a042b6e"
   },
   "outputs": [
    {
     "data": {
      "image/png": "[encoded data removed]",
      "text/plain": [
       "<Figure size 800x600 with 1 Axes>"
      ]
     },
     "metadata": {},
     "output_type": "display_data"
    }
   ],
   "source": [
    "sns.barplot(data = df_all,\n",
    "            x = 'screen_name',\n",
    "            y = 'engagement',\n",
    "            )\n",
    "plt.grid()\n",
    "plt.show()"
   ]
  },
  {
   "cell_type": "markdown",
   "metadata": {
    "id": "3TzYZGl-27dY"
   },
   "source": [
    "## T-test for engagement"
   ]
  },
  {
   "cell_type": "code",
   "execution_count": null,
   "metadata": {
    "colab": {
     "base_uri": "https://localhost:8080/"
    },
    "id": "KpMXQ_pXskEo",
    "outputId": "c0fead74-3e3c-4c64-8561-651d9dc60eee"
   },
   "outputs": [],
   "source": []
  },
  {
   "cell_type": "code",
   "execution_count": 26,
   "metadata": {
    "colab": {
     "base_uri": "https://localhost:8080/"
    },
    "id": "PnsZw6Nv23zX",
    "outputId": "70b24e5e-61b3-4fc8-9631-631e3e562edd"
   },
   "outputs": [
    {
     "name": "stdout",
     "output_type": "stream",
     "text": [
      "w0 = JoeBiden\n",
      "w1 = KamalaHarris\n",
      "Screen name\tMean engagement\n",
      "JoeBiden\t8.54e-03\n",
      "KamalaHarris\t1.07e-02\n",
      "JoeBiden vs KamalaHarris: t-stat = -9.436 (1.0346e-20)\n",
      "\n",
      "Significant at 1% level\n"
     ]
    }
   ],
   "source": [
    "alpha = 0.01  #significance level\n",
    "col = 'engagement'\n",
    "w0, w1 = df_all.screen_name.unique()\n",
    "\n",
    "print(f\"w0 = {w0}\\nw1 = {w1}\")\n",
    "\n",
    "X0 = df_all.loc[df_all.screen_name==w0, col].values\n",
    "X1 = df_all.loc[df_all.screen_name==w1,col].values\n",
    "\n",
    "mu0 = np.mean(X0)\n",
    "mu1 = np.mean(X1)\n",
    "\n",
    "(tstat, pval) =stats.ttest_ind(X0,X1,\n",
    "                               equal_var = False,\n",
    "                               nan_policy = 'omit',\n",
    "                               alternative = 'two-sided')\n",
    "print(f\"Screen name\\tMean engagement\")\n",
    "print(f\"{w0}\\t{mu0:.2e}\")\n",
    "print(f\"{w1}\\t{mu1:.2e}\")\n",
    "\n",
    "print(f\"{w0} vs {w1}: t-stat = {tstat:.3f} ({pval:.4e})\\n\")\n",
    "if pval <=alpha:\n",
    "  print(f\"Significant at {alpha*100:.0f}% level\")\n",
    "else:\n",
    "  print(f\"Not significant at {alpha*100:.0f}% level\")"
   ]
  },
  {
   "cell_type": "markdown",
   "metadata": {
    "id": "xq1N5WuL3lKo"
   },
   "source": [
    "# Tweet Time\n",
    "\n",
    "We will study how the timing of a tweet is related to the like counts and sentiment for a user.  The user is former President Donald Trump.  The data is in file `\"data/trump_tweets_sentiment.csv\"` and was obtained from a Kaggle challenge: https://www.kaggle.com/datasets/codebreaker619/donald-trump-tweets-dataset.  The sentiment was calculated using the Huggin Face model at https://huggingface.co/nlptown/bert-base-multilingual-uncased-sentiment."
   ]
  },
  {
   "cell_type": "markdown",
   "metadata": {
    "id": "rfv6nd-L3sze"
   },
   "source": [
    "## Load data"
   ]
  },
  {
   "cell_type": "code",
   "execution_count": 27,
   "metadata": {
    "colab": {
     "base_uri": "https://localhost:8080/",
     "height": 115
    },
    "id": "kSZlUwxI3OpG",
    "outputId": "ced61631-0173-44a5-c6dd-49fdf704dfdc"
   },
   "outputs": [
    {
     "data": {
      "text/html": [
       "<div>\n",
       "<style scoped>\n",
       "    .dataframe tbody tr th:only-of-type {\n",
       "        vertical-align: middle;\n",
       "    }\n",
       "\n",
       "    .dataframe tbody tr th {\n",
       "        vertical-align: top;\n",
       "    }\n",
       "\n",
       "    .dataframe thead th {\n",
       "        text-align: right;\n",
       "    }\n",
       "</style>\n",
       "<table border=\"1\" class=\"dataframe\">\n",
       "  <thead>\n",
       "    <tr style=\"text-align: right;\">\n",
       "      <th></th>\n",
       "      <th>Unnamed: 0</th>\n",
       "      <th>id</th>\n",
       "      <th>text</th>\n",
       "      <th>is_retweet</th>\n",
       "      <th>is_deleted</th>\n",
       "      <th>device</th>\n",
       "      <th>favorites</th>\n",
       "      <th>retweets</th>\n",
       "      <th>datetime</th>\n",
       "      <th>is_flagged</th>\n",
       "      <th>date</th>\n",
       "      <th>sentiment</th>\n",
       "    </tr>\n",
       "  </thead>\n",
       "  <tbody>\n",
       "    <tr>\n",
       "      <th>0</th>\n",
       "      <td>0</td>\n",
       "      <td>9.845497e+16</td>\n",
       "      <td>Republicans and Democrats have both created our economic problems.</td>\n",
       "      <td>False</td>\n",
       "      <td>False</td>\n",
       "      <td>TweetDeck</td>\n",
       "      <td>49</td>\n",
       "      <td>255</td>\n",
       "      <td>2011-08-02T18:07:48Z</td>\n",
       "      <td>False</td>\n",
       "      <td>2011-08-02</td>\n",
       "      <td>0.258977</td>\n",
       "    </tr>\n",
       "  </tbody>\n",
       "</table>\n",
       "</div>"
      ],
      "text/plain": [
       "   Unnamed: 0            id  \\\n",
       "0           0  9.845497e+16   \n",
       "\n",
       "                                                                 text  \\\n",
       "0  Republicans and Democrats have both created our economic problems.   \n",
       "\n",
       "   is_retweet  is_deleted     device  favorites  retweets  \\\n",
       "0       False       False  TweetDeck         49       255   \n",
       "\n",
       "               datetime  is_flagged        date  sentiment  \n",
       "0  2011-08-02T18:07:48Z       False  2011-08-02   0.258977  "
      ]
     },
     "execution_count": 27,
     "metadata": {},
     "output_type": "execute_result"
    }
   ],
   "source": [
    "screen_name = 'realDonaldTrump'\n",
    "df_trump = pd.read_csv(\"data/trump_tweets_sentiment.csv\")\n",
    "df_trump.head(1)"
   ]
  },
  {
   "cell_type": "markdown",
   "metadata": {
    "id": "NaC7rbyOdg1t"
   },
   "source": [
    "## Add day of week and hour columns\n",
    "\n",
    "We will add columns indicating the hour and day of the week for each tweet."
   ]
  },
  {
   "cell_type": "code",
   "execution_count": 28,
   "metadata": {
    "colab": {
     "base_uri": "https://localhost:8080/",
     "height": 306
    },
    "id": "p07oHNrpdg8O",
    "outputId": "60214b8c-611b-46ab-bd0b-4d5307c4a033"
   },
   "outputs": [
    {
     "data": {
      "text/html": [
       "<div>\n",
       "<style scoped>\n",
       "    .dataframe tbody tr th:only-of-type {\n",
       "        vertical-align: middle;\n",
       "    }\n",
       "\n",
       "    .dataframe tbody tr th {\n",
       "        vertical-align: top;\n",
       "    }\n",
       "\n",
       "    .dataframe thead th {\n",
       "        text-align: right;\n",
       "    }\n",
       "</style>\n",
       "<table border=\"1\" class=\"dataframe\">\n",
       "  <thead>\n",
       "    <tr style=\"text-align: right;\">\n",
       "      <th></th>\n",
       "      <th>Unnamed: 0</th>\n",
       "      <th>id</th>\n",
       "      <th>text</th>\n",
       "      <th>is_retweet</th>\n",
       "      <th>is_deleted</th>\n",
       "      <th>device</th>\n",
       "      <th>favorites</th>\n",
       "      <th>retweets</th>\n",
       "      <th>datetime</th>\n",
       "      <th>is_flagged</th>\n",
       "      <th>date</th>\n",
       "      <th>sentiment</th>\n",
       "      <th>datetime_est</th>\n",
       "      <th>day</th>\n",
       "      <th>hour</th>\n",
       "    </tr>\n",
       "  </thead>\n",
       "  <tbody>\n",
       "    <tr>\n",
       "      <th>7041</th>\n",
       "      <td>13325</td>\n",
       "      <td>1.698309e+09</td>\n",
       "      <td>Be sure to tune in and watch Donald Trump on Late Night with David Letterman as he presents the Top Ten List tonight!</td>\n",
       "      <td>False</td>\n",
       "      <td>False</td>\n",
       "      <td>Twitter Web Client</td>\n",
       "      <td>939</td>\n",
       "      <td>519</td>\n",
       "      <td>2009-05-04 18:54:25+00:00</td>\n",
       "      <td>False</td>\n",
       "      <td>2009-05-04</td>\n",
       "      <td>0.75937</td>\n",
       "      <td>2009-05-04 14:54:25-04:00</td>\n",
       "      <td>Monday</td>\n",
       "      <td>14</td>\n",
       "    </tr>\n",
       "  </tbody>\n",
       "</table>\n",
       "</div>"
      ],
      "text/plain": [
       "      Unnamed: 0            id  \\\n",
       "7041       13325  1.698309e+09   \n",
       "\n",
       "                                                                                                                       text  \\\n",
       "7041  Be sure to tune in and watch Donald Trump on Late Night with David Letterman as he presents the Top Ten List tonight!   \n",
       "\n",
       "      is_retweet  is_deleted              device  favorites  retweets  \\\n",
       "7041       False       False  Twitter Web Client        939       519   \n",
       "\n",
       "                      datetime  is_flagged        date  sentiment  \\\n",
       "7041 2009-05-04 18:54:25+00:00       False  2009-05-04    0.75937   \n",
       "\n",
       "                  datetime_est     day  hour  \n",
       "7041 2009-05-04 14:54:25-04:00  Monday    14  "
      ]
     },
     "execution_count": 28,
     "metadata": {},
     "output_type": "execute_result"
    }
   ],
   "source": [
    "# prompt: We will add columns indicating the hour and day of the week for each tweet from the created_at column\n",
    "\n",
    "format = \"%Y-%m-%d %H:%M:%S\"\n",
    "\n",
    "df_trump['datetime'] = pd.to_datetime(df_trump['datetime']\n",
    "                                      ,format=format)\n",
    "df_trump['datetime_est'] = df_trump['datetime'].dt.tz_convert('America/New_York')\n",
    "df_trump['day'] = df_trump.datetime_est.dt.day_name()   #get the day of the tweet\n",
    "df_trump['hour'] = df_trump.datetime_est.dt.hour   #get the hour of the tweet\n",
    "\n",
    "df_trump = df_trump.sort_values(by = 'datetime')\n",
    "df_trump.head(n=1)"
   ]
  },
  {
   "cell_type": "markdown",
   "metadata": {
    "id": "YPSSvie-3zmT"
   },
   "source": [
    "## Plot Favorites vs. Hour"
   ]
  },
  {
   "cell_type": "code",
   "execution_count": null,
   "metadata": {
    "id": "mIWgFPPzQoYm"
   },
   "outputs": [],
   "source": []
  },
  {
   "cell_type": "code",
   "execution_count": 30,
   "metadata": {
    "colab": {
     "base_uri": "https://localhost:8080/",
     "height": 417
    },
    "id": "OsxiBOUA33B9",
    "outputId": "b8622812-fce4-4239-af69-cdd1b17b3df6"
   },
   "outputs": [
    {
     "data": {
      "image/png": "[encoded data removed]",
      "text/plain": [
       "<Figure size 1200x400 with 1 Axes>"
      ]
     },
     "metadata": {},
     "output_type": "display_data"
    }
   ],
   "source": [
    "fig = plt.figure(figsize =(12,4))\n",
    "sns.barplot(data =df_trump , x = 'hour',\n",
    "            y = 'favorites',\n",
    "            errorbar=('ci', 95))\n",
    "plt.xlabel(\"Hour [EST]\", fontsize = 14)\n",
    "plt.title(f\"{screen_name}\", fontsize = 16)\n",
    "plt.xticks(fontsize = 10)\n",
    "plt.yticks(fontsize = 10)\n",
    "plt.grid()\n",
    "plt.show()"
   ]
  },
  {
   "cell_type": "markdown",
   "metadata": {
    "id": "SusFZzoi3_KP"
   },
   "source": [
    "## T-test for Hours\n",
    "\n",
    "We select two hours and compare the like counts using a t-test."
   ]
  },
  {
   "cell_type": "code",
   "execution_count": null,
   "metadata": {
    "id": "fd_oyvoJQqY4"
   },
   "outputs": [],
   "source": []
  },
  {
   "cell_type": "code",
   "execution_count": 31,
   "metadata": {
    "colab": {
     "base_uri": "https://localhost:8080/"
    },
    "id": "7OTAN4rz4FbR",
    "outputId": "d5ac0e86-2617-42a0-babb-087fb61c65f5"
   },
   "outputs": [
    {
     "name": "stdout",
     "output_type": "stream",
     "text": [
      "Hour [EST]\tMean retweet count\n",
      "8\t\t54982.74\n",
      "23\t\t38033.58\n",
      "8 vs 23: t-stat = 7.894 (3.8969e-15)\n",
      "\n",
      "Significant at 1% level\n"
     ]
    }
   ],
   "source": [
    "alpha = 0.01  #significance level\n",
    "h0 = 8  #first hour to check\n",
    "h1 = 23  #second hour to check\n",
    "col = 'favorites'  #metric we are comparing\n",
    "\n",
    "\n",
    "X0 = df_trump.loc[df_trump.hour==h0,col]\n",
    "X1 = df_trump.loc[df_trump.hour==h1,col]\n",
    "mu0 = np.mean(X0)\n",
    "mu1 = np.mean(X1)\n",
    "(tstat, pval) =stats.ttest_ind(X0,X1, equal_var = False)\n",
    "\n",
    "print(f\"Hour [EST]\\tMean retweet count\")\n",
    "print(f\"{h0}\\t\\t{mu0:.2f}\")\n",
    "print(f\"{h1}\\t\\t{mu1:.2f}\")\n",
    "print(f\"{h0} vs {h1}: t-stat = {tstat:.3f} ({pval:.4e})\\n\")\n",
    "if pval <=alpha:\n",
    "  print(f\"Significant at {alpha*100:.0f}% level\")\n",
    "else:\n",
    "  print(f\"Not significant at {alpha*100:.0f}% level\")"
   ]
  },
  {
   "cell_type": "markdown",
   "metadata": {
    "id": "Vq9eoF6_ibHC"
   },
   "source": [
    "## Plot Favorites vs. Day"
   ]
  },
  {
   "cell_type": "code",
   "execution_count": 32,
   "metadata": {
    "colab": {
     "base_uri": "https://localhost:8080/",
     "height": 418
    },
    "id": "nsd5wav2egCf",
    "outputId": "7f490d2c-c794-4a62-b3f0-1b1830e8ca9b"
   },
   "outputs": [
    {
     "data": {
      "image/png": "[encoded data removed]",
      "text/plain": [
       "<Figure size 1200x400 with 1 Axes>"
      ]
     },
     "metadata": {},
     "output_type": "display_data"
    }
   ],
   "source": [
    "fig = plt.figure(figsize =(12,4))\n",
    "sns.barplot(data =df_trump ,\n",
    "            x = 'day',\n",
    "            y = 'favorites',\n",
    "            errorbar=('ci', 95))\n",
    "plt.title(f\"{screen_name}\", fontsize = 16)\n",
    "plt.xticks(fontsize = 10)\n",
    "plt.yticks(fontsize = 10)\n",
    "plt.grid()\n",
    "plt.show()"
   ]
  },
  {
   "cell_type": "markdown",
   "metadata": {
    "id": "eN39VFXXgXP-"
   },
   "source": [
    "## T-test for Days"
   ]
  },
  {
   "cell_type": "code",
   "execution_count": 33,
   "metadata": {
    "colab": {
     "base_uri": "https://localhost:8080/"
    },
    "id": "utcP095xgdGI",
    "outputId": "344776f4-465e-4735-b03e-f62322a443a1"
   },
   "outputs": [
    {
     "name": "stdout",
     "output_type": "stream",
     "text": [
      "Day\tMean favorites count\n",
      "Monday\t32,894\n",
      "Saturday\t44,092\n",
      "Monday vs Saturday: t-stat = -9.334 (1.2383e-20)\n",
      "\n",
      "Significant at 1% level\n"
     ]
    }
   ],
   "source": [
    "alpha = 0.01  #significance level\n",
    "h0 = 'Monday'  #first day to check\n",
    "h1 = 'Saturday'  #second day to check\n",
    "col = 'favorites'  #metric we are comparing\n",
    "\n",
    "\n",
    "X0 = df_trump.loc[df_trump.day==h0,col]\n",
    "X1 = df_trump.loc[df_trump.day==h1,col]\n",
    "\n",
    "mu0 = np.mean(X0)\n",
    "mu1 = np.mean(X1)\n",
    "(tstat, pval) =stats.ttest_ind(X0,X1, equal_var = False)\n",
    "\n",
    "print(f\"Day\\tMean {col} count\")\n",
    "print(f\"{h0}\\t{mu0:,.0f}\")\n",
    "print(f\"{h1}\\t{mu1:,.0f}\")\n",
    "print(f\"{h0} vs {h1}: t-stat = {tstat:.3f} ({pval:.4e})\\n\")\n",
    "if pval <=alpha:\n",
    "  print(f\"Significant at {alpha*100:.0f}% level\")\n",
    "else:\n",
    "  print(f\"Not significant at {alpha*100:.0f}% level\")"
   ]
  },
  {
   "cell_type": "markdown",
   "metadata": {
    "id": "wzlpN5yo5aPX"
   },
   "source": [
    "## T-test for day vs night\n",
    "\n",
    "We can choose a range of hours to compare daytime and nighttime tweets' like counts."
   ]
  },
  {
   "cell_type": "code",
   "execution_count": null,
   "metadata": {
    "id": "XEya313JRP34"
   },
   "outputs": [],
   "source": []
  },
  {
   "cell_type": "code",
   "execution_count": 34,
   "metadata": {
    "id": "sUYBVdY9mR9n"
   },
   "outputs": [],
   "source": [
    "#create daytime column in df_trump\n",
    "#daytime\n",
    "ind_day = (6<=df_trump.hour) & (df_trump.hour<=19)\n",
    "df_trump['daytime'] = ind_day"
   ]
  },
  {
   "cell_type": "code",
   "execution_count": 35,
   "metadata": {
    "colab": {
     "base_uri": "https://localhost:8080/",
     "height": 553
    },
    "id": "5cjmICeERag0",
    "outputId": "d522b496-647f-484c-b1c3-aaed5df7d4f9"
   },
   "outputs": [
    {
     "data": {
      "image/png": "[encoded data removed]",
      "text/plain": [
       "<Figure size 800x600 with 1 Axes>"
      ]
     },
     "metadata": {},
     "output_type": "display_data"
    }
   ],
   "source": [
    "sns.barplot(data = df_trump,\n",
    "            x = 'daytime',\n",
    "            y = col)\n",
    "plt.grid()\n",
    "plt.show()"
   ]
  },
  {
   "cell_type": "code",
   "execution_count": 36,
   "metadata": {
    "colab": {
     "base_uri": "https://localhost:8080/"
    },
    "id": "65o5z3zt4NC_",
    "outputId": "00e57c37-c1a2-49f3-a83f-1ca37bad094c"
   },
   "outputs": [
    {
     "name": "stdout",
     "output_type": "stream",
     "text": [
      "Time\tMean favorites\n",
      "Day\t36343.20\n",
      "Night\t28559.62\n",
      "Day vs Night: t-stat = 12.330 (8.0627e-35)\n",
      "\n",
      "Significant at 1% level\n"
     ]
    }
   ],
   "source": [
    "col = 'favorites'\n",
    "\n",
    "#create data for t-test\n",
    "X0 = df_trump.loc[df_trump.daytime==True,col]\n",
    "X1 = df_trump.loc[df_trump.daytime==False,col]\n",
    "\n",
    "mu0 = np.mean(X0)\n",
    "mu1 = np.mean(X1)\n",
    "(tstat, pval) =stats.ttest_ind(X0,X1, equal_var = False)\n",
    "\n",
    "print(f\"Time\\tMean {col}\")\n",
    "print(f\"Day\\t{mu0:.2f}\")\n",
    "print(f\"Night\\t{mu1:.2f}\")\n",
    "print(f\"Day vs Night: t-stat = {tstat:.3f} ({pval:.4e})\\n\")\n",
    "alpha = 0.01  #significance level\n",
    "if pval <=alpha:\n",
    "  print(\"Significant at 1% level\")\n",
    "else:\n",
    "  print(\"Not significant at 1% level\")\n",
    "\n"
   ]
  },
  {
   "cell_type": "markdown",
   "metadata": {
    "id": "bsNOkccIkedv"
   },
   "source": [
    "## Sentiment: Day vs Night\n",
    "\n",
    "Lets look at the tweet sentiment of day versus night.  "
   ]
  },
  {
   "cell_type": "code",
   "execution_count": 37,
   "metadata": {
    "colab": {
     "base_uri": "https://localhost:8080/",
     "height": 553
    },
    "id": "jYUD4d5VkWzI",
    "outputId": "ba510e9f-30e7-4f62-8007-622714221902"
   },
   "outputs": [
    {
     "data": {
      "image/png": "[encoded data removed]",
      "text/plain": [
       "<Figure size 800x600 with 1 Axes>"
      ]
     },
     "metadata": {},
     "output_type": "display_data"
    }
   ],
   "source": [
    "sns.barplot(data = df_trump,\n",
    "            x = 'daytime',\n",
    "            y = 'sentiment')\n",
    "plt.grid()\n",
    "plt.show()"
   ]
  },
  {
   "cell_type": "code",
   "execution_count": 39,
   "metadata": {
    "colab": {
     "base_uri": "https://localhost:8080/"
    },
    "id": "tn4PYo6KRn6s",
    "outputId": "fae855c5-09b2-48e1-9bd9-0d8bf28b40a5"
   },
   "outputs": [
    {
     "name": "stdout",
     "output_type": "stream",
     "text": [
      "sentiment Day vs Night: t-stat = 5.915 (3.3612e-09)\n",
      "\n",
      "Significant at 1% level\n"
     ]
    }
   ],
   "source": [
    "col = 'sentiment'\n",
    "\n",
    "#create data for t-test\n",
    "X0 = df_trump.loc[df_trump.daytime==True,col]\n",
    "X1 = df_trump.loc[df_trump.daytime==False,col]\n",
    "\n",
    "\n",
    "mu0 = np.mean(X0)\n",
    "mu1 = np.mean(X1)\n",
    "(tstat, pval) =stats.ttest_ind(X0,X1, equal_var = False)\n",
    "\n",
    "print(f\"{col} Day vs Night: t-stat = {tstat:.3f} ({pval:.4e})\\n\")\n",
    "alpha = 0.01  #significance level\n",
    "if pval <=alpha:\n",
    "  print(\"Significant at 1% level\")\n",
    "else:\n",
    "  print(\"Not significant at 1% level\")\n"
   ]
  },
  {
   "cell_type": "markdown",
   "metadata": {
    "id": "XARpPZSun0en"
   },
   "source": [
    "# Favorites vs Sentiment\n",
    "\n",
    "We can plot the sentiment (put into discrete bins) versus favorite count."
   ]
  },
  {
   "cell_type": "code",
   "execution_count": null,
   "metadata": {
    "id": "csVSNR2RRwY_"
   },
   "outputs": [],
   "source": []
  },
  {
   "cell_type": "code",
   "execution_count": 40,
   "metadata": {
    "colab": {
     "base_uri": "https://localhost:8080/",
     "height": 605
    },
    "id": "YDbec0TlmsbU",
    "outputId": "84707b21-ade8-466d-d708-bcdf298232c7"
   },
   "outputs": [
    {
     "data": {
      "image/png": "[encoded data removed]",
      "text/plain": [
       "<Figure size 800x600 with 1 Axes>"
      ]
     },
     "metadata": {},
     "output_type": "display_data"
    }
   ],
   "source": [
    "# Define bins from -1 to 1 with spacing of 0.5\n",
    "bins = np.arange(-1,1.25,0.25)\n",
    "\n",
    "# Use pd.cut() to bin the sentiment values\n",
    "df_trump['sentiment_bin'] = pd.cut(df_trump['sentiment'], bins, labels=False)\n",
    "\n",
    "# Map the numeric bins to more readable labels if desired (optional)\n",
    "bin_labels = [str(x) for x in bins[:-1]]\n",
    "df_trump['sentiment_bin_labels'] = pd.cut(df_trump['sentiment'],\n",
    "                                          bins,\n",
    "                                          labels=bin_labels)\n",
    "\n",
    "# Plotting the boxplot\n",
    "sns.barplot(data=df_trump, x='sentiment_bin_labels', y='favorites')\n",
    "plt.xticks(rotation=45)  # Rotate x labels for better readability\n",
    "plt.title(f'{screen_name}')\n",
    "plt.xlabel('Sentiment Bin')\n",
    "plt.ylabel('Favorites')\n",
    "\n",
    "plt.grid()\n",
    "plt.show()"
   ]
  },
  {
   "cell_type": "markdown",
   "metadata": {
    "id": "8DDBsPMZwNVh"
   },
   "source": [
    "# Correlation Coefficient\n",
    "\n",
    "We will look at the correlation of  sentiment with favorites count for a single user."
   ]
  },
  {
   "cell_type": "markdown",
   "metadata": {
    "id": "rRfULI8MwU-0"
   },
   "source": [
    "## Pearson Correlation Coefficient\n",
    "\n",
    " We apply the `pearsonr` function to the like_count and sentiment columns of the dataframe.  The function returns the Pearson correlation coefficient `cc` and the p-value `pval`."
   ]
  },
  {
   "cell_type": "code",
   "execution_count": 41,
   "metadata": {
    "colab": {
     "base_uri": "https://localhost:8080/"
    },
    "id": "09nlmqe-nIlB",
    "outputId": "141595ae-97c0-4efb-c9a5-da16afb632fd"
   },
   "outputs": [
    {
     "name": "stdout",
     "output_type": "stream",
     "text": [
      "Pearson corr of sentiment and favorites = -0.009 (4.267e-02)\n",
      "Not significant at 1% level\n"
     ]
    }
   ],
   "source": [
    "alpha = 0.01\n",
    "col1 = 'sentiment'  #first column for which you want correlation\n",
    "col2 = 'favorites'  #second column for which you want correlation\n",
    "cc,pval = stats.pearsonr(df_trump[col1], df_trump[col2])\n",
    "\n",
    "print(f\"Pearson corr of {col1} and {col2} = {cc:.3f} ({pval:.3e})\")\n",
    "if pval <=alpha:\n",
    "  print(f\"Significant at {alpha*100:.0f}% level\")\n",
    "else:\n",
    "  print(f\"Not significant at {alpha*100:.0f}% level\")"
   ]
  },
  {
   "cell_type": "markdown",
   "metadata": {
    "id": "gTfmQypfwbhl"
   },
   "source": [
    "## Spearman Rank Correlation Coefficient\n",
    "\n",
    "Spearman's rank correlation coefficient is a non-parametric correlation coefficient that is less susceptible to outliers because it considers the rank of the data, not its values."
   ]
  },
  {
   "cell_type": "code",
   "execution_count": 42,
   "metadata": {
    "colab": {
     "base_uri": "https://localhost:8080/"
    },
    "id": "QVmgEeg5wb--",
    "outputId": "b289ab30-f8dd-43c8-9b6b-943c821c2c0a"
   },
   "outputs": [
    {
     "name": "stdout",
     "output_type": "stream",
     "text": [
      "Spearman corr of sentiment and favorites = -0.057 (2.246e-34)\n",
      "Significant at 1% level\n"
     ]
    }
   ],
   "source": [
    "alpha = 0.01\n",
    "col1 = 'sentiment'  #first column for which you want correlation\n",
    "col2 = 'favorites'  #second column for which you want correlation\n",
    "cc,pval = stats.spearmanr(df_trump[col1], df_trump[col2])\n",
    "\n",
    "print(f\"Spearman corr of {col1} and {col2} = {cc:.3f} ({pval:.3e})\")\n",
    "if pval <=alpha:\n",
    "  print(f\"Significant at {alpha*100:.0f}% level\")\n",
    "else:\n",
    "  print(f\"Not significant at {alpha*100:.0f}% level\")"
   ]
  },
  {
   "cell_type": "markdown",
   "metadata": {
    "id": "sSQya1M7ySbe"
   },
   "source": [
    "## Absolute Sentiment vs Favorite Count\n",
    "\n",
    "Lets look at the absolute value of the sentiment and interaction count."
   ]
  },
  {
   "cell_type": "code",
   "execution_count": 43,
   "metadata": {
    "id": "MT7H3W4uyAm_"
   },
   "outputs": [],
   "source": [
    "df_trump['sentiment_abs'] = df_trump['sentiment'].abs()\n"
   ]
  },
  {
   "cell_type": "code",
   "execution_count": 44,
   "metadata": {
    "colab": {
     "base_uri": "https://localhost:8080/"
    },
    "id": "1pKezyOCyI_H",
    "outputId": "748c6903-a0ed-4265-a6e5-e900bd199a33"
   },
   "outputs": [
    {
     "name": "stdout",
     "output_type": "stream",
     "text": [
      "Spearman corr of sentiment_abs and favorites = 0.110 (2.368e-125)\n",
      "Significant at 1% level\n"
     ]
    }
   ],
   "source": [
    "alpha = 0.01\n",
    "col1 = 'sentiment_abs'  #first column for which you want correlation\n",
    "col2 = 'favorites'  #second column for which you want correlation\n",
    "cc,pval = stats.spearmanr(df_trump[col1], df_trump[col2])\n",
    "\n",
    "print(f\"Spearman corr of {col1} and {col2} = {cc:.3f} ({pval:.3e})\")\n",
    "if pval <=alpha:\n",
    "  print(f\"Significant at {alpha*100:.0f}% level\")\n",
    "else:\n",
    "  print(f\"Not significant at {alpha*100:.0f}% level\")"
   ]
  },
  {
   "cell_type": "code",
   "execution_count": null,
   "metadata": {
    "id": "XPec5hC-SGM-"
   },
   "outputs": [],
   "source": []
  }
 ],
 "metadata": {
  "colab": {
   "provenance": [],
   "toc_visible": true
  },
  "kernelspec": {
   "display_name": "Python 3 (ipykernel)",
   "language": "python",
   "name": "python3"
  },
  "language_info": {
   "codemirror_mode": {
    "name": "ipython",
    "version": 3
   },
   "file_extension": ".py",
   "mimetype": "text/x-python",
   "name": "python",
   "nbconvert_exporter": "python",
   "pygments_lexer": "ipython3",
   "version": "3.9.13"
  }
 },
 "nbformat": 4,
 "nbformat_minor": 1
}
