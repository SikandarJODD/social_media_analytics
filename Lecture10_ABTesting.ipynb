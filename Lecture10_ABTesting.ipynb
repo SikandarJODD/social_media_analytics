{
  "cells": [
    {
      "cell_type": "markdown",
      "metadata": {
        "id": "cSqGWIIuUugh"
      },
      "source": [
        "# Lecture 10 - A/B Testing\n",
        "\n",
        "This notebook will show you how to perform A/B testing on Twitter data.\n",
        "\n",
        "Below is the overview of this notebook.\n",
        "\n",
        "<ol type = 1>\n",
        "    <li> Favorite Count vs Keyword</li>\n",
        "    <ol type = 1>\n",
        "      <li> Z-test</li>\n",
        "      <li> T-test</li>\n",
        "      <li> Mann-Whitney U test</li>\n",
        "      <li> Kolmogorov- Smirnov test</li>\n",
        "      <li> Testing Multiple Hypotheses</li>\n",
        "    </ol>\n",
        "    <li> Comparing User Language</li>\n",
        "    <ol type = 1>\n",
        "      <li> Fisher Exact Test</li>\n",
        "    </ol>\n",
        "    <li> Engagement</li>\n",
        "    <li> Tweet Time</li>\n",
        "    <li> Correlation Coefficients</li>\n",
        "    <ol type = 1>\n",
        "         <li> Pearson Correlation Coefficient</li>\n",
        "        <li> Spearman Correlation Coefficient</li>\n",
        "    </ol>\n",
        "</ol>\n",
        "\n",
        "This notebook can be opened in Colab\n",
        "[![Open In Colab](https://colab.research.google.com/assets/colab-badge.svg)](https://colab.research.google.com/github/zlisto/social_media_analytics/blob/main/Lecture10_ABTesting.ipynb)\n",
        "\n",
        "Before starting, select \"Runtime->Factory reset runtime\" to start with your directories and environment in the base state.\n",
        "\n",
        "If you want to save changes to the notebook, select \"File->Save a copy in Drive\" from the top menu in Colab.  This will save the notebook in your Google Drive.\n",
        "\n",
        "\n"
      ]
    },
    {
      "cell_type": "markdown",
      "metadata": {
        "id": "pKSDBIusUugo"
      },
      "source": [
        "# Clones, installs, and imports\n"
      ]
    },
    {
      "cell_type": "markdown",
      "metadata": {
        "id": "qYIOIn7CUugp"
      },
      "source": [
        "## Clone GitHub Repository\n",
        "This will clone the repository to your machine.  This includes the code and data files.  Then change into the directory of the repository."
      ]
    },
    {
      "cell_type": "code",
      "execution_count": 2,
      "metadata": {
        "colab": {
          "base_uri": "https://localhost:8080/"
        },
        "id": "GQUHZuhOUugp",
        "outputId": "785e3fd0-5e6a-4864-8b37-73f1634eeb0b"
      },
      "outputs": [
        {
          "output_type": "stream",
          "name": "stdout",
          "text": [
            "Cloning into 'social_media_analytics'...\n",
            "remote: Enumerating objects: 2623, done.\u001b[K\n",
            "remote: Counting objects: 100% (2623/2623), done.\u001b[K\n",
            "remote: Compressing objects: 100% (2220/2220), done.\u001b[K\n",
            "remote: Total 2623 (delta 411), reused 2609 (delta 398), pack-reused 0\u001b[K\n",
            "Receiving objects: 100% (2623/2623), 173.28 MiB | 25.98 MiB/s, done.\n",
            "Resolving deltas: 100% (411/411), done.\n",
            "Updating files: 100% (1969/1969), done.\n"
          ]
        }
      ],
      "source": [
        "!git clone https://github.com/zlisto/social_media_analytics\n",
        "\n",
        "import os\n",
        "os.chdir(\"social_media_analytics\")"
      ]
    },
    {
      "cell_type": "markdown",
      "metadata": {
        "id": "hbFYqu96Uugr"
      },
      "source": [
        "## Import Packages\n",
        "\n"
      ]
    },
    {
      "cell_type": "code",
      "execution_count": 3,
      "metadata": {
        "id": "06ZqGM1RUugs"
      },
      "outputs": [],
      "source": [
        "from datetime import datetime, timedelta\n",
        "import numpy as np\n",
        "import pandas as pd\n",
        "import matplotlib.pyplot as plt\n",
        "import seaborn as sns\n",
        "from scipy import stats\n",
        "from statsmodels.stats.weightstats import ztest\n",
        "from statsmodels.stats.multitest import multipletests\n",
        "\n",
        "\n",
        "#display settings for figures\n",
        "pd.set_option(\"display.max_colwidth\", None)\n",
        "plt.rcParams.update({'axes.labelsize': 16,\n",
        "                     'xtick.labelsize': 14,\n",
        "                     'ytick.labelsize': 14})\n",
        "plt.rcParams['figure.figsize'] = [8, 6]"
      ]
    },
    {
      "cell_type": "markdown",
      "source": [
        "# Data Processing"
      ],
      "metadata": {
        "id": "i6dytvPVWaWl"
      }
    },
    {
      "cell_type": "markdown",
      "metadata": {
        "id": "XiR4CbRocy7b"
      },
      "source": [
        "## Load data\n",
        "\n",
        "The data is in `\"data/bidenharris.csv.csv\"`.  This contains tweets for several prominent Twitter users."
      ]
    },
    {
      "cell_type": "code",
      "execution_count": 4,
      "metadata": {
        "colab": {
          "base_uri": "https://localhost:8080/"
        },
        "id": "-i7TA3njcy7c",
        "outputId": "e31bffcb-1b88-4348-8fde-63c5a1521f48"
      },
      "outputs": [
        {
          "output_type": "stream",
          "name": "stdout",
          "text": [
            "dataframe has 2018 tweets\n"
          ]
        },
        {
          "output_type": "execute_result",
          "data": {
            "text/plain": [
              "array(['JoeBiden', 'KamalaHarris'], dtype=object)"
            ]
          },
          "metadata": {},
          "execution_count": 4
        }
      ],
      "source": [
        "fname = \"data/bidenharris.csv\"\n",
        "\n",
        "df_all = pd.read_csv(fname)\n",
        "ntweets = len(df_all)\n",
        "print(f\"dataframe has {ntweets} tweets\")\n",
        "df_all.screen_name.unique()"
      ]
    },
    {
      "cell_type": "markdown",
      "source": [
        "## Add keyword indicator column\n",
        "\n",
        "We will define a list of keywords.  Then we will add a column to the dataframe called `f\"keyword_{keyword}\"` that tells us if the tweet contains the keyword.  "
      ],
      "metadata": {
        "id": "650NVMx7WeQh"
      }
    },
    {
      "cell_type": "code",
      "source": [],
      "metadata": {
        "id": "rkB9WR6mYyBU"
      },
      "execution_count": null,
      "outputs": []
    },
    {
      "cell_type": "code",
      "execution_count": 6,
      "metadata": {
        "colab": {
          "base_uri": "https://localhost:8080/",
          "height": 578
        },
        "id": "cI629HK8cy7d",
        "outputId": "63cc1d4d-6595-43d1-e24b-b8d14766714c"
      },
      "outputs": [
        {
          "output_type": "stream",
          "name": "stdout",
          "text": [
            "love: 71 tweets\n",
            "hate: 26 tweets\n",
            "jill: 41 tweets\n",
            "trump: 61 tweets\n",
            "mad: 96 tweets\n",
            "happy: 44 tweets\n"
          ]
        },
        {
          "output_type": "execute_result",
          "data": {
            "text/plain": [
              "                 tweet_id  \\\n",
              "1304  1728462389069148527   \n",
              "1679  1684290182617391105   \n",
              "\n",
              "                                                                                                                                                                                                                                                                                                              text  \\\n",
              "1304  The last two years were the greatest years for new small business applications on record.\\n\\nOn Small Business Saturday and throughout the holidays, be sure to shop local and support the backbone of our communities.\\n\\nWhen our small business owners succeed, America succeeds. https://t.co/IacSo0rIPC   \n",
              "1679                                                                                                                                                                                                                  Let me be clear: Extremists are pushing forward revisionist history. https://t.co/udKYeAkcNy   \n",
              "\n",
              "     language   type  bookmark_count  favorite_count  retweet_count  \\\n",
              "1304       en  Tweet              29            6599           1408   \n",
              "1679       en  Tweet              74           13230           3051   \n",
              "\n",
              "      reply_count  view_count           created_at  ... urls media_type  \\\n",
              "1304         2059    540648.0  2023-11-25 12:15:21  ...  NaN      photo   \n",
              "1679         7492    964498.0  2023-07-26 15:50:46  ...  NaN      video   \n",
              "\n",
              "                                                                                                                                                                                           media_urls  \\\n",
              "1304  https://pbs.twimg.com/media/F_y7TuBXEAER-NS.jpg,https://pbs.twimg.com/media/F_y7U8LWAAEQB25.jpg,https://pbs.twimg.com/media/F_y7WKUXsAAsxpq.jpg,https://pbs.twimg.com/media/F_y7XYgW0AESlIk.jpg   \n",
              "1679                                                                                              https://video.twimg.com/amplify_video/1684289992397316097/vid/1080x1920/vzPWZZ9k8PtyEEY_.mp4?tag=16   \n",
              "\n",
              "       screen_name keyword_love keyword_hate  keyword_jill  keyword_trump  \\\n",
              "1304  KamalaHarris        False        False         False          False   \n",
              "1679  KamalaHarris        False        False         False          False   \n",
              "\n",
              "      keyword_mad  keyword_happy  \n",
              "1304        False          False  \n",
              "1679        False          False  \n",
              "\n",
              "[2 rows x 22 columns]"
            ],
            "text/html": [
              "\n",
              "  <div id=\"df-6023f120-fbcb-407c-a13d-61e729d8d731\" class=\"colab-df-container\">\n",
              "    <div>\n",
              "<style scoped>\n",
              "    .dataframe tbody tr th:only-of-type {\n",
              "        vertical-align: middle;\n",
              "    }\n",
              "\n",
              "    .dataframe tbody tr th {\n",
              "        vertical-align: top;\n",
              "    }\n",
              "\n",
              "    .dataframe thead th {\n",
              "        text-align: right;\n",
              "    }\n",
              "</style>\n",
              "<table border=\"1\" class=\"dataframe\">\n",
              "  <thead>\n",
              "    <tr style=\"text-align: right;\">\n",
              "      <th></th>\n",
              "      <th>tweet_id</th>\n",
              "      <th>text</th>\n",
              "      <th>language</th>\n",
              "      <th>type</th>\n",
              "      <th>bookmark_count</th>\n",
              "      <th>favorite_count</th>\n",
              "      <th>retweet_count</th>\n",
              "      <th>reply_count</th>\n",
              "      <th>view_count</th>\n",
              "      <th>created_at</th>\n",
              "      <th>...</th>\n",
              "      <th>urls</th>\n",
              "      <th>media_type</th>\n",
              "      <th>media_urls</th>\n",
              "      <th>screen_name</th>\n",
              "      <th>keyword_love</th>\n",
              "      <th>keyword_hate</th>\n",
              "      <th>keyword_jill</th>\n",
              "      <th>keyword_trump</th>\n",
              "      <th>keyword_mad</th>\n",
              "      <th>keyword_happy</th>\n",
              "    </tr>\n",
              "  </thead>\n",
              "  <tbody>\n",
              "    <tr>\n",
              "      <th>1304</th>\n",
              "      <td>1728462389069148527</td>\n",
              "      <td>The last two years were the greatest years for new small business applications on record.\\n\\nOn Small Business Saturday and throughout the holidays, be sure to shop local and support the backbone of our communities.\\n\\nWhen our small business owners succeed, America succeeds. https://t.co/IacSo0rIPC</td>\n",
              "      <td>en</td>\n",
              "      <td>Tweet</td>\n",
              "      <td>29</td>\n",
              "      <td>6599</td>\n",
              "      <td>1408</td>\n",
              "      <td>2059</td>\n",
              "      <td>540648.0</td>\n",
              "      <td>2023-11-25 12:15:21</td>\n",
              "      <td>...</td>\n",
              "      <td>NaN</td>\n",
              "      <td>photo</td>\n",
              "      <td>https://pbs.twimg.com/media/F_y7TuBXEAER-NS.jpg,https://pbs.twimg.com/media/F_y7U8LWAAEQB25.jpg,https://pbs.twimg.com/media/F_y7WKUXsAAsxpq.jpg,https://pbs.twimg.com/media/F_y7XYgW0AESlIk.jpg</td>\n",
              "      <td>KamalaHarris</td>\n",
              "      <td>False</td>\n",
              "      <td>False</td>\n",
              "      <td>False</td>\n",
              "      <td>False</td>\n",
              "      <td>False</td>\n",
              "      <td>False</td>\n",
              "    </tr>\n",
              "    <tr>\n",
              "      <th>1679</th>\n",
              "      <td>1684290182617391105</td>\n",
              "      <td>Let me be clear: Extremists are pushing forward revisionist history. https://t.co/udKYeAkcNy</td>\n",
              "      <td>en</td>\n",
              "      <td>Tweet</td>\n",
              "      <td>74</td>\n",
              "      <td>13230</td>\n",
              "      <td>3051</td>\n",
              "      <td>7492</td>\n",
              "      <td>964498.0</td>\n",
              "      <td>2023-07-26 15:50:46</td>\n",
              "      <td>...</td>\n",
              "      <td>NaN</td>\n",
              "      <td>video</td>\n",
              "      <td>https://video.twimg.com/amplify_video/1684289992397316097/vid/1080x1920/vzPWZZ9k8PtyEEY_.mp4?tag=16</td>\n",
              "      <td>KamalaHarris</td>\n",
              "      <td>False</td>\n",
              "      <td>False</td>\n",
              "      <td>False</td>\n",
              "      <td>False</td>\n",
              "      <td>False</td>\n",
              "      <td>False</td>\n",
              "    </tr>\n",
              "  </tbody>\n",
              "</table>\n",
              "<p>2 rows × 22 columns</p>\n",
              "</div>\n",
              "    <div class=\"colab-df-buttons\">\n",
              "\n",
              "  <div class=\"colab-df-container\">\n",
              "    <button class=\"colab-df-convert\" onclick=\"convertToInteractive('df-6023f120-fbcb-407c-a13d-61e729d8d731')\"\n",
              "            title=\"Convert this dataframe to an interactive table.\"\n",
              "            style=\"display:none;\">\n",
              "\n",
              "  <svg xmlns=\"http://www.w3.org/2000/svg\" height=\"24px\" viewBox=\"0 -960 960 960\">\n",
              "    <path d=\"M120-120v-720h720v720H120Zm60-500h600v-160H180v160Zm220 220h160v-160H400v160Zm0 220h160v-160H400v160ZM180-400h160v-160H180v160Zm440 0h160v-160H620v160ZM180-180h160v-160H180v160Zm440 0h160v-160H620v160Z\"/>\n",
              "  </svg>\n",
              "    </button>\n",
              "\n",
              "  <style>\n",
              "    .colab-df-container {\n",
              "      display:flex;\n",
              "      gap: 12px;\n",
              "    }\n",
              "\n",
              "    .colab-df-convert {\n",
              "      background-color: #E8F0FE;\n",
              "      border: none;\n",
              "      border-radius: 50%;\n",
              "      cursor: pointer;\n",
              "      display: none;\n",
              "      fill: #1967D2;\n",
              "      height: 32px;\n",
              "      padding: 0 0 0 0;\n",
              "      width: 32px;\n",
              "    }\n",
              "\n",
              "    .colab-df-convert:hover {\n",
              "      background-color: #E2EBFA;\n",
              "      box-shadow: 0px 1px 2px rgba(60, 64, 67, 0.3), 0px 1px 3px 1px rgba(60, 64, 67, 0.15);\n",
              "      fill: #174EA6;\n",
              "    }\n",
              "\n",
              "    .colab-df-buttons div {\n",
              "      margin-bottom: 4px;\n",
              "    }\n",
              "\n",
              "    [theme=dark] .colab-df-convert {\n",
              "      background-color: #3B4455;\n",
              "      fill: #D2E3FC;\n",
              "    }\n",
              "\n",
              "    [theme=dark] .colab-df-convert:hover {\n",
              "      background-color: #434B5C;\n",
              "      box-shadow: 0px 1px 3px 1px rgba(0, 0, 0, 0.15);\n",
              "      filter: drop-shadow(0px 1px 2px rgba(0, 0, 0, 0.3));\n",
              "      fill: #FFFFFF;\n",
              "    }\n",
              "  </style>\n",
              "\n",
              "    <script>\n",
              "      const buttonEl =\n",
              "        document.querySelector('#df-6023f120-fbcb-407c-a13d-61e729d8d731 button.colab-df-convert');\n",
              "      buttonEl.style.display =\n",
              "        google.colab.kernel.accessAllowed ? 'block' : 'none';\n",
              "\n",
              "      async function convertToInteractive(key) {\n",
              "        const element = document.querySelector('#df-6023f120-fbcb-407c-a13d-61e729d8d731');\n",
              "        const dataTable =\n",
              "          await google.colab.kernel.invokeFunction('convertToInteractive',\n",
              "                                                    [key], {});\n",
              "        if (!dataTable) return;\n",
              "\n",
              "        const docLinkHtml = 'Like what you see? Visit the ' +\n",
              "          '<a target=\"_blank\" href=https://colab.research.google.com/notebooks/data_table.ipynb>data table notebook</a>'\n",
              "          + ' to learn more about interactive tables.';\n",
              "        element.innerHTML = '';\n",
              "        dataTable['output_type'] = 'display_data';\n",
              "        await google.colab.output.renderOutput(dataTable, element);\n",
              "        const docLink = document.createElement('div');\n",
              "        docLink.innerHTML = docLinkHtml;\n",
              "        element.appendChild(docLink);\n",
              "      }\n",
              "    </script>\n",
              "  </div>\n",
              "\n",
              "\n",
              "<div id=\"df-29333291-371c-4399-a353-038c85934b25\">\n",
              "  <button class=\"colab-df-quickchart\" onclick=\"quickchart('df-29333291-371c-4399-a353-038c85934b25')\"\n",
              "            title=\"Suggest charts\"\n",
              "            style=\"display:none;\">\n",
              "\n",
              "<svg xmlns=\"http://www.w3.org/2000/svg\" height=\"24px\"viewBox=\"0 0 24 24\"\n",
              "     width=\"24px\">\n",
              "    <g>\n",
              "        <path d=\"M19 3H5c-1.1 0-2 .9-2 2v14c0 1.1.9 2 2 2h14c1.1 0 2-.9 2-2V5c0-1.1-.9-2-2-2zM9 17H7v-7h2v7zm4 0h-2V7h2v10zm4 0h-2v-4h2v4z\"/>\n",
              "    </g>\n",
              "</svg>\n",
              "  </button>\n",
              "\n",
              "<style>\n",
              "  .colab-df-quickchart {\n",
              "      --bg-color: #E8F0FE;\n",
              "      --fill-color: #1967D2;\n",
              "      --hover-bg-color: #E2EBFA;\n",
              "      --hover-fill-color: #174EA6;\n",
              "      --disabled-fill-color: #AAA;\n",
              "      --disabled-bg-color: #DDD;\n",
              "  }\n",
              "\n",
              "  [theme=dark] .colab-df-quickchart {\n",
              "      --bg-color: #3B4455;\n",
              "      --fill-color: #D2E3FC;\n",
              "      --hover-bg-color: #434B5C;\n",
              "      --hover-fill-color: #FFFFFF;\n",
              "      --disabled-bg-color: #3B4455;\n",
              "      --disabled-fill-color: #666;\n",
              "  }\n",
              "\n",
              "  .colab-df-quickchart {\n",
              "    background-color: var(--bg-color);\n",
              "    border: none;\n",
              "    border-radius: 50%;\n",
              "    cursor: pointer;\n",
              "    display: none;\n",
              "    fill: var(--fill-color);\n",
              "    height: 32px;\n",
              "    padding: 0;\n",
              "    width: 32px;\n",
              "  }\n",
              "\n",
              "  .colab-df-quickchart:hover {\n",
              "    background-color: var(--hover-bg-color);\n",
              "    box-shadow: 0 1px 2px rgba(60, 64, 67, 0.3), 0 1px 3px 1px rgba(60, 64, 67, 0.15);\n",
              "    fill: var(--button-hover-fill-color);\n",
              "  }\n",
              "\n",
              "  .colab-df-quickchart-complete:disabled,\n",
              "  .colab-df-quickchart-complete:disabled:hover {\n",
              "    background-color: var(--disabled-bg-color);\n",
              "    fill: var(--disabled-fill-color);\n",
              "    box-shadow: none;\n",
              "  }\n",
              "\n",
              "  .colab-df-spinner {\n",
              "    border: 2px solid var(--fill-color);\n",
              "    border-color: transparent;\n",
              "    border-bottom-color: var(--fill-color);\n",
              "    animation:\n",
              "      spin 1s steps(1) infinite;\n",
              "  }\n",
              "\n",
              "  @keyframes spin {\n",
              "    0% {\n",
              "      border-color: transparent;\n",
              "      border-bottom-color: var(--fill-color);\n",
              "      border-left-color: var(--fill-color);\n",
              "    }\n",
              "    20% {\n",
              "      border-color: transparent;\n",
              "      border-left-color: var(--fill-color);\n",
              "      border-top-color: var(--fill-color);\n",
              "    }\n",
              "    30% {\n",
              "      border-color: transparent;\n",
              "      border-left-color: var(--fill-color);\n",
              "      border-top-color: var(--fill-color);\n",
              "      border-right-color: var(--fill-color);\n",
              "    }\n",
              "    40% {\n",
              "      border-color: transparent;\n",
              "      border-right-color: var(--fill-color);\n",
              "      border-top-color: var(--fill-color);\n",
              "    }\n",
              "    60% {\n",
              "      border-color: transparent;\n",
              "      border-right-color: var(--fill-color);\n",
              "    }\n",
              "    80% {\n",
              "      border-color: transparent;\n",
              "      border-right-color: var(--fill-color);\n",
              "      border-bottom-color: var(--fill-color);\n",
              "    }\n",
              "    90% {\n",
              "      border-color: transparent;\n",
              "      border-bottom-color: var(--fill-color);\n",
              "    }\n",
              "  }\n",
              "</style>\n",
              "\n",
              "  <script>\n",
              "    async function quickchart(key) {\n",
              "      const quickchartButtonEl =\n",
              "        document.querySelector('#' + key + ' button');\n",
              "      quickchartButtonEl.disabled = true;  // To prevent multiple clicks.\n",
              "      quickchartButtonEl.classList.add('colab-df-spinner');\n",
              "      try {\n",
              "        const charts = await google.colab.kernel.invokeFunction(\n",
              "            'suggestCharts', [key], {});\n",
              "      } catch (error) {\n",
              "        console.error('Error during call to suggestCharts:', error);\n",
              "      }\n",
              "      quickchartButtonEl.classList.remove('colab-df-spinner');\n",
              "      quickchartButtonEl.classList.add('colab-df-quickchart-complete');\n",
              "    }\n",
              "    (() => {\n",
              "      let quickchartButtonEl =\n",
              "        document.querySelector('#df-29333291-371c-4399-a353-038c85934b25 button');\n",
              "      quickchartButtonEl.style.display =\n",
              "        google.colab.kernel.accessAllowed ? 'block' : 'none';\n",
              "    })();\n",
              "  </script>\n",
              "</div>\n",
              "\n",
              "    </div>\n",
              "  </div>\n"
            ],
            "application/vnd.google.colaboratory.intrinsic+json": {
              "type": "dataframe"
            }
          },
          "metadata": {},
          "execution_count": 6
        }
      ],
      "source": [
        "# prompt: for each word in a list of keywords ['congress','love', 'hate'] add a column to df_all this called f\"keyword_{keyword}\" which is True if text column has the keyword, case insensitive\n",
        "\n",
        "\n",
        "keywords = ['love','hate', 'jill','trump','mad','happy']\n",
        "\n",
        "for keyword in keywords:\n",
        "  col = f'keyword_{keyword}'\n",
        "  df_all[col] = df_all.text.str.contains(keyword, case=False, regex = True)\n",
        "  ntweets = len(df_all[df_all[col]==True])\n",
        "  print(f\"{keyword}: {ntweets} tweets\")\n",
        "\n",
        "df_all.sample(n=2)"
      ]
    },
    {
      "cell_type": "markdown",
      "source": [
        "# Favorite Count vs. Keyword\n",
        "\n",
        "We will look at the tweets of a single user and compare favorite counts versus keywords."
      ],
      "metadata": {
        "id": "kWqRJn_ElT1h"
      }
    },
    {
      "cell_type": "markdown",
      "source": [
        "## Create Single User Dataframe\n",
        "\n",
        "Make a dataframe `df_u` that is the tweets of a user in `df_all` with `screen_name` of your choice.  Make sure `df_u` is a `copy()` of `df_all`"
      ],
      "metadata": {
        "id": "MTn21TJ71m0M"
      }
    },
    {
      "cell_type": "code",
      "source": [
        "screen_name = 'JoeBiden'\n",
        "df_u = df_all[df_all.screen_name==screen_name].copy()"
      ],
      "metadata": {
        "id": "1tbHdBizm63w"
      },
      "execution_count": 7,
      "outputs": []
    },
    {
      "cell_type": "markdown",
      "source": [
        "## Plot like count vs keyword\n",
        "\n",
        "\n",
        "We will plot the favorite count vs. keyword for each keyword in the list `keywords`.  We use the `barplot` function and set the confidence intervals with the `ci` parameter."
      ],
      "metadata": {
        "id": "tHYng91AmOXx"
      }
    },
    {
      "cell_type": "code",
      "source": [],
      "metadata": {
        "id": "yw9hR9prT03i"
      },
      "execution_count": null,
      "outputs": []
    },
    {
      "cell_type": "code",
      "execution_count": 10,
      "metadata": {
        "colab": {
          "base_uri": "https://localhost:8080/",
          "height": 1000
        },
        "id": "6cizkeNwcy7e",
        "outputId": "4fb8572e-eeda-4055-d00d-3b4e0eb664aa"
      },
      "outputs": [
        {
          "output_type": "display_data",
          "data": {
            "text/plain": [
              "<Figure size 1200x1800 with 6 Axes>"
            ],
            "image/png": "[encoded data removed]"
          },
          "metadata": {}
        }
      ],
      "source": [
        "col = 'favorite_count'\n",
        "fig = plt.figure(figsize = (12,18))\n",
        "nrows = int(len(keywords)/2) + 1\n",
        "c=0\n",
        "for keyword in keywords:\n",
        "    c+=1\n",
        "    plt.subplot(nrows,2,c)\n",
        "    sns.barplot(data = df_u,\n",
        "                x= f\"keyword_{keyword}\",\n",
        "                y = col,\n",
        "                errorbar=('ci', 95) )\n",
        "    plt.xticks(fontsize = 10)\n",
        "    plt.yticks(fontsize = 10)\n",
        "    plt.grid()\n",
        "plt.show()"
      ]
    },
    {
      "cell_type": "markdown",
      "source": [
        "## Create Data for Statistical Tests\n",
        "\n",
        "We will created arrays `X0` and `X1` that are the retweet counts without  and with a keyword."
      ],
      "metadata": {
        "id": "w7W7K2celeBY"
      }
    },
    {
      "cell_type": "code",
      "source": [],
      "metadata": {
        "id": "p3zAwck5UINq"
      },
      "execution_count": null,
      "outputs": []
    },
    {
      "cell_type": "code",
      "execution_count": 11,
      "metadata": {
        "colab": {
          "base_uri": "https://localhost:8080/"
        },
        "id": "w-Zbf4yFcy7e",
        "outputId": "f870f916-333a-409d-d0e5-77a3aa667b6e"
      },
      "outputs": [
        {
          "output_type": "stream",
          "name": "stdout",
          "text": [
            "Tweets of JoeBiden\n",
            "Contains trump\tNumber of tweets\tMean favorite_count\n",
            "False\t\t953\t\t\t21690.1\n",
            "True\t\t50\t\t\t38278.3\n"
          ]
        }
      ],
      "source": [
        "# prompt: create arrays X0 and X1 that are like_count in df_u where keyword_congress is False and True\n",
        "\n",
        "keyword = \"trump\"\n",
        "\n",
        "ind = df_u[f\"keyword_{keyword}\"]==True\n",
        "col = 'favorite_count'\n",
        "X0 = df_u.loc[~ind,col].dropna().to_numpy()\n",
        "X1 = df_u.loc[ind,col].dropna().to_numpy()\n",
        "n0 = len(X0)\n",
        "n1 = len(X1)\n",
        "\n",
        "mu0 = np.mean(X0)\n",
        "mu1 = np.mean(X1)\n",
        "\n",
        "print(f\"Tweets of {screen_name}\")\n",
        "print(f\"Contains {keyword}\\tNumber of tweets\\tMean {col}\")\n",
        "print(f\"False\\t\\t{n0}\\t\\t\\t{mu0:.1f}\")\n",
        "print(f\"True\\t\\t{n1}\\t\\t\\t{mu1:.1f}\")"
      ]
    },
    {
      "cell_type": "markdown",
      "source": [
        "## Statistical Tests\n",
        "\n",
        "We will conduct a variety of statistical tests on `X0` and `X1` to see if they are different.  The statistical tests we use have similar structure.  They each return the test statistic and the p-value.  They let us specify what alternative hypothesis we are looking for using the  `alternative` parameter. Its value can be set to\n",
        "\n",
        "1. `'two-sided'` = means are different\n",
        "\n",
        "2. `'less'` = mean of first argument is less than second argument\n",
        "\n",
        "3. `'greater'` = mean of first argument is greater than second argument\n",
        "\n",
        "We can set our significance level `alpha` to determine if we deem the test significant or not.  Significant means `pval<=alpha`."
      ],
      "metadata": {
        "id": "pHY7c_wuVqxR"
      }
    },
    {
      "cell_type": "markdown",
      "source": [
        "### Z-test\n",
        "\n",
        "We will apply a z-test to see if the mean favorite count is different for tweets with and without the keyword.  We apply the `ztest` function to `X0` and `X1`.  We set `value=0` which means under the null hypothesis the means are equal.  The test returns the z-statistic `zstat` and the p-value `pval`.  The z-test is appropriate when you know the variance (which is usually never).\n",
        "\n"
      ],
      "metadata": {
        "id": "CwILRGBhpaFm"
      }
    },
    {
      "cell_type": "code",
      "source": [],
      "metadata": {
        "id": "q-SwJx9aRaTA"
      },
      "execution_count": null,
      "outputs": []
    },
    {
      "cell_type": "code",
      "execution_count": 12,
      "metadata": {
        "colab": {
          "base_uri": "https://localhost:8080/"
        },
        "id": "mkDUR12kcy7f",
        "outputId": "d2b5dbd9-a8e9-4d7e-8bba-9d1ecf5ab3ed"
      },
      "outputs": [
        {
          "output_type": "stream",
          "name": "stdout",
          "text": [
            "Z-test\n",
            "trump: z-stat = -4.838 (1.309e-06)\n",
            "\n",
            "Significant at 1% level\n"
          ]
        }
      ],
      "source": [
        "# prompt: X0 and X1 are two arrays of numeric samples.  conduct a ztest to see if they ahve differnet means\n",
        "alpha = 0.01  #significance level\n",
        "\n",
        "(zstat, pval) = ztest(X0, X1,\n",
        "                      value=0,\n",
        "                      alternative='two-sided',\n",
        "                      usevar = 'unequal')\n",
        "\n",
        "\n",
        "print(f\"Z-test\")\n",
        "print(f\"{keyword}: z-stat = {zstat:.3f} ({pval:.3e})\\n\")\n",
        "if pval <=alpha:\n",
        "  print(f\"Significant at {alpha*100:.0f}% level\")\n",
        "else:\n",
        "  print(f\"Not significant at {alpha*100:.0f}% level\")"
      ]
    },
    {
      "cell_type": "markdown",
      "metadata": {
        "id": "FJBlo0vbcy7i"
      },
      "source": [
        "### T-test\n",
        "\n",
        "We can apply the t-test to compare the mean favorite counts.  The t-test is appropriate when the variance is unknown.  We use the function `ttest_ind` and set `equal_var=False`."
      ]
    },
    {
      "cell_type": "code",
      "execution_count": 13,
      "metadata": {
        "colab": {
          "base_uri": "https://localhost:8080/"
        },
        "id": "JuDWhrnAcy7i",
        "outputId": "6b15670c-6c97-4c3d-9509-cb020293cb43"
      },
      "outputs": [
        {
          "output_type": "stream",
          "name": "stdout",
          "text": [
            "T-test\n",
            "trump: t-stat = -4.838 (1.000e-05)\n",
            "\n",
            "Significant at 1% level\n"
          ]
        }
      ],
      "source": [
        "alpha = 0.01  #significance level\n",
        "\n",
        "(tstat, pval) =stats.ttest_ind(X0,X1,\n",
        "                               equal_var = False,\n",
        "                               nan_policy = 'omit',\n",
        "                               alternative = 'two-sided')\n",
        "\n",
        "print('T-test')\n",
        "print(f\"{keyword}: t-stat = {tstat:.3f} ({pval:.3e})\\n\")\n",
        "if pval <=alpha:\n",
        "  print(f\"Significant at {alpha*100:.0f}% level\")\n",
        "else:\n",
        "  print(f\"Not significant at {alpha*100:.0f}% level\")"
      ]
    },
    {
      "cell_type": "markdown",
      "source": [
        "### Mann-Whitney U test\n",
        "\n",
        "The Mann-Whitney U test is a non-parametric test that deals with the probability `X0>X1`.  We use the `mannwhitneyu` function."
      ],
      "metadata": {
        "id": "LqEPfJtcrRbb"
      }
    },
    {
      "cell_type": "code",
      "execution_count": 14,
      "metadata": {
        "colab": {
          "base_uri": "https://localhost:8080/"
        },
        "id": "x5Htxqejcy7i",
        "outputId": "a7a72261-2413-4845-89cb-ffaaf3f4ded8"
      },
      "outputs": [
        {
          "output_type": "stream",
          "name": "stdout",
          "text": [
            "Mann Whitney U test\n",
            "trump: U-stat = 10378.000 (1.646e-11)\n",
            "\n",
            "Significant at 1% level\n"
          ]
        }
      ],
      "source": [
        "alpha = 0.01  #significance level\n",
        "\n",
        "ustat, pval = stats.mannwhitneyu(X0, X1,\n",
        "                                nan_policy = 'omit',\n",
        "                                alternative = 'two-sided')\n",
        "\n",
        "print('Mann Whitney U test')\n",
        "print(f\"{keyword}: U-stat = {ustat:.3f} ({pval:.3e})\\n\")\n",
        "if pval <=alpha:\n",
        "  print(f\"Significant at {alpha*100:.0f}% level\")\n",
        "else:\n",
        "  print(f\"Not significant at {alpha*100:.0f}% level\")"
      ]
    },
    {
      "cell_type": "markdown",
      "source": [
        "### Kolmogorov-Smirnov test\n",
        "\n",
        "The Kolmogorov-Smirnov test is a non-parametric test with the null hypothesis that the cumulative distribution functions of the two groups are equal.  We use the `ks_2samp` function.\n"
      ],
      "metadata": {
        "id": "yZBMVz9YsROf"
      }
    },
    {
      "cell_type": "code",
      "source": [
        "alpha = 0.01  #significance level\n",
        "\n",
        "ksstat, pval = stats.ks_2samp(X0, X1,\n",
        "                              alternative='two-sided')\n",
        "\n",
        "print('Kolmogorov-Smirnov test')\n",
        "print(f\"{keyword}: KS-stat = {ustat:.3f} ({pval:.3e})\\n\")\n",
        "if pval <=alpha:\n",
        "  print(f\"Significant at {alpha*100:.0f}% level\")\n",
        "else:\n",
        "  print(f\"Not significant at {alpha*100:.0f}% level\")"
      ],
      "metadata": {
        "colab": {
          "base_uri": "https://localhost:8080/"
        },
        "id": "ukbN_XCzsfro",
        "outputId": "794df503-21e7-41b2-9614-f0284d5f04b8"
      },
      "execution_count": 15,
      "outputs": [
        {
          "output_type": "stream",
          "name": "stdout",
          "text": [
            "Kolmogorov-Smirnov test\n",
            "trump: KS-stat = 10378.000 (2.956e-15)\n",
            "\n",
            "Significant at 1% level\n"
          ]
        }
      ]
    },
    {
      "cell_type": "markdown",
      "metadata": {
        "id": "VVPji_JPcy7k"
      },
      "source": [
        "## Testing Multiple Hypotheses\n",
        "\n",
        "If we test all the keywords to see which ones increase the mean favorite count, we need to correct the p-values to account for the multiple hypotheses.  We first choose a significance level `alpha`, which is either the family-wise error rate (FWER) or the false discovery rate (FDR).  Then we calculate the p-value of a t-test for each keyword and save these p-values in a list `pvals`.  Finally, we apply the `multipletests` function to `pvals` and set `method` to our method of choice.  We save the results in a dataframe `df_p` so we can read the results easily.\n",
        "\n",
        "The `method` options include\n",
        "\n",
        "1. `'bonferroni'` = Bonferroni method (FWER)\n",
        "\n",
        "2. `'sidak'` = Sidak method (FWER)\n",
        "\n",
        "3. `'holm'` = Holm-Bonferroni method (FWER)\n",
        "\n",
        "4. `'benjamini-hochberg'` or `'fdr_bh'` = Benjamini-Hochberg method (FDR)"
      ]
    },
    {
      "cell_type": "markdown",
      "source": [
        "### Calculate P-Values\n",
        "\n",
        "First we need to calculate the p-values for each keyword and save the result to a list `pvals`."
      ],
      "metadata": {
        "id": "Ah7U91_JOuWd"
      }
    },
    {
      "cell_type": "code",
      "execution_count": 16,
      "metadata": {
        "colab": {
          "base_uri": "https://localhost:8080/"
        },
        "id": "b7K50mO5cy7k",
        "outputId": "6834acb2-d22c-4cd1-c5a6-05ada1d491b3"
      },
      "outputs": [
        {
          "output_type": "stream",
          "name": "stdout",
          "text": [
            "love: t-stat = -1.903 (6.569e-02)\n",
            "hate: t-stat = -0.245 (8.087e-01)\n",
            "jill: t-stat = -1.420 (1.633e-01)\n",
            "trump: t-stat = -4.838 (1.000e-05)\n",
            "mad: t-stat = 2.332 (2.287e-02)\n",
            "happy: t-stat = -2.719 (1.313e-02)\n"
          ]
        }
      ],
      "source": [
        "pvals = []\n",
        "col = 'favorite_count'\n",
        "for keyword in keywords:\n",
        "  ind = df_u[f\"keyword_{keyword}\"]==True\n",
        "  X0 = df_u.loc[~ind,col].dropna().to_numpy()\n",
        "  X1 = df_u.loc[ind,col].dropna().to_numpy()\n",
        "  (tstat, pval) =stats.ttest_ind(X0,X1, equal_var = False)\n",
        "  pvals.append(pval)\n",
        "  print(f\"{keyword}: t-stat = {tstat:.3f} ({pval:.3e})\")\n",
        "\n"
      ]
    },
    {
      "cell_type": "markdown",
      "source": [
        "### Apply `multipletests`\n",
        "\n",
        "Set `method` to your method of choice."
      ],
      "metadata": {
        "id": "pRDgPvxYOnsm"
      }
    },
    {
      "cell_type": "code",
      "execution_count": 20,
      "metadata": {
        "colab": {
          "base_uri": "https://localhost:8080/",
          "height": 255
        },
        "id": "uTWo-hofcy7k",
        "outputId": "e07be83d-d582-4994-a11e-c3e6393f530a"
      },
      "outputs": [
        {
          "output_type": "stream",
          "name": "stdout",
          "text": [
            "holm method t-test\n"
          ]
        },
        {
          "output_type": "execute_result",
          "data": {
            "text/plain": [
              "  keyword  reject_H0      pval\n",
              "0    love      False  0.065691\n",
              "1    hate      False  0.808687\n",
              "2    jill      False  0.163285\n",
              "3   trump       True  0.000010\n",
              "4     mad      False  0.022871\n",
              "5   happy      False  0.013130"
            ],
            "text/html": [
              "\n",
              "  <div id=\"df-a0f3ed6d-533a-460a-9696-340d0376f5cb\" class=\"colab-df-container\">\n",
              "    <div>\n",
              "<style scoped>\n",
              "    .dataframe tbody tr th:only-of-type {\n",
              "        vertical-align: middle;\n",
              "    }\n",
              "\n",
              "    .dataframe tbody tr th {\n",
              "        vertical-align: top;\n",
              "    }\n",
              "\n",
              "    .dataframe thead th {\n",
              "        text-align: right;\n",
              "    }\n",
              "</style>\n",
              "<table border=\"1\" class=\"dataframe\">\n",
              "  <thead>\n",
              "    <tr style=\"text-align: right;\">\n",
              "      <th></th>\n",
              "      <th>keyword</th>\n",
              "      <th>reject_H0</th>\n",
              "      <th>pval</th>\n",
              "    </tr>\n",
              "  </thead>\n",
              "  <tbody>\n",
              "    <tr>\n",
              "      <th>0</th>\n",
              "      <td>love</td>\n",
              "      <td>False</td>\n",
              "      <td>0.065691</td>\n",
              "    </tr>\n",
              "    <tr>\n",
              "      <th>1</th>\n",
              "      <td>hate</td>\n",
              "      <td>False</td>\n",
              "      <td>0.808687</td>\n",
              "    </tr>\n",
              "    <tr>\n",
              "      <th>2</th>\n",
              "      <td>jill</td>\n",
              "      <td>False</td>\n",
              "      <td>0.163285</td>\n",
              "    </tr>\n",
              "    <tr>\n",
              "      <th>3</th>\n",
              "      <td>trump</td>\n",
              "      <td>True</td>\n",
              "      <td>0.000010</td>\n",
              "    </tr>\n",
              "    <tr>\n",
              "      <th>4</th>\n",
              "      <td>mad</td>\n",
              "      <td>False</td>\n",
              "      <td>0.022871</td>\n",
              "    </tr>\n",
              "    <tr>\n",
              "      <th>5</th>\n",
              "      <td>happy</td>\n",
              "      <td>False</td>\n",
              "      <td>0.013130</td>\n",
              "    </tr>\n",
              "  </tbody>\n",
              "</table>\n",
              "</div>\n",
              "    <div class=\"colab-df-buttons\">\n",
              "\n",
              "  <div class=\"colab-df-container\">\n",
              "    <button class=\"colab-df-convert\" onclick=\"convertToInteractive('df-a0f3ed6d-533a-460a-9696-340d0376f5cb')\"\n",
              "            title=\"Convert this dataframe to an interactive table.\"\n",
              "            style=\"display:none;\">\n",
              "\n",
              "  <svg xmlns=\"http://www.w3.org/2000/svg\" height=\"24px\" viewBox=\"0 -960 960 960\">\n",
              "    <path d=\"M120-120v-720h720v720H120Zm60-500h600v-160H180v160Zm220 220h160v-160H400v160Zm0 220h160v-160H400v160ZM180-400h160v-160H180v160Zm440 0h160v-160H620v160ZM180-180h160v-160H180v160Zm440 0h160v-160H620v160Z\"/>\n",
              "  </svg>\n",
              "    </button>\n",
              "\n",
              "  <style>\n",
              "    .colab-df-container {\n",
              "      display:flex;\n",
              "      gap: 12px;\n",
              "    }\n",
              "\n",
              "    .colab-df-convert {\n",
              "      background-color: #E8F0FE;\n",
              "      border: none;\n",
              "      border-radius: 50%;\n",
              "      cursor: pointer;\n",
              "      display: none;\n",
              "      fill: #1967D2;\n",
              "      height: 32px;\n",
              "      padding: 0 0 0 0;\n",
              "      width: 32px;\n",
              "    }\n",
              "\n",
              "    .colab-df-convert:hover {\n",
              "      background-color: #E2EBFA;\n",
              "      box-shadow: 0px 1px 2px rgba(60, 64, 67, 0.3), 0px 1px 3px 1px rgba(60, 64, 67, 0.15);\n",
              "      fill: #174EA6;\n",
              "    }\n",
              "\n",
              "    .colab-df-buttons div {\n",
              "      margin-bottom: 4px;\n",
              "    }\n",
              "\n",
              "    [theme=dark] .colab-df-convert {\n",
              "      background-color: #3B4455;\n",
              "      fill: #D2E3FC;\n",
              "    }\n",
              "\n",
              "    [theme=dark] .colab-df-convert:hover {\n",
              "      background-color: #434B5C;\n",
              "      box-shadow: 0px 1px 3px 1px rgba(0, 0, 0, 0.15);\n",
              "      filter: drop-shadow(0px 1px 2px rgba(0, 0, 0, 0.3));\n",
              "      fill: #FFFFFF;\n",
              "    }\n",
              "  </style>\n",
              "\n",
              "    <script>\n",
              "      const buttonEl =\n",
              "        document.querySelector('#df-a0f3ed6d-533a-460a-9696-340d0376f5cb button.colab-df-convert');\n",
              "      buttonEl.style.display =\n",
              "        google.colab.kernel.accessAllowed ? 'block' : 'none';\n",
              "\n",
              "      async function convertToInteractive(key) {\n",
              "        const element = document.querySelector('#df-a0f3ed6d-533a-460a-9696-340d0376f5cb');\n",
              "        const dataTable =\n",
              "          await google.colab.kernel.invokeFunction('convertToInteractive',\n",
              "                                                    [key], {});\n",
              "        if (!dataTable) return;\n",
              "\n",
              "        const docLinkHtml = 'Like what you see? Visit the ' +\n",
              "          '<a target=\"_blank\" href=https://colab.research.google.com/notebooks/data_table.ipynb>data table notebook</a>'\n",
              "          + ' to learn more about interactive tables.';\n",
              "        element.innerHTML = '';\n",
              "        dataTable['output_type'] = 'display_data';\n",
              "        await google.colab.output.renderOutput(dataTable, element);\n",
              "        const docLink = document.createElement('div');\n",
              "        docLink.innerHTML = docLinkHtml;\n",
              "        element.appendChild(docLink);\n",
              "      }\n",
              "    </script>\n",
              "  </div>\n",
              "\n",
              "\n",
              "<div id=\"df-2cf980df-2409-424d-b9dc-871caea59edf\">\n",
              "  <button class=\"colab-df-quickchart\" onclick=\"quickchart('df-2cf980df-2409-424d-b9dc-871caea59edf')\"\n",
              "            title=\"Suggest charts\"\n",
              "            style=\"display:none;\">\n",
              "\n",
              "<svg xmlns=\"http://www.w3.org/2000/svg\" height=\"24px\"viewBox=\"0 0 24 24\"\n",
              "     width=\"24px\">\n",
              "    <g>\n",
              "        <path d=\"M19 3H5c-1.1 0-2 .9-2 2v14c0 1.1.9 2 2 2h14c1.1 0 2-.9 2-2V5c0-1.1-.9-2-2-2zM9 17H7v-7h2v7zm4 0h-2V7h2v10zm4 0h-2v-4h2v4z\"/>\n",
              "    </g>\n",
              "</svg>\n",
              "  </button>\n",
              "\n",
              "<style>\n",
              "  .colab-df-quickchart {\n",
              "      --bg-color: #E8F0FE;\n",
              "      --fill-color: #1967D2;\n",
              "      --hover-bg-color: #E2EBFA;\n",
              "      --hover-fill-color: #174EA6;\n",
              "      --disabled-fill-color: #AAA;\n",
              "      --disabled-bg-color: #DDD;\n",
              "  }\n",
              "\n",
              "  [theme=dark] .colab-df-quickchart {\n",
              "      --bg-color: #3B4455;\n",
              "      --fill-color: #D2E3FC;\n",
              "      --hover-bg-color: #434B5C;\n",
              "      --hover-fill-color: #FFFFFF;\n",
              "      --disabled-bg-color: #3B4455;\n",
              "      --disabled-fill-color: #666;\n",
              "  }\n",
              "\n",
              "  .colab-df-quickchart {\n",
              "    background-color: var(--bg-color);\n",
              "    border: none;\n",
              "    border-radius: 50%;\n",
              "    cursor: pointer;\n",
              "    display: none;\n",
              "    fill: var(--fill-color);\n",
              "    height: 32px;\n",
              "    padding: 0;\n",
              "    width: 32px;\n",
              "  }\n",
              "\n",
              "  .colab-df-quickchart:hover {\n",
              "    background-color: var(--hover-bg-color);\n",
              "    box-shadow: 0 1px 2px rgba(60, 64, 67, 0.3), 0 1px 3px 1px rgba(60, 64, 67, 0.15);\n",
              "    fill: var(--button-hover-fill-color);\n",
              "  }\n",
              "\n",
              "  .colab-df-quickchart-complete:disabled,\n",
              "  .colab-df-quickchart-complete:disabled:hover {\n",
              "    background-color: var(--disabled-bg-color);\n",
              "    fill: var(--disabled-fill-color);\n",
              "    box-shadow: none;\n",
              "  }\n",
              "\n",
              "  .colab-df-spinner {\n",
              "    border: 2px solid var(--fill-color);\n",
              "    border-color: transparent;\n",
              "    border-bottom-color: var(--fill-color);\n",
              "    animation:\n",
              "      spin 1s steps(1) infinite;\n",
              "  }\n",
              "\n",
              "  @keyframes spin {\n",
              "    0% {\n",
              "      border-color: transparent;\n",
              "      border-bottom-color: var(--fill-color);\n",
              "      border-left-color: var(--fill-color);\n",
              "    }\n",
              "    20% {\n",
              "      border-color: transparent;\n",
              "      border-left-color: var(--fill-color);\n",
              "      border-top-color: var(--fill-color);\n",
              "    }\n",
              "    30% {\n",
              "      border-color: transparent;\n",
              "      border-left-color: var(--fill-color);\n",
              "      border-top-color: var(--fill-color);\n",
              "      border-right-color: var(--fill-color);\n",
              "    }\n",
              "    40% {\n",
              "      border-color: transparent;\n",
              "      border-right-color: var(--fill-color);\n",
              "      border-top-color: var(--fill-color);\n",
              "    }\n",
              "    60% {\n",
              "      border-color: transparent;\n",
              "      border-right-color: var(--fill-color);\n",
              "    }\n",
              "    80% {\n",
              "      border-color: transparent;\n",
              "      border-right-color: var(--fill-color);\n",
              "      border-bottom-color: var(--fill-color);\n",
              "    }\n",
              "    90% {\n",
              "      border-color: transparent;\n",
              "      border-bottom-color: var(--fill-color);\n",
              "    }\n",
              "  }\n",
              "</style>\n",
              "\n",
              "  <script>\n",
              "    async function quickchart(key) {\n",
              "      const quickchartButtonEl =\n",
              "        document.querySelector('#' + key + ' button');\n",
              "      quickchartButtonEl.disabled = true;  // To prevent multiple clicks.\n",
              "      quickchartButtonEl.classList.add('colab-df-spinner');\n",
              "      try {\n",
              "        const charts = await google.colab.kernel.invokeFunction(\n",
              "            'suggestCharts', [key], {});\n",
              "      } catch (error) {\n",
              "        console.error('Error during call to suggestCharts:', error);\n",
              "      }\n",
              "      quickchartButtonEl.classList.remove('colab-df-spinner');\n",
              "      quickchartButtonEl.classList.add('colab-df-quickchart-complete');\n",
              "    }\n",
              "    (() => {\n",
              "      let quickchartButtonEl =\n",
              "        document.querySelector('#df-2cf980df-2409-424d-b9dc-871caea59edf button');\n",
              "      quickchartButtonEl.style.display =\n",
              "        google.colab.kernel.accessAllowed ? 'block' : 'none';\n",
              "    })();\n",
              "  </script>\n",
              "</div>\n",
              "\n",
              "  <div id=\"id_57d1b794-c066-4ce4-9c4d-42108e81c3da\">\n",
              "    <style>\n",
              "      .colab-df-generate {\n",
              "        background-color: #E8F0FE;\n",
              "        border: none;\n",
              "        border-radius: 50%;\n",
              "        cursor: pointer;\n",
              "        display: none;\n",
              "        fill: #1967D2;\n",
              "        height: 32px;\n",
              "        padding: 0 0 0 0;\n",
              "        width: 32px;\n",
              "      }\n",
              "\n",
              "      .colab-df-generate:hover {\n",
              "        background-color: #E2EBFA;\n",
              "        box-shadow: 0px 1px 2px rgba(60, 64, 67, 0.3), 0px 1px 3px 1px rgba(60, 64, 67, 0.15);\n",
              "        fill: #174EA6;\n",
              "      }\n",
              "\n",
              "      [theme=dark] .colab-df-generate {\n",
              "        background-color: #3B4455;\n",
              "        fill: #D2E3FC;\n",
              "      }\n",
              "\n",
              "      [theme=dark] .colab-df-generate:hover {\n",
              "        background-color: #434B5C;\n",
              "        box-shadow: 0px 1px 3px 1px rgba(0, 0, 0, 0.15);\n",
              "        filter: drop-shadow(0px 1px 2px rgba(0, 0, 0, 0.3));\n",
              "        fill: #FFFFFF;\n",
              "      }\n",
              "    </style>\n",
              "    <button class=\"colab-df-generate\" onclick=\"generateWithVariable('df_p')\"\n",
              "            title=\"Generate code using this dataframe.\"\n",
              "            style=\"display:none;\">\n",
              "\n",
              "  <svg xmlns=\"http://www.w3.org/2000/svg\" height=\"24px\"viewBox=\"0 0 24 24\"\n",
              "       width=\"24px\">\n",
              "    <path d=\"M7,19H8.4L18.45,9,17,7.55,7,17.6ZM5,21V16.75L18.45,3.32a2,2,0,0,1,2.83,0l1.4,1.43a1.91,1.91,0,0,1,.58,1.4,1.91,1.91,0,0,1-.58,1.4L9.25,21ZM18.45,9,17,7.55Zm-12,3A5.31,5.31,0,0,0,4.9,8.1,5.31,5.31,0,0,0,1,6.5,5.31,5.31,0,0,0,4.9,4.9,5.31,5.31,0,0,0,6.5,1,5.31,5.31,0,0,0,8.1,4.9,5.31,5.31,0,0,0,12,6.5,5.46,5.46,0,0,0,6.5,12Z\"/>\n",
              "  </svg>\n",
              "    </button>\n",
              "    <script>\n",
              "      (() => {\n",
              "      const buttonEl =\n",
              "        document.querySelector('#id_57d1b794-c066-4ce4-9c4d-42108e81c3da button.colab-df-generate');\n",
              "      buttonEl.style.display =\n",
              "        google.colab.kernel.accessAllowed ? 'block' : 'none';\n",
              "\n",
              "      buttonEl.onclick = () => {\n",
              "        google.colab.notebook.generateWithVariable('df_p');\n",
              "      }\n",
              "      })();\n",
              "    </script>\n",
              "  </div>\n",
              "\n",
              "    </div>\n",
              "  </div>\n"
            ],
            "application/vnd.google.colaboratory.intrinsic+json": {
              "type": "dataframe",
              "variable_name": "df_p",
              "summary": "{\n  \"name\": \"df_p\",\n  \"rows\": 6,\n  \"fields\": [\n    {\n      \"column\": \"keyword\",\n      \"properties\": {\n        \"dtype\": \"string\",\n        \"num_unique_values\": 6,\n        \"samples\": [\n          \"love\",\n          \"hate\",\n          \"happy\"\n        ],\n        \"semantic_type\": \"\",\n        \"description\": \"\"\n      }\n    },\n    {\n      \"column\": \"reject_H0\",\n      \"properties\": {\n        \"dtype\": \"boolean\",\n        \"num_unique_values\": 2,\n        \"samples\": [\n          true,\n          false\n        ],\n        \"semantic_type\": \"\",\n        \"description\": \"\"\n      }\n    },\n    {\n      \"column\": \"pval\",\n      \"properties\": {\n        \"dtype\": \"number\",\n        \"std\": 0.314171214802894,\n        \"min\": 1.000006821269664e-05,\n        \"max\": 0.8086868973402566,\n        \"num_unique_values\": 6,\n        \"samples\": [\n          0.06569135279978033,\n          0.8086868973402566\n        ],\n        \"semantic_type\": \"\",\n        \"description\": \"\"\n      }\n    }\n  ]\n}"
            }
          },
          "metadata": {},
          "execution_count": 20
        }
      ],
      "source": [
        "alpha = 0.01  #significance level\n",
        "method = 'holm'  #multiple testing method\n",
        "\n",
        "rejects,pvals_corrected,_,_ = multipletests(pvals,\n",
        "                                            alpha=alpha,\n",
        "                                            method=method,\n",
        "                                            is_sorted=False,\n",
        "                                            returnsorted=False)\n",
        "df_p = pd.DataFrame({'keyword':keywords,\n",
        "                     'reject_H0':rejects,\n",
        "                     'pval':pvals})\n",
        "print(f\"{method} method t-test\")\n",
        "df_p"
      ]
    },
    {
      "cell_type": "markdown",
      "source": [
        "# Comparing Users Language\n",
        "\n",
        "We will look at two users and see if they use a given keyword with the same frequency."
      ],
      "metadata": {
        "id": "LvaJyEadv3iK"
      }
    },
    {
      "cell_type": "markdown",
      "metadata": {
        "id": "VBeOffA3cy7j"
      },
      "source": [
        "## Contingency table\n",
        "\n",
        "We select two users with screen names given by the variables `w0` and `w1` and we select a keyword `keyword`.  Then we calculate the contingency table for this data using the `pd.crosstab` function, where we give it the `screen_name` column and a column that is `True` or `False` if `text` contains `keyword`..  The table has the values `a`,`b`,`c`,`d` which indicate the number of tweets in each category as follows:\n",
        "\n",
        "|Has keyword |User 0 | User 1|\n",
        "|-|--------|------|\n",
        "|True | a| b|\n",
        "|False| c|d|\n",
        "\n",
        "We store the table as a list of lists in `table`."
      ]
    },
    {
      "cell_type": "code",
      "execution_count": 34,
      "metadata": {
        "colab": {
          "base_uri": "https://localhost:8080/",
          "height": 161
        },
        "id": "mlzgb_fkcy7j",
        "outputId": "81caa450-23dc-4a7c-8cbd-28df5520664c"
      },
      "outputs": [
        {
          "output_type": "stream",
          "name": "stdout",
          "text": [
            "Contingency Table for vote\n"
          ]
        },
        {
          "output_type": "execute_result",
          "data": {
            "text/plain": [
              "text          False  True \n",
              "screen_name               \n",
              "JoeBiden        958     45\n",
              "KamalaHarris    937     78"
            ],
            "text/html": [
              "\n",
              "  <div id=\"df-cbe4b098-a3c7-4046-848e-a5dad7a1cfc4\" class=\"colab-df-container\">\n",
              "    <div>\n",
              "<style scoped>\n",
              "    .dataframe tbody tr th:only-of-type {\n",
              "        vertical-align: middle;\n",
              "    }\n",
              "\n",
              "    .dataframe tbody tr th {\n",
              "        vertical-align: top;\n",
              "    }\n",
              "\n",
              "    .dataframe thead th {\n",
              "        text-align: right;\n",
              "    }\n",
              "</style>\n",
              "<table border=\"1\" class=\"dataframe\">\n",
              "  <thead>\n",
              "    <tr style=\"text-align: right;\">\n",
              "      <th>text</th>\n",
              "      <th>False</th>\n",
              "      <th>True</th>\n",
              "    </tr>\n",
              "    <tr>\n",
              "      <th>screen_name</th>\n",
              "      <th></th>\n",
              "      <th></th>\n",
              "    </tr>\n",
              "  </thead>\n",
              "  <tbody>\n",
              "    <tr>\n",
              "      <th>JoeBiden</th>\n",
              "      <td>958</td>\n",
              "      <td>45</td>\n",
              "    </tr>\n",
              "    <tr>\n",
              "      <th>KamalaHarris</th>\n",
              "      <td>937</td>\n",
              "      <td>78</td>\n",
              "    </tr>\n",
              "  </tbody>\n",
              "</table>\n",
              "</div>\n",
              "    <div class=\"colab-df-buttons\">\n",
              "\n",
              "  <div class=\"colab-df-container\">\n",
              "    <button class=\"colab-df-convert\" onclick=\"convertToInteractive('df-cbe4b098-a3c7-4046-848e-a5dad7a1cfc4')\"\n",
              "            title=\"Convert this dataframe to an interactive table.\"\n",
              "            style=\"display:none;\">\n",
              "\n",
              "  <svg xmlns=\"http://www.w3.org/2000/svg\" height=\"24px\" viewBox=\"0 -960 960 960\">\n",
              "    <path d=\"M120-120v-720h720v720H120Zm60-500h600v-160H180v160Zm220 220h160v-160H400v160Zm0 220h160v-160H400v160ZM180-400h160v-160H180v160Zm440 0h160v-160H620v160ZM180-180h160v-160H180v160Zm440 0h160v-160H620v160Z\"/>\n",
              "  </svg>\n",
              "    </button>\n",
              "\n",
              "  <style>\n",
              "    .colab-df-container {\n",
              "      display:flex;\n",
              "      gap: 12px;\n",
              "    }\n",
              "\n",
              "    .colab-df-convert {\n",
              "      background-color: #E8F0FE;\n",
              "      border: none;\n",
              "      border-radius: 50%;\n",
              "      cursor: pointer;\n",
              "      display: none;\n",
              "      fill: #1967D2;\n",
              "      height: 32px;\n",
              "      padding: 0 0 0 0;\n",
              "      width: 32px;\n",
              "    }\n",
              "\n",
              "    .colab-df-convert:hover {\n",
              "      background-color: #E2EBFA;\n",
              "      box-shadow: 0px 1px 2px rgba(60, 64, 67, 0.3), 0px 1px 3px 1px rgba(60, 64, 67, 0.15);\n",
              "      fill: #174EA6;\n",
              "    }\n",
              "\n",
              "    .colab-df-buttons div {\n",
              "      margin-bottom: 4px;\n",
              "    }\n",
              "\n",
              "    [theme=dark] .colab-df-convert {\n",
              "      background-color: #3B4455;\n",
              "      fill: #D2E3FC;\n",
              "    }\n",
              "\n",
              "    [theme=dark] .colab-df-convert:hover {\n",
              "      background-color: #434B5C;\n",
              "      box-shadow: 0px 1px 3px 1px rgba(0, 0, 0, 0.15);\n",
              "      filter: drop-shadow(0px 1px 2px rgba(0, 0, 0, 0.3));\n",
              "      fill: #FFFFFF;\n",
              "    }\n",
              "  </style>\n",
              "\n",
              "    <script>\n",
              "      const buttonEl =\n",
              "        document.querySelector('#df-cbe4b098-a3c7-4046-848e-a5dad7a1cfc4 button.colab-df-convert');\n",
              "      buttonEl.style.display =\n",
              "        google.colab.kernel.accessAllowed ? 'block' : 'none';\n",
              "\n",
              "      async function convertToInteractive(key) {\n",
              "        const element = document.querySelector('#df-cbe4b098-a3c7-4046-848e-a5dad7a1cfc4');\n",
              "        const dataTable =\n",
              "          await google.colab.kernel.invokeFunction('convertToInteractive',\n",
              "                                                    [key], {});\n",
              "        if (!dataTable) return;\n",
              "\n",
              "        const docLinkHtml = 'Like what you see? Visit the ' +\n",
              "          '<a target=\"_blank\" href=https://colab.research.google.com/notebooks/data_table.ipynb>data table notebook</a>'\n",
              "          + ' to learn more about interactive tables.';\n",
              "        element.innerHTML = '';\n",
              "        dataTable['output_type'] = 'display_data';\n",
              "        await google.colab.output.renderOutput(dataTable, element);\n",
              "        const docLink = document.createElement('div');\n",
              "        docLink.innerHTML = docLinkHtml;\n",
              "        element.appendChild(docLink);\n",
              "      }\n",
              "    </script>\n",
              "  </div>\n",
              "\n",
              "\n",
              "<div id=\"df-77f431cf-5631-4847-8062-b9938edb4cde\">\n",
              "  <button class=\"colab-df-quickchart\" onclick=\"quickchart('df-77f431cf-5631-4847-8062-b9938edb4cde')\"\n",
              "            title=\"Suggest charts\"\n",
              "            style=\"display:none;\">\n",
              "\n",
              "<svg xmlns=\"http://www.w3.org/2000/svg\" height=\"24px\"viewBox=\"0 0 24 24\"\n",
              "     width=\"24px\">\n",
              "    <g>\n",
              "        <path d=\"M19 3H5c-1.1 0-2 .9-2 2v14c0 1.1.9 2 2 2h14c1.1 0 2-.9 2-2V5c0-1.1-.9-2-2-2zM9 17H7v-7h2v7zm4 0h-2V7h2v10zm4 0h-2v-4h2v4z\"/>\n",
              "    </g>\n",
              "</svg>\n",
              "  </button>\n",
              "\n",
              "<style>\n",
              "  .colab-df-quickchart {\n",
              "      --bg-color: #E8F0FE;\n",
              "      --fill-color: #1967D2;\n",
              "      --hover-bg-color: #E2EBFA;\n",
              "      --hover-fill-color: #174EA6;\n",
              "      --disabled-fill-color: #AAA;\n",
              "      --disabled-bg-color: #DDD;\n",
              "  }\n",
              "\n",
              "  [theme=dark] .colab-df-quickchart {\n",
              "      --bg-color: #3B4455;\n",
              "      --fill-color: #D2E3FC;\n",
              "      --hover-bg-color: #434B5C;\n",
              "      --hover-fill-color: #FFFFFF;\n",
              "      --disabled-bg-color: #3B4455;\n",
              "      --disabled-fill-color: #666;\n",
              "  }\n",
              "\n",
              "  .colab-df-quickchart {\n",
              "    background-color: var(--bg-color);\n",
              "    border: none;\n",
              "    border-radius: 50%;\n",
              "    cursor: pointer;\n",
              "    display: none;\n",
              "    fill: var(--fill-color);\n",
              "    height: 32px;\n",
              "    padding: 0;\n",
              "    width: 32px;\n",
              "  }\n",
              "\n",
              "  .colab-df-quickchart:hover {\n",
              "    background-color: var(--hover-bg-color);\n",
              "    box-shadow: 0 1px 2px rgba(60, 64, 67, 0.3), 0 1px 3px 1px rgba(60, 64, 67, 0.15);\n",
              "    fill: var(--button-hover-fill-color);\n",
              "  }\n",
              "\n",
              "  .colab-df-quickchart-complete:disabled,\n",
              "  .colab-df-quickchart-complete:disabled:hover {\n",
              "    background-color: var(--disabled-bg-color);\n",
              "    fill: var(--disabled-fill-color);\n",
              "    box-shadow: none;\n",
              "  }\n",
              "\n",
              "  .colab-df-spinner {\n",
              "    border: 2px solid var(--fill-color);\n",
              "    border-color: transparent;\n",
              "    border-bottom-color: var(--fill-color);\n",
              "    animation:\n",
              "      spin 1s steps(1) infinite;\n",
              "  }\n",
              "\n",
              "  @keyframes spin {\n",
              "    0% {\n",
              "      border-color: transparent;\n",
              "      border-bottom-color: var(--fill-color);\n",
              "      border-left-color: var(--fill-color);\n",
              "    }\n",
              "    20% {\n",
              "      border-color: transparent;\n",
              "      border-left-color: var(--fill-color);\n",
              "      border-top-color: var(--fill-color);\n",
              "    }\n",
              "    30% {\n",
              "      border-color: transparent;\n",
              "      border-left-color: var(--fill-color);\n",
              "      border-top-color: var(--fill-color);\n",
              "      border-right-color: var(--fill-color);\n",
              "    }\n",
              "    40% {\n",
              "      border-color: transparent;\n",
              "      border-right-color: var(--fill-color);\n",
              "      border-top-color: var(--fill-color);\n",
              "    }\n",
              "    60% {\n",
              "      border-color: transparent;\n",
              "      border-right-color: var(--fill-color);\n",
              "    }\n",
              "    80% {\n",
              "      border-color: transparent;\n",
              "      border-right-color: var(--fill-color);\n",
              "      border-bottom-color: var(--fill-color);\n",
              "    }\n",
              "    90% {\n",
              "      border-color: transparent;\n",
              "      border-bottom-color: var(--fill-color);\n",
              "    }\n",
              "  }\n",
              "</style>\n",
              "\n",
              "  <script>\n",
              "    async function quickchart(key) {\n",
              "      const quickchartButtonEl =\n",
              "        document.querySelector('#' + key + ' button');\n",
              "      quickchartButtonEl.disabled = true;  // To prevent multiple clicks.\n",
              "      quickchartButtonEl.classList.add('colab-df-spinner');\n",
              "      try {\n",
              "        const charts = await google.colab.kernel.invokeFunction(\n",
              "            'suggestCharts', [key], {});\n",
              "      } catch (error) {\n",
              "        console.error('Error during call to suggestCharts:', error);\n",
              "      }\n",
              "      quickchartButtonEl.classList.remove('colab-df-spinner');\n",
              "      quickchartButtonEl.classList.add('colab-df-quickchart-complete');\n",
              "    }\n",
              "    (() => {\n",
              "      let quickchartButtonEl =\n",
              "        document.querySelector('#df-77f431cf-5631-4847-8062-b9938edb4cde button');\n",
              "      quickchartButtonEl.style.display =\n",
              "        google.colab.kernel.accessAllowed ? 'block' : 'none';\n",
              "    })();\n",
              "  </script>\n",
              "</div>\n",
              "\n",
              "  <div id=\"id_a01dbd33-9421-4e0f-ae63-8b8dab02849e\">\n",
              "    <style>\n",
              "      .colab-df-generate {\n",
              "        background-color: #E8F0FE;\n",
              "        border: none;\n",
              "        border-radius: 50%;\n",
              "        cursor: pointer;\n",
              "        display: none;\n",
              "        fill: #1967D2;\n",
              "        height: 32px;\n",
              "        padding: 0 0 0 0;\n",
              "        width: 32px;\n",
              "      }\n",
              "\n",
              "      .colab-df-generate:hover {\n",
              "        background-color: #E2EBFA;\n",
              "        box-shadow: 0px 1px 2px rgba(60, 64, 67, 0.3), 0px 1px 3px 1px rgba(60, 64, 67, 0.15);\n",
              "        fill: #174EA6;\n",
              "      }\n",
              "\n",
              "      [theme=dark] .colab-df-generate {\n",
              "        background-color: #3B4455;\n",
              "        fill: #D2E3FC;\n",
              "      }\n",
              "\n",
              "      [theme=dark] .colab-df-generate:hover {\n",
              "        background-color: #434B5C;\n",
              "        box-shadow: 0px 1px 3px 1px rgba(0, 0, 0, 0.15);\n",
              "        filter: drop-shadow(0px 1px 2px rgba(0, 0, 0, 0.3));\n",
              "        fill: #FFFFFF;\n",
              "      }\n",
              "    </style>\n",
              "    <button class=\"colab-df-generate\" onclick=\"generateWithVariable('contingency_table')\"\n",
              "            title=\"Generate code using this dataframe.\"\n",
              "            style=\"display:none;\">\n",
              "\n",
              "  <svg xmlns=\"http://www.w3.org/2000/svg\" height=\"24px\"viewBox=\"0 0 24 24\"\n",
              "       width=\"24px\">\n",
              "    <path d=\"M7,19H8.4L18.45,9,17,7.55,7,17.6ZM5,21V16.75L18.45,3.32a2,2,0,0,1,2.83,0l1.4,1.43a1.91,1.91,0,0,1,.58,1.4,1.91,1.91,0,0,1-.58,1.4L9.25,21ZM18.45,9,17,7.55Zm-12,3A5.31,5.31,0,0,0,4.9,8.1,5.31,5.31,0,0,0,1,6.5,5.31,5.31,0,0,0,4.9,4.9,5.31,5.31,0,0,0,6.5,1,5.31,5.31,0,0,0,8.1,4.9,5.31,5.31,0,0,0,12,6.5,5.46,5.46,0,0,0,6.5,12Z\"/>\n",
              "  </svg>\n",
              "    </button>\n",
              "    <script>\n",
              "      (() => {\n",
              "      const buttonEl =\n",
              "        document.querySelector('#id_a01dbd33-9421-4e0f-ae63-8b8dab02849e button.colab-df-generate');\n",
              "      buttonEl.style.display =\n",
              "        google.colab.kernel.accessAllowed ? 'block' : 'none';\n",
              "\n",
              "      buttonEl.onclick = () => {\n",
              "        google.colab.notebook.generateWithVariable('contingency_table');\n",
              "      }\n",
              "      })();\n",
              "    </script>\n",
              "  </div>\n",
              "\n",
              "    </div>\n",
              "  </div>\n"
            ],
            "application/vnd.google.colaboratory.intrinsic+json": {
              "type": "dataframe",
              "variable_name": "contingency_table",
              "summary": "{\n  \"name\": \"contingency_table\",\n  \"rows\": 2,\n  \"fields\": [\n    {\n      \"column\": false,\n      \"properties\": {\n        \"dtype\": \"number\",\n        \"std\": 14,\n        \"min\": 937,\n        \"max\": 958,\n        \"num_unique_values\": 2,\n        \"samples\": [\n          937,\n          958\n        ],\n        \"semantic_type\": \"\",\n        \"description\": \"\"\n      }\n    },\n    {\n      \"column\": true,\n      \"properties\": {\n        \"dtype\": \"number\",\n        \"std\": 23,\n        \"min\": 45,\n        \"max\": 78,\n        \"num_unique_values\": 2,\n        \"samples\": [\n          78,\n          45\n        ],\n        \"semantic_type\": \"\",\n        \"description\": \"\"\n      }\n    }\n  ]\n}"
            }
          },
          "metadata": {},
          "execution_count": 34
        }
      ],
      "source": [
        "w0 = 'JoeBiden'\n",
        "w1= 'KamalaHarris'\n",
        "keyword ='vote'  #you can pick any keyword you like, not just the ones in the keywords list\n",
        "\n",
        "df2 = df_all[df_all.screen_name.isin([w0,w1])]  #df1 only has tweets from the two users you want to compare\n",
        "contingency_table = pd.crosstab(df2['screen_name'],\n",
        "                                df2['text'].str.contains(keyword))\n",
        "\n",
        "print(f\"Contingency Table for {keyword}\")\n",
        "contingency_table"
      ]
    },
    {
      "cell_type": "markdown",
      "source": [
        "## Fisher Exact Test\n",
        "\n",
        "We apply the Fisher exact test to the contingency table to see if the frequencies are different for the two users.  This is done with the `fisher_exact` function."
      ],
      "metadata": {
        "id": "M-7mUGgTyICc"
      }
    },
    {
      "cell_type": "code",
      "execution_count": 35,
      "metadata": {
        "colab": {
          "base_uri": "https://localhost:8080/"
        },
        "id": "pob67ISDcy7j",
        "outputId": "b9d9587a-512c-4afd-b538-d0d0fce37724"
      },
      "outputs": [
        {
          "output_type": "stream",
          "name": "stdout",
          "text": [
            "Fisher exact test\n",
            "vote: odds ratio = 1.772 (2.835e-03)\n",
            "\n",
            "Significant at 1% level\n"
          ]
        }
      ],
      "source": [
        "alpha = 0.01  #significance level\n",
        "\n",
        "# Perform Fisher exact test\n",
        "oddsratio, pval = stats.fisher_exact(contingency_table)\n",
        "\n",
        "\n",
        "print('Fisher exact test')\n",
        "print(f\"{keyword}: odds ratio = {oddsratio:.3f} ({pval:.3e})\\n\")\n",
        "if pval <=alpha:\n",
        "  print(\"Significant at 1% level\")\n",
        "else:\n",
        "  print(\"Not significant at 1% level\")"
      ]
    },
    {
      "cell_type": "markdown",
      "source": [
        "# Engagement\n",
        "\n",
        "Define `\"engagement\"` of a tweet as its `\"favorite_count\"` divided by its `\"views\"`.  This measures what fraction of a tweet's viewers like the tweet.  We will compare the engagement for a pair of users."
      ],
      "metadata": {
        "id": "RqfP49qX1Ef0"
      }
    },
    {
      "cell_type": "code",
      "source": [
        "df_all = df_all[~df_all.view_count.isna()].copy()\n",
        "df_all['engagement'] = df_all.favorite_count/(df_all.view_count)\n"
      ],
      "metadata": {
        "id": "bopCtLH8S1L0"
      },
      "execution_count": 36,
      "outputs": []
    },
    {
      "cell_type": "code",
      "source": [
        "sns.barplot(data = df_all,\n",
        "            x = 'screen_name',\n",
        "            y = 'engagement',\n",
        "            )\n",
        "plt.grid()\n",
        "plt.show()"
      ],
      "metadata": {
        "colab": {
          "base_uri": "https://localhost:8080/",
          "height": 553
        },
        "id": "9-1XfEUNQhQ7",
        "outputId": "7eb12475-8ce1-4c04-a393-b7545a042b6e"
      },
      "execution_count": 41,
      "outputs": [
        {
          "output_type": "display_data",
          "data": {
            "text/plain": [
              "<Figure size 800x600 with 1 Axes>"
            ],
            "image/png": "[encoded data removed]"
          },
          "metadata": {}
        }
      ]
    },
    {
      "cell_type": "markdown",
      "source": [
        "## T-test for engagement"
      ],
      "metadata": {
        "id": "3TzYZGl-27dY"
      }
    },
    {
      "cell_type": "code",
      "source": [],
      "metadata": {
        "colab": {
          "base_uri": "https://localhost:8080/"
        },
        "id": "KpMXQ_pXskEo",
        "outputId": "c0fead74-3e3c-4c64-8561-651d9dc60eee"
      },
      "execution_count": 46,
      "outputs": [
        {
          "output_type": "execute_result",
          "data": {
            "text/plain": [
              "nan"
            ]
          },
          "metadata": {},
          "execution_count": 46
        }
      ]
    },
    {
      "cell_type": "code",
      "source": [
        "alpha = 0.01  #significance level\n",
        "col = 'engagement'\n",
        "w0, w1 = df_all.screen_name.unique()\n",
        "\n",
        "print(f\"w0 = {w0}\\nw1 = {w1}\")\n",
        "\n",
        "X0 = df_all.loc[df_all.screen_name==w0, col].values\n",
        "X1 = df_all.loc[df_all.screen_name==w1,col].values\n",
        "\n",
        "mu0 = np.mean(X0)\n",
        "mu1 = np.mean(X1)\n",
        "\n",
        "(tstat, pval) =stats.ttest_ind(X0,X1,\n",
        "                               equal_var = False,\n",
        "                               nan_policy = 'omit',\n",
        "                               alternative = 'two-sided')\n",
        "print(f\"Screen name\\tMean engagement\")\n",
        "print(f\"{w0}\\t{mu0:.2e}\")\n",
        "print(f\"{w1}\\t{mu1:.2e}\")\n",
        "\n",
        "print(f\"{w0} vs {w1}: t-stat = {tstat:.3f} ({pval:.4e})\\n\")\n",
        "if pval <=alpha:\n",
        "  print(f\"Significant at {alpha*100:.0f}% level\")\n",
        "else:\n",
        "  print(f\"Not significant at {alpha*100:.0f}% level\")"
      ],
      "metadata": {
        "colab": {
          "base_uri": "https://localhost:8080/"
        },
        "id": "PnsZw6Nv23zX",
        "outputId": "70b24e5e-61b3-4fc8-9631-631e3e562edd"
      },
      "execution_count": 39,
      "outputs": [
        {
          "output_type": "stream",
          "name": "stdout",
          "text": [
            "w0 = JoeBiden\n",
            "w1 = KamalaHarris\n",
            "Screen name\tMean engagement\n",
            "JoeBiden\t8.54e-03\n",
            "KamalaHarris\t1.07e-02\n",
            "JoeBiden vs KamalaHarris: t-stat = -9.436 (1.0346e-20)\n",
            "\n",
            "Significant at 1% level\n"
          ]
        }
      ]
    },
    {
      "cell_type": "markdown",
      "source": [
        "# Tweet Time\n",
        "\n",
        "We will study how the timing of a tweet is related to the like counts and sentiment for a user.  The user is former President Donald Trump.  The data is in file `\"data/trump_tweets_sentiment.csv\"` and was obtained from a Kaggle challenge: https://www.kaggle.com/datasets/codebreaker619/donald-trump-tweets-dataset.  The sentiment was calculated using the Huggin Face model at https://huggingface.co/nlptown/bert-base-multilingual-uncased-sentiment."
      ],
      "metadata": {
        "id": "xq1N5WuL3lKo"
      }
    },
    {
      "cell_type": "markdown",
      "source": [
        "## Load data"
      ],
      "metadata": {
        "id": "rfv6nd-L3sze"
      }
    },
    {
      "cell_type": "code",
      "source": [
        "screen_name = 'realDonaldTrump'\n",
        "df_trump = pd.read_csv(\"data/trump_tweets_sentiment.csv\")\n",
        "df_trump.head(1)"
      ],
      "metadata": {
        "id": "kSZlUwxI3OpG",
        "colab": {
          "base_uri": "https://localhost:8080/",
          "height": 115
        },
        "outputId": "ced61631-0173-44a5-c6dd-49fdf704dfdc"
      },
      "execution_count": 42,
      "outputs": [
        {
          "output_type": "execute_result",
          "data": {
            "text/plain": [
              "   Unnamed: 0            id  \\\n",
              "0           0  9.845497e+16   \n",
              "\n",
              "                                                                 text  \\\n",
              "0  Republicans and Democrats have both created our economic problems.   \n",
              "\n",
              "   is_retweet  is_deleted     device  favorites  retweets  \\\n",
              "0       False       False  TweetDeck         49       255   \n",
              "\n",
              "               datetime  is_flagged        date  sentiment  \n",
              "0  2011-08-02T18:07:48Z       False  2011-08-02   0.258977  "
            ],
            "text/html": [
              "\n",
              "  <div id=\"df-08aa4671-912d-46c4-b99b-65e9b28c2402\" class=\"colab-df-container\">\n",
              "    <div>\n",
              "<style scoped>\n",
              "    .dataframe tbody tr th:only-of-type {\n",
              "        vertical-align: middle;\n",
              "    }\n",
              "\n",
              "    .dataframe tbody tr th {\n",
              "        vertical-align: top;\n",
              "    }\n",
              "\n",
              "    .dataframe thead th {\n",
              "        text-align: right;\n",
              "    }\n",
              "</style>\n",
              "<table border=\"1\" class=\"dataframe\">\n",
              "  <thead>\n",
              "    <tr style=\"text-align: right;\">\n",
              "      <th></th>\n",
              "      <th>Unnamed: 0</th>\n",
              "      <th>id</th>\n",
              "      <th>text</th>\n",
              "      <th>is_retweet</th>\n",
              "      <th>is_deleted</th>\n",
              "      <th>device</th>\n",
              "      <th>favorites</th>\n",
              "      <th>retweets</th>\n",
              "      <th>datetime</th>\n",
              "      <th>is_flagged</th>\n",
              "      <th>date</th>\n",
              "      <th>sentiment</th>\n",
              "    </tr>\n",
              "  </thead>\n",
              "  <tbody>\n",
              "    <tr>\n",
              "      <th>0</th>\n",
              "      <td>0</td>\n",
              "      <td>9.845497e+16</td>\n",
              "      <td>Republicans and Democrats have both created our economic problems.</td>\n",
              "      <td>False</td>\n",
              "      <td>False</td>\n",
              "      <td>TweetDeck</td>\n",
              "      <td>49</td>\n",
              "      <td>255</td>\n",
              "      <td>2011-08-02T18:07:48Z</td>\n",
              "      <td>False</td>\n",
              "      <td>2011-08-02</td>\n",
              "      <td>0.258977</td>\n",
              "    </tr>\n",
              "  </tbody>\n",
              "</table>\n",
              "</div>\n",
              "    <div class=\"colab-df-buttons\">\n",
              "\n",
              "  <div class=\"colab-df-container\">\n",
              "    <button class=\"colab-df-convert\" onclick=\"convertToInteractive('df-08aa4671-912d-46c4-b99b-65e9b28c2402')\"\n",
              "            title=\"Convert this dataframe to an interactive table.\"\n",
              "            style=\"display:none;\">\n",
              "\n",
              "  <svg xmlns=\"http://www.w3.org/2000/svg\" height=\"24px\" viewBox=\"0 -960 960 960\">\n",
              "    <path d=\"M120-120v-720h720v720H120Zm60-500h600v-160H180v160Zm220 220h160v-160H400v160Zm0 220h160v-160H400v160ZM180-400h160v-160H180v160Zm440 0h160v-160H620v160ZM180-180h160v-160H180v160Zm440 0h160v-160H620v160Z\"/>\n",
              "  </svg>\n",
              "    </button>\n",
              "\n",
              "  <style>\n",
              "    .colab-df-container {\n",
              "      display:flex;\n",
              "      gap: 12px;\n",
              "    }\n",
              "\n",
              "    .colab-df-convert {\n",
              "      background-color: #E8F0FE;\n",
              "      border: none;\n",
              "      border-radius: 50%;\n",
              "      cursor: pointer;\n",
              "      display: none;\n",
              "      fill: #1967D2;\n",
              "      height: 32px;\n",
              "      padding: 0 0 0 0;\n",
              "      width: 32px;\n",
              "    }\n",
              "\n",
              "    .colab-df-convert:hover {\n",
              "      background-color: #E2EBFA;\n",
              "      box-shadow: 0px 1px 2px rgba(60, 64, 67, 0.3), 0px 1px 3px 1px rgba(60, 64, 67, 0.15);\n",
              "      fill: #174EA6;\n",
              "    }\n",
              "\n",
              "    .colab-df-buttons div {\n",
              "      margin-bottom: 4px;\n",
              "    }\n",
              "\n",
              "    [theme=dark] .colab-df-convert {\n",
              "      background-color: #3B4455;\n",
              "      fill: #D2E3FC;\n",
              "    }\n",
              "\n",
              "    [theme=dark] .colab-df-convert:hover {\n",
              "      background-color: #434B5C;\n",
              "      box-shadow: 0px 1px 3px 1px rgba(0, 0, 0, 0.15);\n",
              "      filter: drop-shadow(0px 1px 2px rgba(0, 0, 0, 0.3));\n",
              "      fill: #FFFFFF;\n",
              "    }\n",
              "  </style>\n",
              "\n",
              "    <script>\n",
              "      const buttonEl =\n",
              "        document.querySelector('#df-08aa4671-912d-46c4-b99b-65e9b28c2402 button.colab-df-convert');\n",
              "      buttonEl.style.display =\n",
              "        google.colab.kernel.accessAllowed ? 'block' : 'none';\n",
              "\n",
              "      async function convertToInteractive(key) {\n",
              "        const element = document.querySelector('#df-08aa4671-912d-46c4-b99b-65e9b28c2402');\n",
              "        const dataTable =\n",
              "          await google.colab.kernel.invokeFunction('convertToInteractive',\n",
              "                                                    [key], {});\n",
              "        if (!dataTable) return;\n",
              "\n",
              "        const docLinkHtml = 'Like what you see? Visit the ' +\n",
              "          '<a target=\"_blank\" href=https://colab.research.google.com/notebooks/data_table.ipynb>data table notebook</a>'\n",
              "          + ' to learn more about interactive tables.';\n",
              "        element.innerHTML = '';\n",
              "        dataTable['output_type'] = 'display_data';\n",
              "        await google.colab.output.renderOutput(dataTable, element);\n",
              "        const docLink = document.createElement('div');\n",
              "        docLink.innerHTML = docLinkHtml;\n",
              "        element.appendChild(docLink);\n",
              "      }\n",
              "    </script>\n",
              "  </div>\n",
              "\n",
              "\n",
              "    </div>\n",
              "  </div>\n"
            ],
            "application/vnd.google.colaboratory.intrinsic+json": {
              "type": "dataframe",
              "variable_name": "df_trump",
              "repr_error": "'str' object has no attribute 'empty'"
            }
          },
          "metadata": {},
          "execution_count": 42
        }
      ]
    },
    {
      "cell_type": "markdown",
      "source": [
        "## Add day of week and hour columns\n",
        "\n",
        "We will add columns indicating the hour and day of the week for each tweet."
      ],
      "metadata": {
        "id": "NaC7rbyOdg1t"
      }
    },
    {
      "cell_type": "code",
      "source": [
        "# prompt: We will add columns indicating the hour and day of the week for each tweet from the created_at column\n",
        "\n",
        "format = \"%Y-%m-%d %H:%M:%S\"\n",
        "\n",
        "df_trump['datetime'] = pd.to_datetime(df_trump['datetime']\n",
        "                                      ,format=format)\n",
        "df_trump['datetime_est'] = df_trump['datetime'].dt.tz_convert('America/New_York')\n",
        "df_trump['day'] = df_trump.datetime_est.dt.day_name()   #get the day of the tweet\n",
        "df_trump['hour'] = df_trump.datetime_est.dt.hour   #get the hour of the tweet\n",
        "\n",
        "df_trump = df_trump.sort_values(by = 'datetime')\n",
        "df_trump.head(n=1)"
      ],
      "metadata": {
        "colab": {
          "base_uri": "https://localhost:8080/",
          "height": 306
        },
        "id": "p07oHNrpdg8O",
        "outputId": "60214b8c-611b-46ab-bd0b-4d5307c4a033"
      },
      "execution_count": 43,
      "outputs": [
        {
          "output_type": "execute_result",
          "data": {
            "text/plain": [
              "      Unnamed: 0            id  \\\n",
              "7041       13325  1.698309e+09   \n",
              "\n",
              "                                                                                                                       text  \\\n",
              "7041  Be sure to tune in and watch Donald Trump on Late Night with David Letterman as he presents the Top Ten List tonight!   \n",
              "\n",
              "      is_retweet  is_deleted              device  favorites  retweets  \\\n",
              "7041       False       False  Twitter Web Client        939       519   \n",
              "\n",
              "                      datetime  is_flagged        date  sentiment  \\\n",
              "7041 2009-05-04 18:54:25+00:00       False  2009-05-04    0.75937   \n",
              "\n",
              "                  datetime_est     day  hour  \n",
              "7041 2009-05-04 14:54:25-04:00  Monday    14  "
            ],
            "text/html": [
              "\n",
              "  <div id=\"df-5f030cc8-fed0-476a-8172-86ceadf47f66\" class=\"colab-df-container\">\n",
              "    <div>\n",
              "<style scoped>\n",
              "    .dataframe tbody tr th:only-of-type {\n",
              "        vertical-align: middle;\n",
              "    }\n",
              "\n",
              "    .dataframe tbody tr th {\n",
              "        vertical-align: top;\n",
              "    }\n",
              "\n",
              "    .dataframe thead th {\n",
              "        text-align: right;\n",
              "    }\n",
              "</style>\n",
              "<table border=\"1\" class=\"dataframe\">\n",
              "  <thead>\n",
              "    <tr style=\"text-align: right;\">\n",
              "      <th></th>\n",
              "      <th>Unnamed: 0</th>\n",
              "      <th>id</th>\n",
              "      <th>text</th>\n",
              "      <th>is_retweet</th>\n",
              "      <th>is_deleted</th>\n",
              "      <th>device</th>\n",
              "      <th>favorites</th>\n",
              "      <th>retweets</th>\n",
              "      <th>datetime</th>\n",
              "      <th>is_flagged</th>\n",
              "      <th>date</th>\n",
              "      <th>sentiment</th>\n",
              "      <th>datetime_est</th>\n",
              "      <th>day</th>\n",
              "      <th>hour</th>\n",
              "    </tr>\n",
              "  </thead>\n",
              "  <tbody>\n",
              "    <tr>\n",
              "      <th>7041</th>\n",
              "      <td>13325</td>\n",
              "      <td>1.698309e+09</td>\n",
              "      <td>Be sure to tune in and watch Donald Trump on Late Night with David Letterman as he presents the Top Ten List tonight!</td>\n",
              "      <td>False</td>\n",
              "      <td>False</td>\n",
              "      <td>Twitter Web Client</td>\n",
              "      <td>939</td>\n",
              "      <td>519</td>\n",
              "      <td>2009-05-04 18:54:25+00:00</td>\n",
              "      <td>False</td>\n",
              "      <td>2009-05-04</td>\n",
              "      <td>0.75937</td>\n",
              "      <td>2009-05-04 14:54:25-04:00</td>\n",
              "      <td>Monday</td>\n",
              "      <td>14</td>\n",
              "    </tr>\n",
              "  </tbody>\n",
              "</table>\n",
              "</div>\n",
              "    <div class=\"colab-df-buttons\">\n",
              "\n",
              "  <div class=\"colab-df-container\">\n",
              "    <button class=\"colab-df-convert\" onclick=\"convertToInteractive('df-5f030cc8-fed0-476a-8172-86ceadf47f66')\"\n",
              "            title=\"Convert this dataframe to an interactive table.\"\n",
              "            style=\"display:none;\">\n",
              "\n",
              "  <svg xmlns=\"http://www.w3.org/2000/svg\" height=\"24px\" viewBox=\"0 -960 960 960\">\n",
              "    <path d=\"M120-120v-720h720v720H120Zm60-500h600v-160H180v160Zm220 220h160v-160H400v160Zm0 220h160v-160H400v160ZM180-400h160v-160H180v160Zm440 0h160v-160H620v160ZM180-180h160v-160H180v160Zm440 0h160v-160H620v160Z\"/>\n",
              "  </svg>\n",
              "    </button>\n",
              "\n",
              "  <style>\n",
              "    .colab-df-container {\n",
              "      display:flex;\n",
              "      gap: 12px;\n",
              "    }\n",
              "\n",
              "    .colab-df-convert {\n",
              "      background-color: #E8F0FE;\n",
              "      border: none;\n",
              "      border-radius: 50%;\n",
              "      cursor: pointer;\n",
              "      display: none;\n",
              "      fill: #1967D2;\n",
              "      height: 32px;\n",
              "      padding: 0 0 0 0;\n",
              "      width: 32px;\n",
              "    }\n",
              "\n",
              "    .colab-df-convert:hover {\n",
              "      background-color: #E2EBFA;\n",
              "      box-shadow: 0px 1px 2px rgba(60, 64, 67, 0.3), 0px 1px 3px 1px rgba(60, 64, 67, 0.15);\n",
              "      fill: #174EA6;\n",
              "    }\n",
              "\n",
              "    .colab-df-buttons div {\n",
              "      margin-bottom: 4px;\n",
              "    }\n",
              "\n",
              "    [theme=dark] .colab-df-convert {\n",
              "      background-color: #3B4455;\n",
              "      fill: #D2E3FC;\n",
              "    }\n",
              "\n",
              "    [theme=dark] .colab-df-convert:hover {\n",
              "      background-color: #434B5C;\n",
              "      box-shadow: 0px 1px 3px 1px rgba(0, 0, 0, 0.15);\n",
              "      filter: drop-shadow(0px 1px 2px rgba(0, 0, 0, 0.3));\n",
              "      fill: #FFFFFF;\n",
              "    }\n",
              "  </style>\n",
              "\n",
              "    <script>\n",
              "      const buttonEl =\n",
              "        document.querySelector('#df-5f030cc8-fed0-476a-8172-86ceadf47f66 button.colab-df-convert');\n",
              "      buttonEl.style.display =\n",
              "        google.colab.kernel.accessAllowed ? 'block' : 'none';\n",
              "\n",
              "      async function convertToInteractive(key) {\n",
              "        const element = document.querySelector('#df-5f030cc8-fed0-476a-8172-86ceadf47f66');\n",
              "        const dataTable =\n",
              "          await google.colab.kernel.invokeFunction('convertToInteractive',\n",
              "                                                    [key], {});\n",
              "        if (!dataTable) return;\n",
              "\n",
              "        const docLinkHtml = 'Like what you see? Visit the ' +\n",
              "          '<a target=\"_blank\" href=https://colab.research.google.com/notebooks/data_table.ipynb>data table notebook</a>'\n",
              "          + ' to learn more about interactive tables.';\n",
              "        element.innerHTML = '';\n",
              "        dataTable['output_type'] = 'display_data';\n",
              "        await google.colab.output.renderOutput(dataTable, element);\n",
              "        const docLink = document.createElement('div');\n",
              "        docLink.innerHTML = docLinkHtml;\n",
              "        element.appendChild(docLink);\n",
              "      }\n",
              "    </script>\n",
              "  </div>\n",
              "\n",
              "\n",
              "    </div>\n",
              "  </div>\n"
            ],
            "application/vnd.google.colaboratory.intrinsic+json": {
              "type": "dataframe",
              "variable_name": "df_trump",
              "repr_error": "'str' object has no attribute 'empty'"
            }
          },
          "metadata": {},
          "execution_count": 43
        }
      ]
    },
    {
      "cell_type": "markdown",
      "source": [
        "## Plot Favorites vs. Hour"
      ],
      "metadata": {
        "id": "YPSSvie-3zmT"
      }
    },
    {
      "cell_type": "code",
      "source": [],
      "metadata": {
        "id": "mIWgFPPzQoYm"
      },
      "execution_count": null,
      "outputs": []
    },
    {
      "cell_type": "code",
      "source": [
        "fig = plt.figure(figsize =(12,4))\n",
        "sns.barplot(data =df_trump , x = 'hour',\n",
        "            y = 'favorites',\n",
        "            errorbar=('ci', 95))\n",
        "plt.xlabel(\"Hour [EST]\", fontsize = 14)\n",
        "plt.title(f\"{screen_name}\", fontsize = 16)\n",
        "plt.xticks(fontsize = 10)\n",
        "plt.yticks(fontsize = 10)\n",
        "plt.grid()\n",
        "plt.show()"
      ],
      "metadata": {
        "colab": {
          "base_uri": "https://localhost:8080/",
          "height": 417
        },
        "id": "OsxiBOUA33B9",
        "outputId": "b8622812-fce4-4239-af69-cdd1b17b3df6"
      },
      "execution_count": 44,
      "outputs": [
        {
          "output_type": "display_data",
          "data": {
            "text/plain": [
              "<Figure size 1200x400 with 1 Axes>"
            ],
            "image/png": "[encoded data removed]"
          },
          "metadata": {}
        }
      ]
    },
    {
      "cell_type": "markdown",
      "source": [
        "## T-test for Hours\n",
        "\n",
        "We select two hours and compare the like counts using a t-test."
      ],
      "metadata": {
        "id": "SusFZzoi3_KP"
      }
    },
    {
      "cell_type": "code",
      "source": [],
      "metadata": {
        "id": "fd_oyvoJQqY4"
      },
      "execution_count": null,
      "outputs": []
    },
    {
      "cell_type": "code",
      "source": [
        "alpha = 0.01  #significance level\n",
        "h0 = 8  #first hour to check\n",
        "h1 = 23  #second hour to check\n",
        "col = 'favorites'  #metric we are comparing\n",
        "\n",
        "\n",
        "X0 = df_trump.loc[df_trump.hour==h0,col]\n",
        "X1 = df_trump.loc[df_trump.hour==h1,col]\n",
        "mu0 = np.mean(X0)\n",
        "mu1 = np.mean(X1)\n",
        "(tstat, pval) =stats.ttest_ind(X0,X1, equal_var = False)\n",
        "\n",
        "print(f\"Hour [EST]\\tMean retweet count\")\n",
        "print(f\"{h0}\\t\\t{mu0:.2f}\")\n",
        "print(f\"{h1}\\t\\t{mu1:.2f}\")\n",
        "print(f\"{h0} vs {h1}: t-stat = {tstat:.3f} ({pval:.4e})\\n\")\n",
        "if pval <=alpha:\n",
        "  print(f\"Significant at {alpha*100:.0f}% level\")\n",
        "else:\n",
        "  print(f\"Not significant at {alpha*100:.0f}% level\")"
      ],
      "metadata": {
        "colab": {
          "base_uri": "https://localhost:8080/"
        },
        "id": "7OTAN4rz4FbR",
        "outputId": "d5ac0e86-2617-42a0-babb-087fb61c65f5"
      },
      "execution_count": 49,
      "outputs": [
        {
          "output_type": "stream",
          "name": "stdout",
          "text": [
            "Hour [EST]\tMean retweet count\n",
            "8\t\t54982.74\n",
            "23\t\t38033.58\n",
            "8 vs 23: t-stat = 7.894 (3.8969e-15)\n",
            "\n",
            "Significant at 1% level\n"
          ]
        }
      ]
    },
    {
      "cell_type": "markdown",
      "source": [
        "## Plot Favorites vs. Day"
      ],
      "metadata": {
        "id": "Vq9eoF6_ibHC"
      }
    },
    {
      "cell_type": "code",
      "source": [
        "fig = plt.figure(figsize =(12,4))\n",
        "sns.barplot(data =df_trump ,\n",
        "            x = 'day',\n",
        "            y = 'favorites',\n",
        "            errorbar=('ci', 95))\n",
        "plt.title(f\"{screen_name}\", fontsize = 16)\n",
        "plt.xticks(fontsize = 10)\n",
        "plt.yticks(fontsize = 10)\n",
        "plt.grid()\n",
        "plt.show()"
      ],
      "metadata": {
        "colab": {
          "base_uri": "https://localhost:8080/",
          "height": 418
        },
        "id": "nsd5wav2egCf",
        "outputId": "7f490d2c-c794-4a62-b3f0-1b1830e8ca9b"
      },
      "execution_count": 50,
      "outputs": [
        {
          "output_type": "display_data",
          "data": {
            "text/plain": [
              "<Figure size 1200x400 with 1 Axes>"
            ],
            "image/png": "[encoded data removed]"
          },
          "metadata": {}
        }
      ]
    },
    {
      "cell_type": "markdown",
      "source": [
        "## T-test for Days"
      ],
      "metadata": {
        "id": "eN39VFXXgXP-"
      }
    },
    {
      "cell_type": "code",
      "source": [
        "alpha = 0.01  #significance level\n",
        "h0 = 'Monday'  #first day to check\n",
        "h1 = 'Saturday'  #second day to check\n",
        "col = 'favorites'  #metric we are comparing\n",
        "\n",
        "\n",
        "X0 = df_trump.loc[df_trump.day==h0,col]\n",
        "X1 = df_trump.loc[df_trump.day==h1,col]\n",
        "\n",
        "mu0 = np.mean(X0)\n",
        "mu1 = np.mean(X1)\n",
        "(tstat, pval) =stats.ttest_ind(X0,X1, equal_var = False)\n",
        "\n",
        "print(f\"Day\\tMean {col} count\")\n",
        "print(f\"{h0}\\t{mu0:,.0f}\")\n",
        "print(f\"{h1}\\t{mu1:,.0f}\")\n",
        "print(f\"{h0} vs {h1}: t-stat = {tstat:.3f} ({pval:.4e})\\n\")\n",
        "if pval <=alpha:\n",
        "  print(f\"Significant at {alpha*100:.0f}% level\")\n",
        "else:\n",
        "  print(f\"Not significant at {alpha*100:.0f}% level\")"
      ],
      "metadata": {
        "colab": {
          "base_uri": "https://localhost:8080/"
        },
        "id": "utcP095xgdGI",
        "outputId": "344776f4-465e-4735-b03e-f62322a443a1"
      },
      "execution_count": 54,
      "outputs": [
        {
          "output_type": "stream",
          "name": "stdout",
          "text": [
            "Day\tMean favorites count\n",
            "Monday\t32,894\n",
            "Saturday\t44,092\n",
            "Monday vs Saturday: t-stat = -9.334 (1.2383e-20)\n",
            "\n",
            "Significant at 1% level\n"
          ]
        }
      ]
    },
    {
      "cell_type": "markdown",
      "source": [
        "## T-test for day vs night\n",
        "\n",
        "We can choose a range of hours to compare daytime and nighttime tweets' like counts."
      ],
      "metadata": {
        "id": "wzlpN5yo5aPX"
      }
    },
    {
      "cell_type": "code",
      "source": [],
      "metadata": {
        "id": "XEya313JRP34"
      },
      "execution_count": null,
      "outputs": []
    },
    {
      "cell_type": "code",
      "source": [
        "#create daytime column in df_trump\n",
        "#daytime\n",
        "ind_day = (6<=df_trump.hour) & (df_trump.hour<=19)\n",
        "df_trump['daytime'] = ind_day"
      ],
      "metadata": {
        "id": "sUYBVdY9mR9n"
      },
      "execution_count": 56,
      "outputs": []
    },
    {
      "cell_type": "code",
      "source": [
        "sns.barplot(data = df_trump,\n",
        "            x = 'daytime',\n",
        "            y = col)\n",
        "plt.grid()\n",
        "plt.show()"
      ],
      "metadata": {
        "colab": {
          "base_uri": "https://localhost:8080/",
          "height": 553
        },
        "id": "5cjmICeERag0",
        "outputId": "d522b496-647f-484c-b1c3-aaed5df7d4f9"
      },
      "execution_count": 57,
      "outputs": [
        {
          "output_type": "display_data",
          "data": {
            "text/plain": [
              "<Figure size 800x600 with 1 Axes>"
            ],
            "image/png": "[encoded data removed]"
          },
          "metadata": {}
        }
      ]
    },
    {
      "cell_type": "code",
      "source": [
        "col = 'favorites'\n",
        "\n",
        "#create data for t-test\n",
        "X0 = df_trump.loc[df_trump.daytime==True,col]\n",
        "X1 = df_trump.loc[df_trump.daytime==False,col]\n",
        "\n",
        "mu0 = np.mean(X0)\n",
        "mu1 = np.mean(X1)\n",
        "(tstat, pval) =stats.ttest_ind(X0,X1, equal_var = False)\n",
        "\n",
        "print(f\"Time\\tMean {col}\")\n",
        "print(f\"Day\\t{mu0:.2f}\")\n",
        "print(f\"Night\\t{mu1:.2f}\")\n",
        "print(f\"Day vs Night: t-stat = {tstat:.3f} ({pval:.4e})\\n\")\n",
        "alpha = 0.01  #significance level\n",
        "if pval <=alpha:\n",
        "  print(\"Significant at 1% level\")\n",
        "else:\n",
        "  print(\"Not significant at 1% level\")\n",
        "\n"
      ],
      "metadata": {
        "colab": {
          "base_uri": "https://localhost:8080/"
        },
        "id": "65o5z3zt4NC_",
        "outputId": "00e57c37-c1a2-49f3-a83f-1ca37bad094c"
      },
      "execution_count": 58,
      "outputs": [
        {
          "output_type": "stream",
          "name": "stdout",
          "text": [
            "Time\tMean favorites\n",
            "Day\t36343.20\n",
            "Night\t28559.62\n",
            "Day vs Night: t-stat = 12.330 (8.0627e-35)\n",
            "\n",
            "Significant at 1% level\n"
          ]
        }
      ]
    },
    {
      "cell_type": "markdown",
      "source": [
        "## Sentiment: Day vs Night\n",
        "\n",
        "Lets look at the tweet sentiment of day versus night.  "
      ],
      "metadata": {
        "id": "bsNOkccIkedv"
      }
    },
    {
      "cell_type": "code",
      "source": [
        "sns.barplot(data = df_trump,\n",
        "            x = 'daytime',\n",
        "            y = 'sentiment')\n",
        "plt.grid()\n",
        "plt.show()"
      ],
      "metadata": {
        "colab": {
          "base_uri": "https://localhost:8080/",
          "height": 553
        },
        "id": "jYUD4d5VkWzI",
        "outputId": "ba510e9f-30e7-4f62-8007-622714221902"
      },
      "execution_count": 60,
      "outputs": [
        {
          "output_type": "display_data",
          "data": {
            "text/plain": [
              "<Figure size 800x600 with 1 Axes>"
            ],
            "image/png": "[encoded data removed]"
          },
          "metadata": {}
        }
      ]
    },
    {
      "cell_type": "code",
      "source": [
        "col = 'sentiment'\n",
        "\n",
        "#create data for t-test\n",
        "X0 = df_trump.loc[df_trump.daytime==True,col]\n",
        "X1 = df_trump.loc[df_trump.daytime==False,col]\n",
        "\n",
        "\n",
        "mu0 = np.mean(X0)\n",
        "mu1 = np.mean(X1)\n",
        "(tstat, pval) =stats.ttest_ind(X0,X1, equal_var = False)\n",
        "\n",
        "print(f\"{col} Day vs Night: t-stat = {tstat:.3f} ({pval:.4f})\\n\")\n",
        "alpha = 0.01  #significance level\n",
        "if pval <=alpha:\n",
        "  print(\"Significant at 1% level\")\n",
        "else:\n",
        "  print(\"Not significant at 1% level\")\n"
      ],
      "metadata": {
        "colab": {
          "base_uri": "https://localhost:8080/"
        },
        "id": "tn4PYo6KRn6s",
        "outputId": "fae855c5-09b2-48e1-9bd9-0d8bf28b40a5"
      },
      "execution_count": 61,
      "outputs": [
        {
          "output_type": "stream",
          "name": "stdout",
          "text": [
            "sentiment Day vs Night: t-stat = 5.915 (0.0000)\n",
            "\n",
            "Significant at 1% level\n"
          ]
        }
      ]
    },
    {
      "cell_type": "markdown",
      "source": [
        "# Favorites vs Sentiment\n",
        "\n",
        "We can plot the sentiment (put into discrete bins) versus favorite count."
      ],
      "metadata": {
        "id": "XARpPZSun0en"
      }
    },
    {
      "cell_type": "code",
      "source": [],
      "metadata": {
        "id": "csVSNR2RRwY_"
      },
      "execution_count": null,
      "outputs": []
    },
    {
      "cell_type": "code",
      "source": [
        "# Define bins from -1 to 1 with spacing of 0.5\n",
        "bins = np.arange(-1,1.25,0.25)\n",
        "\n",
        "# Use pd.cut() to bin the sentiment values\n",
        "df_trump['sentiment_bin'] = pd.cut(df_trump['sentiment'], bins, labels=False)\n",
        "\n",
        "# Map the numeric bins to more readable labels if desired (optional)\n",
        "bin_labels = [str(x) for x in bins[:-1]]\n",
        "df_trump['sentiment_bin_labels'] = pd.cut(df_trump['sentiment'],\n",
        "                                          bins,\n",
        "                                          labels=bin_labels)\n",
        "\n",
        "# Plotting the boxplot\n",
        "sns.barplot(data=df_trump, x='sentiment_bin_labels', y='favorites')\n",
        "plt.xticks(rotation=45)  # Rotate x labels for better readability\n",
        "plt.title(f'{screen_name}')\n",
        "plt.xlabel('Sentiment Bin')\n",
        "plt.ylabel('Favorites')\n",
        "\n",
        "plt.grid()\n",
        "plt.show()"
      ],
      "metadata": {
        "colab": {
          "base_uri": "https://localhost:8080/",
          "height": 605
        },
        "id": "YDbec0TlmsbU",
        "outputId": "84707b21-ade8-466d-d708-bcdf298232c7"
      },
      "execution_count": 62,
      "outputs": [
        {
          "output_type": "display_data",
          "data": {
            "text/plain": [
              "<Figure size 800x600 with 1 Axes>"
            ],
            "image/png": "[encoded data removed]"
          },
          "metadata": {}
        }
      ]
    },
    {
      "cell_type": "markdown",
      "source": [
        "# Correlation Coefficient\n",
        "\n",
        "We will look at the correlation of  sentiment with favorites count for a single user."
      ],
      "metadata": {
        "id": "8DDBsPMZwNVh"
      }
    },
    {
      "cell_type": "markdown",
      "source": [
        "## Pearson Correlation Coefficient\n",
        "\n",
        " We apply the `pearsonr` function to the like_count and sentiment columns of the dataframe.  The function returns the Pearson correlation coefficient `cc` and the p-value `pval`."
      ],
      "metadata": {
        "id": "rRfULI8MwU-0"
      }
    },
    {
      "cell_type": "code",
      "source": [
        "alpha = 0.01\n",
        "col1 = 'sentiment'  #first column for which you want correlation\n",
        "col2 = 'favorites'  #second column for which you want correlation\n",
        "cc,pval = stats.pearsonr(df_trump[col1], df_trump[col2])\n",
        "\n",
        "print(f\"Pearson corr of {col1} and {col2} = {cc:.3f} ({pval:.3e})\")\n",
        "if pval <=alpha:\n",
        "  print(f\"Significant at {alpha*100:.0f}% level\")\n",
        "else:\n",
        "  print(f\"Not significant at {alpha*100:.0f}% level\")"
      ],
      "metadata": {
        "colab": {
          "base_uri": "https://localhost:8080/"
        },
        "id": "09nlmqe-nIlB",
        "outputId": "141595ae-97c0-4efb-c9a5-da16afb632fd"
      },
      "execution_count": 64,
      "outputs": [
        {
          "output_type": "stream",
          "name": "stdout",
          "text": [
            "Pearson corr of sentiment and favorites = -0.009 (4.267e-02)\n",
            "Not significant at 1% level\n"
          ]
        }
      ]
    },
    {
      "cell_type": "markdown",
      "source": [
        "## Spearman Rank Correlation Coefficient\n",
        "\n",
        "Spearman's rank correlation coefficient is a non-parametric correlation coefficient that is less susceptible to outliers because it considers the rank of the data, not its values."
      ],
      "metadata": {
        "id": "gTfmQypfwbhl"
      }
    },
    {
      "cell_type": "code",
      "source": [
        "alpha = 0.01\n",
        "col1 = 'sentiment'  #first column for which you want correlation\n",
        "col2 = 'favorites'  #second column for which you want correlation\n",
        "cc,pval = stats.spearmanr(df_trump[col1], df_trump[col2])\n",
        "\n",
        "print(f\"Spearman corr of {col1} and {col2} = {cc:.3f} ({pval:.3e})\")\n",
        "if pval <=alpha:\n",
        "  print(f\"Significant at {alpha*100:.0f}% level\")\n",
        "else:\n",
        "  print(f\"Not significant at {alpha*100:.0f}% level\")"
      ],
      "metadata": {
        "colab": {
          "base_uri": "https://localhost:8080/"
        },
        "id": "QVmgEeg5wb--",
        "outputId": "b289ab30-f8dd-43c8-9b6b-943c821c2c0a"
      },
      "execution_count": 65,
      "outputs": [
        {
          "output_type": "stream",
          "name": "stdout",
          "text": [
            "Spearman corr of sentiment and favorites = -0.057 (2.246e-34)\n",
            "Significant at 1% level\n"
          ]
        }
      ]
    },
    {
      "cell_type": "markdown",
      "source": [
        "## Absolute Sentiment vs Favorite Count\n",
        "\n",
        "Lets look at the absolute value of the sentiment and interaction count."
      ],
      "metadata": {
        "id": "sSQya1M7ySbe"
      }
    },
    {
      "cell_type": "code",
      "source": [
        "df_trump['sentiment_abs'] = df_trump['sentiment'].abs()\n"
      ],
      "metadata": {
        "id": "MT7H3W4uyAm_"
      },
      "execution_count": 66,
      "outputs": []
    },
    {
      "cell_type": "code",
      "source": [
        "alpha = 0.01\n",
        "col1 = 'sentiment_abs'  #first column for which you want correlation\n",
        "col2 = 'favorites'  #second column for which you want correlation\n",
        "cc,pval = stats.spearmanr(df_trump[col1], df_trump[col2])\n",
        "\n",
        "print(f\"Spearman corr of {col1} and {col2} = {cc:.3f} ({pval:.3e})\")\n",
        "if pval <=alpha:\n",
        "  print(f\"Significant at {alpha*100:.0f}% level\")\n",
        "else:\n",
        "  print(f\"Not significant at {alpha*100:.0f}% level\")"
      ],
      "metadata": {
        "colab": {
          "base_uri": "https://localhost:8080/"
        },
        "id": "1pKezyOCyI_H",
        "outputId": "748c6903-a0ed-4265-a6e5-e900bd199a33"
      },
      "execution_count": 68,
      "outputs": [
        {
          "output_type": "stream",
          "name": "stdout",
          "text": [
            "Spearman corr of sentiment_abs and favorites = 0.110 (2.368e-125)\n",
            "Significant at 1% level\n"
          ]
        }
      ]
    },
    {
      "cell_type": "code",
      "source": [],
      "metadata": {
        "id": "XPec5hC-SGM-"
      },
      "execution_count": null,
      "outputs": []
    }
  ],
  "metadata": {
    "colab": {
      "provenance": [],
      "toc_visible": true
    },
    "kernelspec": {
      "display_name": "Python 3",
      "name": "python3"
    },
    "language_info": {
      "codemirror_mode": {
        "name": "ipython",
        "version": 3
      },
      "file_extension": ".py",
      "mimetype": "text/x-python",
      "name": "python",
      "nbconvert_exporter": "python",
      "pygments_lexer": "ipython3",
      "version": "3.7.2"
    }
  },
  "nbformat": 4,
  "nbformat_minor": 0
}