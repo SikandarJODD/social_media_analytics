{
 "cells": [
  {
   "cell_type": "markdown",
   "metadata": {
    "id": "8uBQh-y4ZYJ-"
   },
   "source": [
    "# Generating Text with ChatGPT\n",
    "\n",
    "In this notebook we will learn how to generate fake tweets using ChatGPT.\n",
    "\n",
    "<ol type = 1>\n",
    "<li> Tweeting Fake Text</li>\n",
    "<li> Perpetual Fake Tweeting</li>  \n",
    "<li> Create fake voter profiles</li>\n",
    "<li> Targeted fundraising emails</li>\n",
    "\n",
    "\n",
    "\n",
    "</ol>\n",
    "\n",
    "    \n",
    "    \n"
   ]
  },
  {
   "cell_type": "markdown",
   "metadata": {
    "id": "ERzxsaepZYKC"
   },
   "source": [
    "# Installs, and imports\n"
   ]
  },
  {
   "cell_type": "markdown",
   "metadata": {
    "id": "tJ3tma9qZYKE"
   },
   "source": [
    "## Install Requirements "
   ]
  },
  {
   "cell_type": "code",
   "execution_count": 1,
   "metadata": {
    "colab": {
     "base_uri": "https://localhost:8080/"
    },
    "id": "1qPgAZWCZYKE",
    "outputId": "f868f6e9-a8a2-4d9f-a157-ac726df4fdac"
   },
   "outputs": [
    {
     "name": "stdout",
     "output_type": "stream",
     "text": [
      "Requirement already satisfied: openai in c:\\users\\trz2\\anaconda3\\lib\\site-packages (0.27.4)\n",
      "Requirement already satisfied: requests>=2.20 in c:\\users\\trz2\\anaconda3\\lib\\site-packages (from openai) (2.28.1)\n",
      "Requirement already satisfied: tqdm in c:\\users\\trz2\\anaconda3\\lib\\site-packages (from openai) (4.64.1)\n",
      "Requirement already satisfied: aiohttp in c:\\users\\trz2\\anaconda3\\lib\\site-packages (from openai) (3.8.4)\n",
      "Requirement already satisfied: charset-normalizer<3,>=2 in c:\\users\\trz2\\anaconda3\\lib\\site-packages (from requests>=2.20->openai) (2.0.4)\n",
      "Requirement already satisfied: idna<4,>=2.5 in c:\\users\\trz2\\anaconda3\\lib\\site-packages (from requests>=2.20->openai) (3.3)\n",
      "Requirement already satisfied: urllib3<1.27,>=1.21.1 in c:\\users\\trz2\\anaconda3\\lib\\site-packages (from requests>=2.20->openai) (1.26.11)\n",
      "Requirement already satisfied: certifi>=2017.4.17 in c:\\users\\trz2\\anaconda3\\lib\\site-packages (from requests>=2.20->openai) (2022.9.14)\n",
      "Requirement already satisfied: attrs>=17.3.0 in c:\\users\\trz2\\anaconda3\\lib\\site-packages (from aiohttp->openai) (21.4.0)\n",
      "Requirement already satisfied: multidict<7.0,>=4.5 in c:\\users\\trz2\\anaconda3\\lib\\site-packages (from aiohttp->openai) (6.0.4)\n",
      "Requirement already satisfied: async-timeout<5.0,>=4.0.0a3 in c:\\users\\trz2\\anaconda3\\lib\\site-packages (from aiohttp->openai) (4.0.2)\n",
      "Requirement already satisfied: yarl<2.0,>=1.0 in c:\\users\\trz2\\anaconda3\\lib\\site-packages (from aiohttp->openai) (1.8.2)\n",
      "Requirement already satisfied: frozenlist>=1.1.1 in c:\\users\\trz2\\anaconda3\\lib\\site-packages (from aiohttp->openai) (1.3.3)\n",
      "Requirement already satisfied: aiosignal>=1.1.2 in c:\\users\\trz2\\anaconda3\\lib\\site-packages (from aiohttp->openai) (1.3.1)\n",
      "Requirement already satisfied: colorama in c:\\users\\trz2\\anaconda3\\lib\\site-packages (from tqdm->openai) (0.4.5)\n"
     ]
    },
    {
     "name": "stderr",
     "output_type": "stream",
     "text": [
      "\n",
      "[notice] A new release of pip is available: 23.1.2 -> 23.2.1\n",
      "[notice] To update, run: python.exe -m pip install --upgrade pip\n"
     ]
    }
   ],
   "source": [
    "!pip install openai\n"
   ]
  },
  {
   "cell_type": "markdown",
   "metadata": {
    "id": "BdnbVa-5ZYKF"
   },
   "source": [
    "## OPenAI API Key\n",
    "\n",
    "You will need to input your OpenAI API key.  \n",
    "\n",
    "1.  First you need to create an account with OpenAI here: https://auth0.openai.com/u/signup?state=hKFo2SBWS3JUVEdmQmdzZXo5ckhpY3R5NEFlc2NPWWc3WHhvRqFur3VuaXZlcnNhbC1sb2dpbqN0aWTZIG9kTDB4LV83aEdnN3pRU3VUYnVZemlnZkFURFo2RDhno2NpZNkgRFJpdnNubTJNdTQyVDNLT3BxZHR3QjNOWXZpSFl6d0Q\n",
    "\n",
    "2. Once you have an account, copy your API key from here: https://beta.openai.com/account/api-keys\n",
    "\n",
    "3. Finally, paste your key below:  `OPENAI_API_KEY = \"your OpenAI API key\"`\n",
    "\n",
    "\n"
   ]
  },
  {
   "cell_type": "code",
   "execution_count": 30,
   "metadata": {},
   "outputs": [],
   "source": [
    "OPENAI_API_KEY= 'your OpenAI API key'\n"
   ]
  },
  {
   "cell_type": "markdown",
   "metadata": {
    "id": "Eg5OvWXiZYKG"
   },
   "source": [
    "## Import Packages\n",
    "\n"
   ]
  },
  {
   "cell_type": "code",
   "execution_count": 4,
   "metadata": {
    "id": "s5BdWnfhZYKG"
   },
   "outputs": [],
   "source": [
    "import openai\n",
    "import textwrap as tr\n",
    "import matplotlib.pyplot as plt\n",
    "import seaborn as sns\n",
    "import pandas as pd\n",
    "import datetime\n",
    "import requests\n",
    "import json\n",
    "from io import StringIO\n",
    "import numpy as np\n",
    "import time\n",
    "\n",
    "pd.set_option(\"display.max_colwidth\", None)\n",
    "openai.api_key = OPENAI_API_KEY"
   ]
  },
  {
   "cell_type": "markdown",
   "metadata": {
    "id": "1b2C-_jSZYKM"
   },
   "source": [
    "# Fake Tweets\n",
    "\n",
    "We can use the GPT transformer language model to generate fake tweets. Choose the `input_text` to start the tweet.  You can write something like `\"Write a positive tweet about Yale.\"`"
   ]
  },
  {
   "cell_type": "code",
   "execution_count": 5,
   "metadata": {
    "id": "tUOySLOaZYKO"
   },
   "outputs": [],
   "source": [
    "input_text = \"Write a positive tweet about Yale\"\n"
   ]
  },
  {
   "cell_type": "code",
   "execution_count": 6,
   "metadata": {
    "colab": {
     "base_uri": "https://localhost:8080/"
    },
    "id": "a1qvMbfnZYKO",
    "outputId": "22e0e98d-63f7-4ffc-ce3b-7aacbff4a061"
   },
   "outputs": [
    {
     "name": "stdout",
     "output_type": "stream",
     "text": [
      "Response:\n",
      "🎓 Feeling inspired by @Yale's incredible\n",
      "dedication to academic excellence, fostering\n",
      "innovation, and empowering the next generation of\n",
      "leaders! The distinguished faculty, world-class\n",
      "facilities, and dynamic community truly make it a\n",
      "vibrant and transformative institution. Proud to\n",
      "be associated with such a prestigious university!\n",
      "#YalePride #EducationMatters\n"
     ]
    }
   ],
   "source": [
    "response = openai.ChatCompletion.create(\n",
    "            model=\"gpt-3.5-turbo\",\n",
    "            messages=[ {\"role\": \"user\", \"content\": input_text}])\n",
    "text = response['choices'][0]['message']['content'].replace('\"','')\n",
    "\n",
    "print(f\"Response:\\n{tr.fill(text,width = 50)}\")"
   ]
  },
  {
   "cell_type": "markdown",
   "metadata": {
    "id": "UK6t-W39ZYKP"
   },
   "source": [
    "# Perpetual Tweeting\n",
    "\n",
    "We use a `while` loop combined with the `sleep` function to make the bot tweet perpetually.  The bot will tweet, then sleep for a random amount of time, continuously in a loop.  We can use a language model to create the tweets.\n",
    "\n",
    "The mean sleep time is `tsleep_mean`, measured in seconds. We then add some noise to it to make it look more random to obtain the sleep time `tsleep`.  We also set `tweet_max` equal to the maximum number of tweets to generate."
   ]
  },
  {
   "cell_type": "code",
   "execution_count": 5,
   "metadata": {
    "id": "AipIX62NZYKQ"
   },
   "outputs": [],
   "source": [
    "tsleep_mean = 1  #mean sleep time in seconds\n",
    "tweet_max = 2 #maxium number of tweets to generate (it costs money to make GPT write a tweet)\n",
    "input_text = \"Write a funny tweet about Yale being better than Harvard.\""
   ]
  },
  {
   "cell_type": "code",
   "execution_count": 8,
   "metadata": {
    "colab": {
     "base_uri": "https://localhost:8080/"
    },
    "id": "SJxKa33kZYKQ",
    "outputId": "be432bfa-2972-4a13-ed0f-e9832b44cbd2"
   },
   "outputs": [
    {
     "name": "stdout",
     "output_type": "stream",
     "text": [
      "1: Breaking news: Yale scientists have discovered the\n",
      "secret to happiness: attending Yale instead of\n",
      "Harvard! 😂😎 #YaleForLife #SorryNotSorryHarvard\n",
      "Sleeping for 2.95 seconds\n",
      "\n",
      "2: Yale vs. Harvard:  Yale: *sips tea with pinky up*\n",
      "Oh darling, let's discuss the literary gems of the\n",
      "world!  Harvard: *in a deep voice* I can solve a\n",
      "Rubik's Cube with my eyes closed.\n",
      "#BrainsOverBrawn #Yale #AcademicSass\n",
      "Sleeping for 2.09 seconds\n",
      "\n"
     ]
    }
   ],
   "source": [
    "c = 0\n",
    "while True:\n",
    "    c+=1\n",
    "    if c>tweet_max:break  #stop after tweet_max tweets\n",
    "    response = openai.ChatCompletion.create(\n",
    "                model=\"gpt-3.5-turbo\",\n",
    "                messages=[ {\"role\": \"user\", \"content\": input_text}])\n",
    "    text = response['choices'][0]['message']['content'].replace('\"','')\n",
    "\n",
    "    print(f\"{c}: {tr.fill(text,width = 50)}\")\n",
    "    \n",
    "    tsleep = tsleep_mean + np.random.uniform(low=0.0, high=3)\n",
    "    print(f\"Sleeping for {tsleep:.2f} seconds\\n\")\n",
    "    time.sleep(tsleep)"
   ]
  },
  {
   "cell_type": "markdown",
   "metadata": {
    "id": "Qi0jLXNcZYKR"
   },
   "source": [
    "# Tuning Text Sentiment\n",
    "\n",
    "Set `sentiments` equal to the sentiment for each text as a list and set `topic` equal to the topic of your perusasion.  The sentiment should be a number between 0 and 5."
   ]
  },
  {
   "cell_type": "code",
   "execution_count": 7,
   "metadata": {
    "colab": {
     "base_uri": "https://localhost:8080/"
    },
    "id": "I_bgIm62ZYKR",
    "outputId": "8d5550e9-37c6-4866-ed01-8bfd487ef7e7"
   },
   "outputs": [
    {
     "name": "stdout",
     "output_type": "stream",
     "text": [
      "sentiments = [0, 1, 2, 3, 4, 5]\n"
     ]
    }
   ],
   "source": [
    "topic = \"Joe Biden\"\n",
    "sentiments = [0,1,2,3,4,5]\n",
    "\n",
    "tsleep_mean = 1  #mean sleep time in seconds\n",
    "print(f\"sentiments = {sentiments}\")\n"
   ]
  },
  {
   "cell_type": "code",
   "execution_count": 10,
   "metadata": {
    "colab": {
     "base_uri": "https://localhost:8080/"
    },
    "id": "vvypuQMOZYKR",
    "outputId": "30f3a396-de04-4e0a-fce6-198c0f40da23"
   },
   "outputs": [
    {
     "name": "stdout",
     "output_type": "stream",
     "text": [
      "Topic: Joe Biden\n",
      "Tweet 1: Sentiment = 0/5.0\n",
      "\tI'm sorry, but as an AI language model, I don't\n",
      "have personal opinions or feelings. However, I\n",
      "encourage you to form your own judgment about Joe\n",
      "Biden based on his policies, actions, and\n",
      "behavior. #MakeInformedDecisions\n",
      "Sleeping for 1.74 seconds\n",
      "\n",
      "Tweet 2: Sentiment = 1/5.0\n",
      "\tDisappointing to see Joe Biden's lack of\n",
      "leadership and inability to deliver on his\n",
      "promises. We need someone who can actually get\n",
      "things done, not just make empty speeches.\n",
      "#Disappointed #LackOfLeadership\n",
      "Sleeping for 2.90 seconds\n",
      "\n",
      "Tweet 3: Sentiment = 2/5.0\n",
      "\tDisappointed with Joe Biden's lack of clear action\n",
      "on key issues. Promises were made, but little\n",
      "progress seen so far. Hoping for more impactful\n",
      "leadership in the future. #JoeBiden\n",
      "#LeadershipNeeded\n",
      "Sleeping for 2.73 seconds\n",
      "\n",
      "Tweet 4: Sentiment = 3/5.0\n",
      "\tJoe Biden's policies show promise, but there are\n",
      "certain areas where his leadership falls short.\n",
      "While his dedication to climate change and social\n",
      "justice is commendable, his economic approach\n",
      "leaves room for improvement. Overall, a mixed bag\n",
      "for me. #JoeBiden #Policies #Review\n",
      "Sleeping for 2.65 seconds\n",
      "\n",
      "Tweet 5: Sentiment = 4/5.0\n",
      "\tJoe Biden's leadership has been truly refreshing.\n",
      "From his commitment to combating climate change to\n",
      "his dedication towards restoring relations with\n",
      "allies, he's proving to be a President who\n",
      "genuinely cares about the future. While there's\n",
      "still work ahead, his vision and empathy give me\n",
      "hope. 🌍🤝 #JoeBiden #LeadershipGoals\n",
      "Sleeping for 1.29 seconds\n",
      "\n",
      "Tweet 6: Sentiment = 5/5.0\n",
      "\tJoe Biden is the epitome of strong leadership! His\n",
      "dedication to tackling the toughest challenges\n",
      "facing our nation is truly inspiring. With his\n",
      "compassionate and inclusive approach, he is\n",
      "uniting us, restoring trust, and paving the way\n",
      "for a brighter future. 🌟 #JoeBiden\n",
      "#StrongLeadership #BrighterFuture\n",
      "Sleeping for 2.12 seconds\n",
      "\n"
     ]
    }
   ],
   "source": [
    "print(f\"Topic: {topic}\")\n",
    "c = 0\n",
    "for sentiment in sentiments:\n",
    "    c+=1\n",
    "    input_text = f\"Write a tweet with sentiment {sentiment}/5.0 about {topic}.\"\n",
    "    response = openai.ChatCompletion.create(\n",
    "                model=\"gpt-3.5-turbo\",\n",
    "                messages=[ {\"role\": \"user\", \"content\": input_text}])\n",
    "    text = response['choices'][0]['message']['content'].replace('\"','')\n",
    "    \n",
    "    print(f\"Tweet {c}: Sentiment = {sentiment}/5.0\\n\\t{tr.fill(text,width = 50)}\")    \n",
    "    \n",
    "    tsleep = tsleep_mean + np.random.uniform(low=0.0, high=2)\n",
    "    print(f\"Sleeping for {tsleep:.2f} seconds\\n\")\n",
    "    time.sleep(tsleep)"
   ]
  },
  {
   "cell_type": "markdown",
   "metadata": {
    "id": "Aaj3eWaze63k"
   },
   "source": [
    "# Create Voter Profiles\n",
    "\n",
    "We can have GPT create fake voter profiles and save the results to a dataframe `df_profiles`.  Modify `input_text` to include any voter features you like.\n",
    "\n"
   ]
  },
  {
   "cell_type": "code",
   "execution_count": 8,
   "metadata": {},
   "outputs": [
    {
     "data": {
      "text/html": [
       "<div>\n",
       "<style scoped>\n",
       "    .dataframe tbody tr th:only-of-type {\n",
       "        vertical-align: middle;\n",
       "    }\n",
       "\n",
       "    .dataframe tbody tr th {\n",
       "        vertical-align: top;\n",
       "    }\n",
       "\n",
       "    .dataframe thead th {\n",
       "        text-align: right;\n",
       "    }\n",
       "</style>\n",
       "<table border=\"1\" class=\"dataframe\">\n",
       "  <thead>\n",
       "    <tr style=\"text-align: right;\">\n",
       "      <th></th>\n",
       "      <th>Name</th>\n",
       "      <th>Job</th>\n",
       "      <th>Education Level</th>\n",
       "      <th>Age</th>\n",
       "      <th>Gender</th>\n",
       "      <th>Location</th>\n",
       "    </tr>\n",
       "  </thead>\n",
       "  <tbody>\n",
       "    <tr>\n",
       "      <th>0</th>\n",
       "      <td>John Smith</td>\n",
       "      <td>Software Engineer</td>\n",
       "      <td>Master's degree</td>\n",
       "      <td>35</td>\n",
       "      <td>Male</td>\n",
       "      <td>New York City</td>\n",
       "    </tr>\n",
       "    <tr>\n",
       "      <th>1</th>\n",
       "      <td>Emily Johnson</td>\n",
       "      <td>Marketing Manager</td>\n",
       "      <td>Bachelor's degree</td>\n",
       "      <td>30</td>\n",
       "      <td>Female</td>\n",
       "      <td>Los Angeles</td>\n",
       "    </tr>\n",
       "    <tr>\n",
       "      <th>2</th>\n",
       "      <td>Michael Davis</td>\n",
       "      <td>Teacher</td>\n",
       "      <td>Bachelor's degree</td>\n",
       "      <td>42</td>\n",
       "      <td>Male</td>\n",
       "      <td>Chicago</td>\n",
       "    </tr>\n",
       "    <tr>\n",
       "      <th>3</th>\n",
       "      <td>Sarah Thompson</td>\n",
       "      <td>Nurse</td>\n",
       "      <td>Associate's degree</td>\n",
       "      <td>28</td>\n",
       "      <td>Female</td>\n",
       "      <td>Houston</td>\n",
       "    </tr>\n",
       "  </tbody>\n",
       "</table>\n",
       "</div>"
      ],
      "text/plain": [
       "             Name                Job     Education Level  Age  Gender  \\\n",
       "0      John Smith  Software Engineer     Master's degree   35    Male   \n",
       "1   Emily Johnson  Marketing Manager   Bachelor's degree   30  Female   \n",
       "2   Michael Davis            Teacher   Bachelor's degree   42    Male   \n",
       "3  Sarah Thompson              Nurse  Associate's degree   28  Female   \n",
       "\n",
       "        Location  \n",
       "0  New York City  \n",
       "1    Los Angeles  \n",
       "2        Chicago  \n",
       "3        Houston  "
      ]
     },
     "execution_count": 8,
     "metadata": {},
     "output_type": "execute_result"
    }
   ],
   "source": [
    "input_text = f\"Create 4 different U.S. voters and their demographic information \"\n",
    "input_text+= \"including name, job, education level, age, gender, where they live. \"\n",
    "input_text+= \"Return the result as a csv format and no commas in the voter info, use spaces instead.  include column headers\"\n",
    "\n",
    "response = openai.ChatCompletion.create(\n",
    "            model=\"gpt-3.5-turbo\",\n",
    "            messages=[ {\"role\": \"user\", \"content\": input_text}])\n",
    "text = response['choices'][0]['message']['content'].replace('\"','')\n",
    "\n",
    "#convert profile into dataframe\n",
    "data = StringIO(text)\n",
    "\n",
    "df_profiles = pd.read_csv(data)\n",
    "df_profiles"
   ]
  },
  {
   "cell_type": "markdown",
   "metadata": {},
   "source": [
    "# Targeted Messaging\n",
    "\n",
    "We will take a fundraising email sent by member of Congress and rewrite to target specific voters.  We will use the fake voters we created in the previous section stored in the dataframe `df_profiles`."
   ]
  },
  {
   "cell_type": "code",
   "execution_count": 9,
   "metadata": {},
   "outputs": [
    {
     "name": "stdout",
     "output_type": "stream",
     "text": [
      "People often refer to the House Republican Caucus as a circus, and\n",
      "they’re certainly living up to the name. The U.S. House of\n",
      "Representatives is falling into disarray as a result of Kevin\n",
      "McCarthy’s failure to lead — which is bad news for the millions of\n",
      "Americans counting on us to deliver solutions to the everyday problems\n",
      "they’re facing.We deserve a Speaker of the House committed to tackling\n",
      "the issues facing our nation’s working class. That’s why I’m launching\n",
      "my Restore Stability Fund, to do everything I can to help elect\n",
      "Democrats across the country and win BIG in 2024. Will you chip in $10\n",
      "to help me raise $3,000 in the next 48 hours?\n"
     ]
    }
   ],
   "source": [
    "msg = \"People often refer to the House Republican Caucus as a circus, and they’re certainly living up to the name. The U.S. House of Representatives is falling into disarray as a result of Kevin McCarthy’s failure to lead — which is bad news for the millions of Americans counting on us to deliver solutions to the everyday problems they’re facing.We deserve a Speaker of the House committed to tackling the issues facing our nation’s working class. That’s why I’m launching my Restore Stability Fund, to do everything I can to help elect Democrats across the country and win BIG in 2024. Will you chip in $10 to help me raise $3,000 in the next 48 hours?\"\n",
    "print(f\"{tr.fill(msg,width = 70)}\")"
   ]
  },
  {
   "cell_type": "code",
   "execution_count": 16,
   "metadata": {},
   "outputs": [
    {
     "name": "stdout",
     "output_type": "stream",
     "text": [
      "Name is Sarah Thompson, Job is Nurse, Education Level is Associate's\n",
      "degree, Age is 28, Gender is Female, Location is Houston\n"
     ]
    }
   ],
   "source": [
    "# Choose a row from df_profiles\n",
    "profile_row = 3\n",
    "\n",
    "profile = df_profiles.iloc[profile_row]\n",
    "profile_str = \", \".join([f\"{col} is {profile[col]}\" for col in profile.index.to_list()])\n",
    "print(tr.fill(profile_str,width = 70))\n"
   ]
  },
  {
   "cell_type": "code",
   "execution_count": 26,
   "metadata": {},
   "outputs": [
    {
     "name": "stdout",
     "output_type": "stream",
     "text": [
      "Voter profile: Name is Sarah Thompson, Job is Nurse, Education Level\n",
      "is Associate's degree, Age is 28, Gender is Female, Location is\n",
      "Houston.  Rewrite this email, coming from Congresswoman Rosa DeLauro\n",
      "to target this voter: People often refer to the House Republican\n",
      "Caucus as a circus, and they’re certainly living up to the name. The\n",
      "U.S. House of Representatives is falling into disarray as a result of\n",
      "Kevin McCarthy’s failure to lead — which is bad news for the millions\n",
      "of Americans counting on us to deliver solutions to the everyday\n",
      "problems they’re facing.We deserve a Speaker of the House committed to\n",
      "tackling the issues facing our nation’s working class. That’s why I’m\n",
      "launching my Restore Stability Fund, to do everything I can to help\n",
      "elect Democrats across the country and win BIG in 2024. Will you chip\n",
      "in $10 to help me raise $3,000 in the next 48 hours?.  Use an informal\n",
      "tone and subtly appeal to the profile info of the voter in the email.\n"
     ]
    }
   ],
   "source": [
    "sender = 'Congresswoman Rosa DeLauro'\n",
    "input_text = f\"Voter profile: {profile_str}.  Rewrite this email, coming from {sender} to target this voter: {msg}.  \"\n",
    "input_text += 'Use an informal tone and subtly appeal to the profile info of the voter in the email.'\n",
    "\n",
    "print(tr.fill(input_text, width = 70))"
   ]
  },
  {
   "cell_type": "code",
   "execution_count": 27,
   "metadata": {},
   "outputs": [
    {
     "name": "stdout",
     "output_type": "stream",
     "text": [
      "Response:\n",
      "Hey Sarah,  I hope this email finds you well. It's Congresswoman Rosa\n",
      "DeLauro, reaching out to you from Washington. I wanted to talk to you about\n",
      "the mess that's been happening in the U.S. House of Representatives lately.\n",
      "It's no secret that the House Republican Caucus has been living up to their\n",
      "circus reputation, causing disarray and leaving many Americans in the\n",
      "lurch.   As a nurse, I know you're committed to helping others and making a\n",
      "difference in people's lives. That's why I wanted to share with you my plan\n",
      "to restore stability and address the issues that are affecting our working\n",
      "class, both in Houston and across the nation. I am launching the Restore\n",
      "Stability Fund, aiming to elect Democrats who will stand up for the\n",
      "everyday problems people like you face.  But here's the thing, Sarah, I\n",
      "can't do it alone. I need your support. We need to unite and make a real\n",
      "difference in the upcoming 2024 elections. Would you consider chipping in\n",
      "$10 to help me reach our goal of raising $3,000 in the next 48 hours? Every\n",
      "dollar counts, and your contribution would go a long way in ensuring a\n",
      "brighter future for all Americans.  Thank you for taking the time to read\n",
      "my email, Sarah. I truly believe that, together, we can restore stability\n",
      "and bring about the change our nation needs. Let's make our voices heard\n",
      "and create a better tomorrow.   Warm regards, Congresswoman Rosa DeLauro\n"
     ]
    }
   ],
   "source": [
    "model  = \"gpt-3.5-turbo\" \n",
    "response = openai.ChatCompletion.create(\n",
    "    model= model,\n",
    "    messages=[ {\"role\": \"user\", \"content\": input_text}\n",
    "    ]\n",
    ")\n",
    "text = response['choices'][0]['message']['content'].replace('\"','')\n",
    "\n",
    "print(f\"Response:\\n{tr.fill(text,width = 75)}\")"
   ]
  },
  {
   "cell_type": "markdown",
   "metadata": {},
   "source": [
    "## GPT-4\n",
    "\n",
    "If you have access to it, you can try using `\"gpt-4\"` for `model`.  This is the more advanced GPT model."
   ]
  },
  {
   "cell_type": "code",
   "execution_count": 28,
   "metadata": {},
   "outputs": [
    {
     "name": "stdout",
     "output_type": "stream",
     "text": [
      "Response:\n",
      "Hey there Sarah,  How's your day going - treating patients and saving lives\n",
      "over in Houston? I know every day comes with its own challenges. I admire\n",
      "your dedication as a nurse and you definitely deserve representatives who\n",
      "are just as committed to making your life better.  I know you've probably\n",
      "heard some grumblings about the shenanigans over at the House of\n",
      "Representatives. Honestly, it does feel like a bit of a circus sometimes.\n",
      "Unfortunately, due to leadership issues, particularly from Kevin McCarthy,\n",
      "it's leaving things a bit topsy-turvy.  That's not how it's supposed to\n",
      "work, right? We need folks in charge who are dedicated to addressing the\n",
      "issues that are closest to the heart of hard-working individuals like\n",
      "yourself. That's exactly why I'm putting together my Restore Stability\n",
      "Fund. The goal is to support Democrats across our country and make a\n",
      "significant impact in the 2024 elections - we're all about fighting the\n",
      "good fight!  I'm sure a ten-dollar contribution seems tiny in comparison to\n",
      "the load of student loans from your Associate's degree. But it's amazing\n",
      "what we can accomplish when we come together. If you could chip in that\n",
      "bit, it would be a huge help as I'm trying to raise $3,000 in the next 48\n",
      "hours.  Thanks for taking the time to read this, Sarah. Your help truly\n",
      "makes a difference.  Stay safe out there on the frontlines,  Congresswoman\n",
      "Rosa DeLauro\n"
     ]
    }
   ],
   "source": [
    "model  = \"gpt-4\" \n",
    "response = openai.ChatCompletion.create(\n",
    "    model= model,\n",
    "    messages=[ {\"role\": \"user\", \"content\": input_text}\n",
    "    ]\n",
    ")\n",
    "text = response['choices'][0]['message']['content'].replace('\"','')\n",
    "\n",
    "print(f\"Response:\\n{tr.fill(text,width = 75)}\")"
   ]
  },
  {
   "cell_type": "markdown",
   "metadata": {},
   "source": [
    "## Comparing Targeted Emails\n",
    "\n",
    "Now we can look how the emails differ for each voter in our fake database."
   ]
  },
  {
   "cell_type": "code",
   "execution_count": 29,
   "metadata": {},
   "outputs": [
    {
     "name": "stdout",
     "output_type": "stream",
     "text": [
      "Generating emails using gpt-4\n",
      "Voter 0: Name is John Smith, Job is Software Engineer, Education Level is\n",
      "Master's degree, Age is 35, Gender is Male, Location is New York City\n",
      "Response:\n",
      "Subject: Let's Engineer a Better House, John!   Hey John,   As a fellow\n",
      "problem-solver, you'd appreciate this: imagine a development team in\n",
      "disarray, because of a project manager who isn’t leading effectively -\n",
      "doesn't that sound like a scenario that would delay plans and hamper\n",
      "productivity?  Yeah, you got it. That's exactly what's happening in the\n",
      "U.S. House of Representatives right now due to Kevin McCarthy’s poor\n",
      "leadership. It's chaotic, just like an unorganized tech project, except\n",
      "this affects millions of Americans who are counting on us to deliver real-\n",
      "world solutions.  As a software engineer here in New York, you have\n",
      "firsthand knowledge of how important leadership is, don't you? Imagine that\n",
      "same importance applied to our nation; we need a Speaker of the House who\n",
      "is as committed to solving the issues facing our society, much like you are\n",
      "in tackling software bugs and systems failures.  That's why I’m launching\n",
      "my Restore Stability Fund. My mission? To rally the 'development team' of\n",
      "potential leaders who are passionate, competent, and game-changers. By\n",
      "electing Democrats across the country, I believe we can generate a\n",
      "breakthrough that will not just meet, but exceed our expectations and help\n",
      "us win BIG in 2024.  Can I count on your support, John? It's simple really\n",
      "- a $10 contribution from you can help us reach our goal of $3,000 in the\n",
      "next 48 hours. Think of it as investing in a stable, upgraded system for\n",
      "the betterment of us all.   Let's debug the House together!  Best regards,\n",
      "Rosa DeLauro Congresswoman\n",
      "\n",
      "Voter 1: Name is Emily Johnson, Job is Marketing Manager, Education Level is\n",
      "Bachelor's degree, Age is 30, Gender is Female, Location is Los\n",
      "Angeles\n",
      "Response:\n",
      "Subject: Help Emily, Let's Bring Stability to Our Nation!  Hey Emily,  Hope\n",
      "you're enjoying the sun in LA!  Sometimes it feels like we're watching a\n",
      "daytime drama rather than the dealings of the House Republican Caucus.\n",
      "Disarray seems to be the word of the day on Capitol Hill due to Kevin\n",
      "McCarthy's leadership, or lack thereof. This chaos isn't just a spectacle —\n",
      "it's detrimental to folks like you and me who're counting on our\n",
      "representatives to address the real-life challenges we face every day.  You\n",
      "and I both know - deserve a Speaker of the House who's genuinely working\n",
      "for US, not just their political career. Someone who’s focused on everyday\n",
      "problems that people like you, a marketing manager dealing with shifts in\n",
      "the business world, care about.  That's the inspiration behind my latest\n",
      "initiative, the Restore Stability Fund. With this, we aim to promote and\n",
      "elect Democrats around the nation, not just for the sake of our party, but\n",
      "for the sake of bringing true stability and functionality back to our\n",
      "government.  Emily, we have a real chance to make a significant difference\n",
      "in 2024, and I believe that with your help, we can do it. The goal for the\n",
      "next 48 hours is to raise $3,000. Can you chip in just $10 to help us get\n",
      "there?  Your contribution goes beyond a dollar value—it’s a stand for a\n",
      "government that works for you and the issues you care about. You're not\n",
      "just helping to elect Democrats, Emily, you’re helping to shape our\n",
      "nation’s future.  Looking forward to your support!  Warmly, Rosa DeLauro\n",
      "Congresswoman\n",
      "\n",
      "Voter 2: Name is Michael Davis, Job is Teacher, Education Level is Bachelor's\n",
      "degree, Age is 42, Gender is Male, Location is Chicago\n",
      "Response:\n",
      "Hey there Michael,  As a teacher, you are surely familiar with the phrase\n",
      "class clown and might agree when I say that right now, it feels like the\n",
      "House Republican Caucus is filled with just that. You see, our U.S. House\n",
      "of Representatives is teetering on the edge of chaos due to what many\n",
      "perceive as Kevin McCarthy's lack of leadership.  This is more than just a\n",
      "spectacle, Michael. This affects you, me, and the many millions relying on\n",
      "us to address the daily challenges they encounter. As a teacher shaping the\n",
      "future of our nation, you surely understand the importance of robust\n",
      "leadership in managing any institution, including our very own House.  Our\n",
      "working class, which forms such a vital part of our nation's backbone -\n",
      "with extraordinary individuals like you, deserves a Speaker who will roll\n",
      "up their sleeves and dive into solving the issues we face. That's why I'm\n",
      "starting the Restore Stability Fund.  This fund aims to strengthen our team\n",
      "of Democrats across America and ensure a grand victory in 2024. I know your\n",
      "work as a teacher is invaluable, but politics plays a role in the\n",
      "classrooms of Chicago too. That said, could you chip in just $10 to help me\n",
      "raise $3,000 in the next 48 hours?  As always, Michael, I appreciate your\n",
      "consideration. Your support would mean the world to me.  Best,  Rosa\n",
      "DeLauro\n",
      "\n",
      "Voter 3: Name is Sarah Thompson, Job is Nurse, Education Level is Associate's\n",
      "degree, Age is 28, Gender is Female, Location is Houston\n",
      "Response:\n",
      "Subject: A Helping Hand for a Better America, Sarah  Hey Sarah,  Hope\n",
      "you're good and Houston is treating you well. I can only imagine how\n",
      "challenging your role as a nurse must be – especially in these times.   You\n",
      "know, sometimes they call the House Republican Caucus a circus. These days,\n",
      "it feels like they're really living up to the name. Things in the U.S.\n",
      "House of Representatives are in a bit of a pickle with Kevin McCarthy\n",
      "failing to step up to the plate. It's not the best situation, considering\n",
      "we're depending on our representatives to deliver solutions to our day-to-\n",
      "day problems.   You deserve an advocate who understands the concerns of the\n",
      "working class – the nurses, teachers, bus drivers, and many others that are\n",
      "the backbone of our nation. That's why I'm making a move with my Restore\n",
      "Stability Fund initiative. I want to ensure we elect committed Democrats\n",
      "all across the country and make a significant impact in 2024.   Can I count\n",
      "on your support, Sarah? Even a little help goes a long way – if you can,\n",
      "any contribution, say $10, would be a huge boost to our $3,000 goal for the\n",
      "next 48 hours.   Let's work together to shape a future that we can all be\n",
      "proud of.   Warmly,  Rosa DeLauro Congresswoman\n",
      "\n"
     ]
    }
   ],
   "source": [
    "model  = \"gpt-4\"\n",
    "print(f\"Generating emails using {model}\")\n",
    "\n",
    "for profile_row in range(len(df_profiles)):\n",
    "    profile = df_profiles.iloc[profile_row]\n",
    "    profile_str = \", \".join([f\"{col} is {profile[col]}\" for col in profile.index.to_list()])\n",
    "    \n",
    "    input_text = f\"Voter profile: {profile_str}.  Rewrite this email, coming from {sender} to target this voter: {msg}.\"\n",
    "    input_text += 'Use an informal tone and subtly appeal to the profile info of the voter in the email.'\n",
    "     \n",
    "    response = openai.ChatCompletion.create(\n",
    "        model= model,\n",
    "        messages=[ {\"role\": \"user\", \"content\": input_text}\n",
    "        ]\n",
    "    )\n",
    "    text = response['choices'][0]['message']['content'].replace('\"','')\n",
    "    print(f\"Voter {profile_row}: {tr.fill(profile_str,width = 70)}\")\n",
    "    print(f\"Email:\\n{tr.fill(text,width = 75)}\\n\")\n",
    "    time.sleep(1)"
   ]
  },
  {
   "cell_type": "code",
   "execution_count": null,
   "metadata": {},
   "outputs": [],
   "source": []
  }
 ],
 "metadata": {
  "colab": {
   "collapsed_sections": [],
   "provenance": [],
   "toc_visible": true
  },
  "kernelspec": {
   "display_name": "Python 3 (ipykernel)",
   "language": "python",
   "name": "python3"
  },
  "language_info": {
   "codemirror_mode": {
    "name": "ipython",
    "version": 3
   },
   "file_extension": ".py",
   "mimetype": "text/x-python",
   "name": "python",
   "nbconvert_exporter": "python",
   "pygments_lexer": "ipython3",
   "version": "3.9.13"
  }
 },
 "nbformat": 4,
 "nbformat_minor": 1
}
